{
 "cells": [
  {
   "cell_type": "code",
   "execution_count": 10,
   "id": "cac9db71-039e-4d0f-9ff8-14946a5555c2",
   "metadata": {},
   "outputs": [
    {
     "name": "stdout",
     "output_type": "stream",
     "text": [
      "Requirement already satisfied: numpy<2.0.0 in /opt/anaconda3/lib/python3.12/site-packages (1.26.4)\n",
      "Note: you may need to restart the kernel to use updated packages.\n"
     ]
    }
   ],
   "source": [
    "%pip install \"numpy<2.0.0\""
   ]
  },
  {
   "cell_type": "code",
   "execution_count": 1,
   "id": "e90b23d1-f2eb-4811-99b2-2c9a7213b0b7",
   "metadata": {},
   "outputs": [
    {
     "name": "stdout",
     "output_type": "stream",
     "text": [
      "Collecting numpy<2.0.0\n",
      "  Using cached numpy-1.26.4-cp312-cp312-macosx_11_0_arm64.whl.metadata (61 kB)\n",
      "Using cached numpy-1.26.4-cp312-cp312-macosx_11_0_arm64.whl (13.7 MB)\n",
      "Installing collected packages: numpy\n",
      "  Attempting uninstall: numpy\n",
      "    Found existing installation: numpy 2.3.0\n",
      "    Uninstalling numpy-2.3.0:\n",
      "      Successfully uninstalled numpy-2.3.0\n",
      "\u001b[31mERROR: pip's dependency resolver does not currently take into account all the packages that are installed. This behaviour is the source of the following dependency conflicts.\n",
      "devito 4.8.19 requires numpy<2.3.1,>=2, but you have numpy 1.26.4 which is incompatible.\u001b[0m\u001b[31m\n",
      "\u001b[0mSuccessfully installed numpy-1.26.4\n",
      "Note: you may need to restart the kernel to use updated packages.\n"
     ]
    }
   ],
   "source": [
    "%pip install --upgrade \"numpy<2.0.0\""
   ]
  },
  {
   "cell_type": "code",
   "execution_count": 1,
   "id": "da363725-6e6a-48e3-9435-3e7b87c0d9df",
   "metadata": {},
   "outputs": [],
   "source": [
    "import os\n",
    "import sys\n",
    "from glob import glob\n",
    "import numpy as np\n",
    "import matplotlib.pyplot as plt\n",
    "#from anytree import Node, RenderTree\n",
    "from typing import Dict, List\n",
    "import pandas as pd\n",
    "import numpy as np\n",
    "import torch\n",
    "from torch.utils.data import Dataset\n",
    "from torch.utils.data import DataLoader\n",
    "import torch.nn as nn\n",
    "from torchvision import models\n",
    "from torch.nn.functional import relu\n",
    "import torch.nn.functional as F\n",
    "from utils import calculate_mape, calculate_score\n",
    "import torch.optim as optim\n",
    "from tqdm import tqdm\n",
    "from sklearn.model_selection import KFold\n",
    "#from utils import *\n",
    "from utils import create_submission"
   ]
  },
  {
   "cell_type": "code",
   "execution_count": 3,
   "id": "d4f33aab-cc9e-4b8c-a0d0-f4fbb01036f6",
   "metadata": {},
   "outputs": [],
   "source": [
    "folders = [\n",
    "    '../data/speed-and-structure-train-data/*',\n",
    "    '../data/speed-and-structure-train-data-extended-part1/*',\n",
    "    '../data/speed-and-structure-train-data-extended-part2/*'\n",
    "]"
   ]
  },
  {
   "cell_type": "code",
   "execution_count": 5,
   "id": "94f823c2-9756-47cf-940c-a61e9c920606",
   "metadata": {},
   "outputs": [
    {
     "name": "stdout",
     "output_type": "stream",
     "text": [
      "Total samples found: 4999\n"
     ]
    }
   ],
   "source": [
    "sample_paths = []\n",
    "for folder in folders:\n",
    "    sample_paths.extend(glob(folder))\n",
    "\n",
    "print(f\"Total samples found: {len(sample_paths)}\")"
   ]
  },
  {
   "cell_type": "markdown",
   "id": "2bd679a4-dc18-4a11-bba9-d7a0253498b9",
   "metadata": {},
   "source": [
    "# Creating a Pytorch Dataset"
   ]
  },
  {
   "cell_type": "code",
   "execution_count": 8,
   "id": "a8beafb9-8675-4ccd-921c-3a360ac30647",
   "metadata": {},
   "outputs": [],
   "source": [
    "class SeismicInversionDataset(Dataset):\n",
    "    def __init__(self, sample_paths, downsample_factor=3):\n",
    "        self.sample_paths = sample_paths\n",
    "        self.downsample_factor = downsample_factor\n",
    "\n",
    "    def __len__(self):\n",
    "        return len(self.sample_paths)\n",
    "\n",
    "    def __getitem__(self, idx):\n",
    "        sample_path = self.sample_paths[idx]\n",
    "        \n",
    "        # Load and stack the 5 receiver data files\n",
    "        input_stack = []\n",
    "        for i in [1, 75, 150, 225, 300]:\n",
    "            file_path = os.path.join(sample_path, f\"receiver_data_src_{i}.npy\")\n",
    "            data = np.load(file_path).astype(np.float32)  # shape: (10001, 31)\n",
    "            data = data[::self.downsample_factor]         # downsample time axis, e.g., to ~250\n",
    "            input_stack.append(data)\n",
    "\n",
    "        input_tensor = np.stack(input_stack, axis=0)  # shape: (5, T, 31)\n",
    "        input_tensor = torch.from_numpy(input_tensor)\n",
    "\n",
    "        # Load target velocity model\n",
    "        target_path = os.path.join(sample_path, \"vp_model.npy\")\n",
    "        target = np.load(target_path).astype(np.float32)  # shape: (300, 1259)\n",
    "        target_tensor = torch.from_numpy(target).unsqueeze(0)  # shape: (1, 300, 1259)\n",
    "\n",
    "        return input_tensor, target_tensor"
   ]
  },
  {
   "cell_type": "code",
   "execution_count": 10,
   "id": "e921bf75-fb93-42ea-b8b1-b42017e87ace",
   "metadata": {},
   "outputs": [
    {
     "name": "stdout",
     "output_type": "stream",
     "text": [
      "Input: torch.Size([4, 5, 3334, 31])\n",
      "Target: torch.Size([4, 1, 300, 1259])\n"
     ]
    }
   ],
   "source": [
    "dataset = SeismicInversionDataset(sample_paths)\n",
    "loader = DataLoader(dataset, batch_size=4, shuffle=True)\n",
    "\n",
    "for x, y in loader:\n",
    "    print(\"Input:\", x.shape)    \n",
    "    print(\"Target:\", y.shape)   \n",
    "    break"
   ]
  },
  {
   "cell_type": "markdown",
   "id": "0e70183b-10b9-4818-847e-527c0ac4f0eb",
   "metadata": {},
   "source": [
    "# Visualizing a sample"
   ]
  },
  {
   "cell_type": "code",
   "execution_count": 13,
   "id": "967bdb34-e5e7-4a45-be32-3294b7a6b1f4",
   "metadata": {},
   "outputs": [
    {
     "data": {
      "image/png": "[encoded data removed]",
      "text/plain": [
       "<Figure size 1800x400 with 6 Axes>"
      ]
     },
     "metadata": {},
     "output_type": "display_data"
    }
   ],
   "source": [
    "sample_path = sample_paths[0]\n",
    "source_coordinates = [1, 75, 150, 225, 300]\n",
    "\n",
    "# Create a 1x6 subplot: 5 for receiver data, 1 for velocity model\n",
    "f, ax = plt.subplots(1, 6, figsize=(18, 4))\n",
    "\n",
    "# Plot receiver data for each source\n",
    "for i, s in enumerate(source_coordinates):\n",
    "    rec_data = np.load(os.path.join(sample_path, f\"receiver_data_src_{s}.npy\"))\n",
    "    ax[i].imshow(rec_data, cmap=\"gray\", aspect=\"auto\")\n",
    "    ax[i].set_title(f\"Source {s}\")\n",
    "    ax[i].axis(\"off\")\n",
    "\n",
    "# Plot the velocity model (transpose for correct orientation)\n",
    "target_data = np.load(os.path.join(sample_path, \"vp_model.npy\"))\n",
    "ax[5].imshow(target_data.T, cmap=\"jet\", aspect=\"auto\")\n",
    "ax[5].set_title(\"Velocity Model\")\n",
    "ax[5].axis(\"off\")\n",
    "\n",
    "plt.tight_layout()\n",
    "plt.show()"
   ]
  },
  {
   "cell_type": "markdown",
   "id": "82f13092-5116-4163-be8d-73a7db4f0822",
   "metadata": {},
   "source": [
    "# Baseline UNET "
   ]
  },
  {
   "cell_type": "code",
   "execution_count": 19,
   "id": "658f5ea7-5e89-44d6-a5f8-d332fb8d882b",
   "metadata": {},
   "outputs": [],
   "source": [
    "class conv_block(nn.Module):\n",
    "    def __init__(self,in_c,out_c):\n",
    "        super().__init__()\n",
    "        self.conv = nn.Sequential(\n",
    "            nn.Conv2d(in_c,out_c,kernel_size=3,padding=1),\n",
    "            nn.BatchNorm2d(out_c),\n",
    "            nn.ReLU(inplace=True),\n",
    "            nn.Conv2d(out_c,out_c,kernel_size=3,padding=1),\n",
    "            nn.BatchNorm2d(out_c),\n",
    "            nn.ReLU(inplace=True)\n",
    "        )\n",
    "    def forward(self,x):\n",
    "        return self.conv(x)\n",
    "\n",
    "class encoder_block(nn.Module):\n",
    "    def __init__(self,in_c,out_c):\n",
    "        super().__init__()\n",
    "        self.conv=conv_block(in_c,out_c)\n",
    "        self.pool = nn.MaxPool2d(kernel_size=2,stride=2)\n",
    "    def forward(self,x):\n",
    "        x = self.conv(x)\n",
    "        p = self.pool(x)\n",
    "        return x,p\n",
    "\n",
    "class decoder_block(nn.Module):\n",
    "    def __init__(self,in_c,out_c):\n",
    "        super().__init__()\n",
    "        self.up = nn.ConvTranspose2d(in_c, out_c, kernel_size=2, stride=2)\n",
    "        self.conv=conv_block(in_c,out_c)\n",
    "    def forward(self,x,skip):\n",
    "        x = self.up(x)\n",
    "        #Matching sizes if needed\n",
    "        if x.shape[2:]!=skip.shape[2:]:\n",
    "            x = F.interpolate(x, size=skip.shape[2:], mode=\"bilinear\", align_corners=False)\n",
    "        x = torch.cat([x,skip],dim=1)\n",
    "        x = self.conv(x)\n",
    "        return x\n",
    "        \n",
    "        "
   ]
  },
  {
   "cell_type": "code",
   "execution_count": 21,
   "id": "6f296a48-15ad-4b89-8de7-3127cd2356ff",
   "metadata": {},
   "outputs": [],
   "source": [
    "class UNet(nn.Module):\n",
    "    def __init__(self, in_channels=5, out_channels=1):\n",
    "        super().__init__()\n",
    "        self.e1 = encoder_block(in_channels,64)\n",
    "        self.e2 = encoder_block(64,128)\n",
    "        self.e3 = encoder_block(128,256)\n",
    "        self.e4 = encoder_block(256,512)\n",
    "\n",
    "        self.b = conv_block(512, 1024)\n",
    "\n",
    "        self.d1 = decoder_block(1024, 512)\n",
    "        self.d2 = decoder_block(512, 256)\n",
    "        self.d3 = decoder_block(256, 128)\n",
    "        self.d4 = decoder_block(128, 64)\n",
    "\n",
    "        self.outputs = nn.Conv2d(64, out_channels, kernel_size=1)\n",
    "\n",
    "    def forward(self,inputs):\n",
    "        \"\"\" Encoder \"\"\"\n",
    "        s1, p1 = self.e1(inputs)\n",
    "        s2, p2 = self.e2(p1)\n",
    "        s3, p3 = self.e3(p2)\n",
    "        s4, p4 = self.e4(p3)\n",
    "\n",
    "        \"\"\" Bottleneck \"\"\"\n",
    "        b = self.b(p4)\n",
    "\n",
    "        \"\"\" Decoder \"\"\"\n",
    "        d1 = self.d1(b, s4)\n",
    "        d2 = self.d2(d1, s3)\n",
    "        d3 = self.d3(d2, s2)\n",
    "        d4 = self.d4(d3, s1)\n",
    "\n",
    "        \"\"\" Classifier \"\"\"\n",
    "        outputs = self.outputs(d4)\n",
    "        return outputs"
   ]
  },
  {
   "cell_type": "markdown",
   "id": "22b5ae84-4caf-4e92-86dd-448c48865edf",
   "metadata": {},
   "source": [
    "# Training the model"
   ]
  },
  {
   "cell_type": "code",
   "execution_count": 30,
   "id": "4c9831e0-26ce-4d43-b7b0-ef13521870e8",
   "metadata": {},
   "outputs": [],
   "source": [
    "train_dataset = SeismicInversionDataset(sample_paths)\n",
    "train_loader = DataLoader(train_dataset, batch_size=4, shuffle=True)\n",
    "\n",
    "# Create model\n",
    "device = torch.device(\"mps\" if torch.backends.mps.is_available() else \"cpu\")\n",
    "model = UNet(in_channels=5, out_channels=1).to(device)\n",
    "\n",
    "# Loss and optimizer\n",
    "loss_func = nn.L1Loss()  \n",
    "optimizer = optim.Adam(model.parameters(), lr=1e-4)"
   ]
  },
  {
   "cell_type": "code",
   "execution_count": 88,
   "id": "8ef49ecc-3ed2-445f-8878-74acb0d91635",
   "metadata": {},
   "outputs": [
    {
     "name": "stderr",
     "output_type": "stream",
     "text": [
      "Epoch 1/20: 100%|█████████████████████████████| 500/500 [03:57<00:00,  2.10it/s]\n"
     ]
    },
    {
     "name": "stdout",
     "output_type": "stream",
     "text": [
      "Epoch [1/20] - Loss: 1.0965\n"
     ]
    },
    {
     "name": "stderr",
     "output_type": "stream",
     "text": [
      "Epoch 2/20: 100%|█████████████████████████████| 500/500 [04:32<00:00,  1.83it/s]\n"
     ]
    },
    {
     "name": "stdout",
     "output_type": "stream",
     "text": [
      "Epoch [2/20] - Loss: 0.2397\n"
     ]
    },
    {
     "name": "stderr",
     "output_type": "stream",
     "text": [
      "Epoch 3/20: 100%|█████████████████████████████| 500/500 [04:12<00:00,  1.98it/s]\n"
     ]
    },
    {
     "name": "stdout",
     "output_type": "stream",
     "text": [
      "Epoch [3/20] - Loss: 0.1468\n"
     ]
    },
    {
     "name": "stderr",
     "output_type": "stream",
     "text": [
      "Epoch 4/20: 100%|█████████████████████████████| 500/500 [04:09<00:00,  2.00it/s]\n"
     ]
    },
    {
     "name": "stdout",
     "output_type": "stream",
     "text": [
      "Epoch [4/20] - Loss: 0.1370\n"
     ]
    },
    {
     "name": "stderr",
     "output_type": "stream",
     "text": [
      "Epoch 5/20: 100%|█████████████████████████████| 500/500 [04:12<00:00,  1.98it/s]\n"
     ]
    },
    {
     "name": "stdout",
     "output_type": "stream",
     "text": [
      "Epoch [5/20] - Loss: 0.1272\n"
     ]
    },
    {
     "name": "stderr",
     "output_type": "stream",
     "text": [
      "Epoch 6/20: 100%|█████████████████████████████| 500/500 [04:06<00:00,  2.03it/s]\n"
     ]
    },
    {
     "name": "stdout",
     "output_type": "stream",
     "text": [
      "Epoch [6/20] - Loss: 0.1151\n"
     ]
    },
    {
     "name": "stderr",
     "output_type": "stream",
     "text": [
      "Epoch 7/20: 100%|█████████████████████████████| 500/500 [04:00<00:00,  2.08it/s]\n"
     ]
    },
    {
     "name": "stdout",
     "output_type": "stream",
     "text": [
      "Epoch [7/20] - Loss: 0.1104\n"
     ]
    },
    {
     "name": "stderr",
     "output_type": "stream",
     "text": [
      "Epoch 8/20: 100%|█████████████████████████████| 500/500 [04:01<00:00,  2.07it/s]\n"
     ]
    },
    {
     "name": "stdout",
     "output_type": "stream",
     "text": [
      "Epoch [8/20] - Loss: 0.1051\n"
     ]
    },
    {
     "name": "stderr",
     "output_type": "stream",
     "text": [
      "Epoch 9/20: 100%|█████████████████████████████| 500/500 [04:03<00:00,  2.05it/s]\n"
     ]
    },
    {
     "name": "stdout",
     "output_type": "stream",
     "text": [
      "Epoch [9/20] - Loss: 0.1040\n"
     ]
    },
    {
     "name": "stderr",
     "output_type": "stream",
     "text": [
      "Epoch 10/20: 100%|████████████████████████████| 500/500 [04:06<00:00,  2.03it/s]\n"
     ]
    },
    {
     "name": "stdout",
     "output_type": "stream",
     "text": [
      "Epoch [10/20] - Loss: 0.1041\n"
     ]
    },
    {
     "name": "stderr",
     "output_type": "stream",
     "text": [
      "Epoch 11/20: 100%|████████████████████████████| 500/500 [04:04<00:00,  2.05it/s]\n"
     ]
    },
    {
     "name": "stdout",
     "output_type": "stream",
     "text": [
      "Epoch [11/20] - Loss: 0.0989\n"
     ]
    },
    {
     "name": "stderr",
     "output_type": "stream",
     "text": [
      "Epoch 12/20: 100%|████████████████████████████| 500/500 [04:07<00:00,  2.02it/s]\n"
     ]
    },
    {
     "name": "stdout",
     "output_type": "stream",
     "text": [
      "Epoch [12/20] - Loss: 0.0987\n"
     ]
    },
    {
     "name": "stderr",
     "output_type": "stream",
     "text": [
      "Epoch 13/20: 100%|████████████████████████████| 500/500 [04:09<00:00,  2.00it/s]\n"
     ]
    },
    {
     "name": "stdout",
     "output_type": "stream",
     "text": [
      "Epoch [13/20] - Loss: 0.0985\n"
     ]
    },
    {
     "name": "stderr",
     "output_type": "stream",
     "text": [
      "Epoch 14/20: 100%|████████████████████████████| 500/500 [04:10<00:00,  1.99it/s]\n"
     ]
    },
    {
     "name": "stdout",
     "output_type": "stream",
     "text": [
      "Epoch [14/20] - Loss: 0.0960\n"
     ]
    },
    {
     "name": "stderr",
     "output_type": "stream",
     "text": [
      "Epoch 15/20: 100%|████████████████████████████| 500/500 [04:11<00:00,  1.99it/s]\n"
     ]
    },
    {
     "name": "stdout",
     "output_type": "stream",
     "text": [
      "Epoch [15/20] - Loss: 0.0960\n"
     ]
    },
    {
     "name": "stderr",
     "output_type": "stream",
     "text": [
      "Epoch 16/20: 100%|████████████████████████████| 500/500 [04:11<00:00,  1.99it/s]\n"
     ]
    },
    {
     "name": "stdout",
     "output_type": "stream",
     "text": [
      "Epoch [16/20] - Loss: 0.0954\n"
     ]
    },
    {
     "name": "stderr",
     "output_type": "stream",
     "text": [
      "Epoch 17/20: 100%|████████████████████████████| 500/500 [04:12<00:00,  1.98it/s]\n"
     ]
    },
    {
     "name": "stdout",
     "output_type": "stream",
     "text": [
      "Epoch [17/20] - Loss: 0.0950\n"
     ]
    },
    {
     "name": "stderr",
     "output_type": "stream",
     "text": [
      "Epoch 18/20: 100%|████████████████████████████| 500/500 [04:14<00:00,  1.96it/s]\n"
     ]
    },
    {
     "name": "stdout",
     "output_type": "stream",
     "text": [
      "Epoch [18/20] - Loss: 0.0939\n"
     ]
    },
    {
     "name": "stderr",
     "output_type": "stream",
     "text": [
      "Epoch 19/20: 100%|████████████████████████████| 500/500 [04:15<00:00,  1.96it/s]\n"
     ]
    },
    {
     "name": "stdout",
     "output_type": "stream",
     "text": [
      "Epoch [19/20] - Loss: 0.0951\n"
     ]
    },
    {
     "name": "stderr",
     "output_type": "stream",
     "text": [
      "Epoch 20/20: 100%|████████████████████████████| 500/500 [04:15<00:00,  1.95it/s]"
     ]
    },
    {
     "name": "stdout",
     "output_type": "stream",
     "text": [
      "Epoch [20/20] - Loss: 0.0949\n"
     ]
    },
    {
     "name": "stderr",
     "output_type": "stream",
     "text": [
      "\n"
     ]
    }
   ],
   "source": [
    "num_epochs = 20\n",
    "\n",
    "for epoch in range(num_epochs):\n",
    "    model.train()\n",
    "    running_loss = 0.0\n",
    "    for inputs, targets in tqdm(train_loader,  desc=f\"Epoch {epoch+1}/{num_epochs}\"):\n",
    "        inputs = inputs.to(device)\n",
    "        targets = targets.to(device)\n",
    "\n",
    "        outputs = model(inputs)\n",
    "        #Resize\n",
    "        outputs = nn.functional.interpolate(outputs, size=(300, 1259), mode=\"bilinear\", align_corners=False)\n",
    "        loss = loss_func(outputs,targets)\n",
    "\n",
    "        optimizer.zero_grad()\n",
    "        loss.backward()\n",
    "        optimizer.step()\n",
    "\n",
    "        running_loss += loss.item()\n",
    "    avg_loss = running_loss/len(train_loader)\n",
    "    print(f\"Epoch [{epoch+1}/{num_epochs}] - Loss: {avg_loss:.4f}\")\n",
    "\n",
    "torch.save(model.state_dict(), \"unet_seismic.pth\")"
   ]
  },
  {
   "cell_type": "code",
   "execution_count": 90,
   "id": "dbe3f2bc-4073-410f-afd4-6875ce94069c",
   "metadata": {},
   "outputs": [
    {
     "name": "stdout",
     "output_type": "stream",
     "text": [
      "Sample MAPE: 0.0262\n"
     ]
    }
   ],
   "source": [
    "model.eval()\n",
    "with torch.no_grad():\n",
    "    for x, y in train_loader:\n",
    "        x = x.to(device)\n",
    "        y = y.to(device)\n",
    "\n",
    "        preds = model(x)\n",
    "        preds = nn.functional.interpolate(preds, size=(300, 1259), mode=\"bilinear\", align_corners=False)\n",
    "\n",
    "        pred_np = preds[0, 0].cpu().numpy()\n",
    "        gt_np = y[0, 0].cpu().numpy()\n",
    "\n",
    "        mape = calculate_mape(gt_np, pred_np)\n",
    "        print(f\"Sample MAPE: {mape:.4f}\")\n",
    "        break"
   ]
  },
  {
   "cell_type": "markdown",
   "id": "d925591f-9e8d-471b-8788-84f70332cfd6",
   "metadata": {
    "jp-MarkdownHeadingCollapsed": true
   },
   "source": [
    "# Grid Search CV"
   ]
  },
  {
   "cell_type": "code",
   "execution_count": 35,
   "id": "23104347-ca6d-433c-8e7e-969eb8ce5f62",
   "metadata": {},
   "outputs": [],
   "source": [
    "learning_rates = [1e-4, 1e-3]\n",
    "num_epochs = 30\n",
    "weight_decays = [0.0, 1e-5, 1e-4]\n",
    "k_folds = 3\n",
    "\n",
    "all_paths = np.array(sample_paths)\n",
    "kf = KFold(n_splits=k_folds, shuffle=True, random_state=42)\n",
    "device = torch.device(\"mps\" if torch.backends.mps.is_available() else \"cpu\")\n",
    "results = {}"
   ]
  },
  {
   "cell_type": "code",
   "execution_count": 28,
   "id": "2639efed-7eb2-4b96-89d0-104d34392f8a",
   "metadata": {},
   "outputs": [
    {
     "name": "stdout",
     "output_type": "stream",
     "text": [
      "\n",
      " Trying: LR=0.0001, Epochs=30, Weight Decay=0.0\n"
     ]
    },
    {
     "name": "stderr",
     "output_type": "stream",
     "text": [
      "100%|█████████████████████████████████████████| 334/334 [06:16<00:00,  1.13s/it]\n",
      "100%|█████████████████████████████████████████| 334/334 [02:26<00:00,  2.29it/s]\n",
      "100%|█████████████████████████████████████████| 334/334 [02:36<00:00,  2.13it/s]\n",
      "100%|█████████████████████████████████████████| 334/334 [02:49<00:00,  1.97it/s]\n",
      "100%|█████████████████████████████████████████| 334/334 [03:04<00:00,  1.82it/s]\n",
      "100%|█████████████████████████████████████████| 334/334 [03:02<00:00,  1.83it/s]\n",
      "100%|█████████████████████████████████████████| 334/334 [03:01<00:00,  1.84it/s]\n",
      "100%|█████████████████████████████████████████| 334/334 [03:02<00:00,  1.83it/s]\n",
      "100%|█████████████████████████████████████████| 334/334 [03:05<00:00,  1.80it/s]\n",
      "100%|█████████████████████████████████████████| 334/334 [03:19<00:00,  1.67it/s]\n",
      "100%|█████████████████████████████████████████| 334/334 [03:10<00:00,  1.75it/s]\n",
      "100%|█████████████████████████████████████████| 334/334 [03:17<00:00,  1.69it/s]\n",
      "100%|█████████████████████████████████████████| 334/334 [03:18<00:00,  1.68it/s]\n",
      "100%|█████████████████████████████████████████| 334/334 [03:22<00:00,  1.65it/s]\n",
      "100%|█████████████████████████████████████████| 334/334 [03:14<00:00,  1.72it/s]\n",
      "100%|█████████████████████████████████████████| 334/334 [03:19<00:00,  1.67it/s]\n",
      "100%|█████████████████████████████████████████| 334/334 [03:21<00:00,  1.66it/s]\n",
      "100%|█████████████████████████████████████████| 334/334 [03:19<00:00,  1.67it/s]\n",
      "100%|█████████████████████████████████████████| 334/334 [03:23<00:00,  1.64it/s]\n",
      "100%|█████████████████████████████████████████| 334/334 [03:23<00:00,  1.64it/s]\n",
      "100%|█████████████████████████████████████████| 334/334 [03:26<00:00,  1.62it/s]\n",
      "100%|█████████████████████████████████████████| 334/334 [03:25<00:00,  1.62it/s]\n",
      "100%|█████████████████████████████████████████| 334/334 [03:31<00:00,  1.58it/s]\n",
      "100%|█████████████████████████████████████████| 334/334 [03:27<00:00,  1.61it/s]\n",
      "100%|█████████████████████████████████████████| 334/334 [03:26<00:00,  1.62it/s]\n",
      "100%|█████████████████████████████████████████| 334/334 [03:04<00:00,  1.81it/s]\n",
      "100%|█████████████████████████████████████████| 334/334 [03:01<00:00,  1.84it/s]\n",
      "100%|█████████████████████████████████████████| 334/334 [03:11<00:00,  1.75it/s]\n",
      "100%|█████████████████████████████████████████| 334/334 [03:12<00:00,  1.74it/s]\n",
      "100%|█████████████████████████████████████████| 334/334 [03:35<00:00,  1.55it/s]\n"
     ]
    },
    {
     "name": "stdout",
     "output_type": "stream",
     "text": [
      " Fold 1 MAPE: 0.0488\n",
      "\n",
      " Trying: LR=0.0001, Epochs=30, Weight Decay=0.0\n"
     ]
    },
    {
     "name": "stderr",
     "output_type": "stream",
     "text": [
      "100%|█████████████████████████████████████████| 334/334 [03:39<00:00,  1.52it/s]\n",
      "100%|█████████████████████████████████████████| 334/334 [03:47<00:00,  1.47it/s]\n",
      "100%|█████████████████████████████████████████| 334/334 [03:46<00:00,  1.47it/s]\n",
      "100%|█████████████████████████████████████████| 334/334 [03:31<00:00,  1.58it/s]\n",
      "100%|█████████████████████████████████████████| 334/334 [03:43<00:00,  1.50it/s]\n",
      "100%|█████████████████████████████████████████| 334/334 [03:31<00:00,  1.58it/s]\n",
      "100%|█████████████████████████████████████████| 334/334 [03:40<00:00,  1.51it/s]\n",
      "100%|█████████████████████████████████████████| 334/334 [03:36<00:00,  1.54it/s]\n",
      "100%|█████████████████████████████████████████| 334/334 [03:39<00:00,  1.52it/s]\n",
      "100%|█████████████████████████████████████████| 334/334 [03:46<00:00,  1.48it/s]\n",
      "100%|█████████████████████████████████████████| 334/334 [03:31<00:00,  1.58it/s]\n",
      "100%|█████████████████████████████████████████| 334/334 [03:26<00:00,  1.62it/s]\n",
      "100%|█████████████████████████████████████████| 334/334 [03:23<00:00,  1.64it/s]\n",
      "100%|█████████████████████████████████████████| 334/334 [03:20<00:00,  1.67it/s]\n",
      "100%|█████████████████████████████████████████| 334/334 [03:22<00:00,  1.65it/s]\n",
      "100%|█████████████████████████████████████████| 334/334 [03:18<00:00,  1.68it/s]\n",
      "100%|█████████████████████████████████████████| 334/334 [03:18<00:00,  1.68it/s]\n",
      "100%|█████████████████████████████████████████| 334/334 [03:44<00:00,  1.49it/s]\n",
      "100%|█████████████████████████████████████████| 334/334 [03:24<00:00,  1.63it/s]\n",
      "100%|█████████████████████████████████████████| 334/334 [03:24<00:00,  1.64it/s]\n",
      "100%|█████████████████████████████████████████| 334/334 [03:33<00:00,  1.56it/s]\n",
      "100%|█████████████████████████████████████████| 334/334 [03:13<00:00,  1.73it/s]\n",
      "100%|█████████████████████████████████████████| 334/334 [02:56<00:00,  1.89it/s]\n",
      "100%|█████████████████████████████████████████| 334/334 [03:01<00:00,  1.85it/s]\n",
      "100%|█████████████████████████████████████████| 334/334 [03:04<00:00,  1.81it/s]\n",
      "100%|█████████████████████████████████████████| 334/334 [03:05<00:00,  1.80it/s]\n",
      "100%|█████████████████████████████████████████| 334/334 [03:08<00:00,  1.77it/s]\n",
      "100%|█████████████████████████████████████████| 334/334 [03:08<00:00,  1.77it/s]\n",
      "100%|█████████████████████████████████████████| 334/334 [03:10<00:00,  1.75it/s]\n",
      "100%|█████████████████████████████████████████| 334/334 [03:09<00:00,  1.76it/s]\n"
     ]
    },
    {
     "name": "stdout",
     "output_type": "stream",
     "text": [
      " Fold 2 MAPE: 0.0748\n",
      "\n",
      " Trying: LR=0.0001, Epochs=30, Weight Decay=0.0\n"
     ]
    },
    {
     "name": "stderr",
     "output_type": "stream",
     "text": [
      "100%|█████████████████████████████████████████| 334/334 [03:06<00:00,  1.79it/s]\n",
      "100%|█████████████████████████████████████████| 334/334 [03:09<00:00,  1.76it/s]\n",
      "100%|█████████████████████████████████████████| 334/334 [03:05<00:00,  1.80it/s]\n",
      "100%|█████████████████████████████████████████| 334/334 [03:07<00:00,  1.78it/s]\n",
      "100%|█████████████████████████████████████████| 334/334 [03:10<00:00,  1.76it/s]\n",
      "100%|█████████████████████████████████████████| 334/334 [03:07<00:00,  1.78it/s]\n",
      "100%|█████████████████████████████████████████| 334/334 [03:08<00:00,  1.77it/s]\n",
      "100%|█████████████████████████████████████████| 334/334 [03:07<00:00,  1.78it/s]\n",
      "100%|█████████████████████████████████████████| 334/334 [03:05<00:00,  1.80it/s]\n",
      "100%|█████████████████████████████████████████| 334/334 [03:06<00:00,  1.79it/s]\n",
      "100%|█████████████████████████████████████████| 334/334 [03:05<00:00,  1.80it/s]\n",
      "100%|█████████████████████████████████████████| 334/334 [03:07<00:00,  1.79it/s]\n",
      "100%|█████████████████████████████████████████| 334/334 [03:10<00:00,  1.76it/s]\n",
      "100%|█████████████████████████████████████████| 334/334 [03:09<00:00,  1.76it/s]\n",
      "100%|█████████████████████████████████████████| 334/334 [03:07<00:00,  1.78it/s]\n",
      "100%|█████████████████████████████████████████| 334/334 [03:08<00:00,  1.77it/s]\n",
      "100%|█████████████████████████████████████████| 334/334 [03:10<00:00,  1.75it/s]\n",
      "100%|█████████████████████████████████████████| 334/334 [03:08<00:00,  1.77it/s]\n",
      "100%|█████████████████████████████████████████| 334/334 [03:06<00:00,  1.79it/s]\n",
      "100%|█████████████████████████████████████████| 334/334 [03:05<00:00,  1.80it/s]\n",
      "100%|█████████████████████████████████████████| 334/334 [03:05<00:00,  1.80it/s]\n",
      "100%|█████████████████████████████████████████| 334/334 [03:05<00:00,  1.80it/s]\n",
      "100%|█████████████████████████████████████████| 334/334 [03:09<00:00,  1.76it/s]\n",
      "100%|█████████████████████████████████████████| 334/334 [03:10<00:00,  1.76it/s]\n",
      "100%|█████████████████████████████████████████| 334/334 [03:09<00:00,  1.76it/s]\n",
      "100%|█████████████████████████████████████████| 334/334 [03:09<00:00,  1.77it/s]\n",
      "100%|█████████████████████████████████████████| 334/334 [03:08<00:00,  1.77it/s]\n",
      "100%|█████████████████████████████████████████| 334/334 [03:07<00:00,  1.78it/s]\n",
      "100%|█████████████████████████████████████████| 334/334 [03:04<00:00,  1.81it/s]\n",
      "100%|█████████████████████████████████████████| 334/334 [03:02<00:00,  1.83it/s]\n"
     ]
    },
    {
     "name": "stdout",
     "output_type": "stream",
     "text": [
      " Fold 3 MAPE: 0.0358\n",
      "\n",
      " Avg MAPE for LR=0.0001, Epochs=30, Weight_decay=0.0: 0.0531\n",
      "\n",
      " Trying: LR=0.0001, Epochs=30, Weight Decay=1e-05\n"
     ]
    },
    {
     "name": "stderr",
     "output_type": "stream",
     "text": [
      "100%|█████████████████████████████████████████| 334/334 [02:58<00:00,  1.87it/s]\n",
      "100%|█████████████████████████████████████████| 334/334 [03:00<00:00,  1.85it/s]\n",
      "100%|█████████████████████████████████████████| 334/334 [03:03<00:00,  1.82it/s]\n",
      "100%|█████████████████████████████████████████| 334/334 [02:59<00:00,  1.86it/s]\n",
      "100%|█████████████████████████████████████████| 334/334 [02:57<00:00,  1.88it/s]\n",
      "100%|█████████████████████████████████████████| 334/334 [02:57<00:00,  1.88it/s]\n",
      "100%|█████████████████████████████████████████| 334/334 [02:58<00:00,  1.87it/s]\n",
      "100%|█████████████████████████████████████████| 334/334 [03:00<00:00,  1.85it/s]\n",
      "100%|█████████████████████████████████████████| 334/334 [03:00<00:00,  1.85it/s]\n",
      "100%|█████████████████████████████████████████| 334/334 [03:00<00:00,  1.85it/s]\n",
      "100%|█████████████████████████████████████████| 334/334 [03:00<00:00,  1.85it/s]\n",
      "100%|█████████████████████████████████████████| 334/334 [03:09<00:00,  1.76it/s]\n",
      "100%|█████████████████████████████████████████| 334/334 [03:06<00:00,  1.79it/s]\n",
      "100%|█████████████████████████████████████████| 334/334 [03:05<00:00,  1.80it/s]\n",
      "100%|█████████████████████████████████████████| 334/334 [03:03<00:00,  1.82it/s]\n",
      "100%|█████████████████████████████████████████| 334/334 [03:05<00:00,  1.80it/s]\n",
      "100%|█████████████████████████████████████████| 334/334 [03:04<00:00,  1.81it/s]\n",
      "100%|█████████████████████████████████████████| 334/334 [03:06<00:00,  1.79it/s]\n",
      "100%|█████████████████████████████████████████| 334/334 [03:04<00:00,  1.81it/s]\n",
      "100%|█████████████████████████████████████████| 334/334 [03:05<00:00,  1.80it/s]\n",
      "100%|█████████████████████████████████████████| 334/334 [03:05<00:00,  1.80it/s]\n",
      "100%|█████████████████████████████████████████| 334/334 [03:10<00:00,  1.75it/s]\n",
      "100%|█████████████████████████████████████████| 334/334 [03:15<00:00,  1.71it/s]\n",
      "100%|█████████████████████████████████████████| 334/334 [03:11<00:00,  1.74it/s]\n",
      "100%|█████████████████████████████████████████| 334/334 [03:05<00:00,  1.80it/s]\n",
      "100%|█████████████████████████████████████████| 334/334 [02:59<00:00,  1.86it/s]\n",
      "100%|█████████████████████████████████████████| 334/334 [02:57<00:00,  1.88it/s]\n",
      "100%|█████████████████████████████████████████| 334/334 [02:55<00:00,  1.91it/s]\n",
      "100%|█████████████████████████████████████████| 334/334 [02:58<00:00,  1.87it/s]\n",
      "100%|█████████████████████████████████████████| 334/334 [02:57<00:00,  1.88it/s]\n"
     ]
    },
    {
     "name": "stdout",
     "output_type": "stream",
     "text": [
      " Fold 1 MAPE: 0.0898\n",
      "\n",
      " Trying: LR=0.0001, Epochs=30, Weight Decay=1e-05\n"
     ]
    },
    {
     "name": "stderr",
     "output_type": "stream",
     "text": [
      "100%|█████████████████████████████████████████| 334/334 [02:51<00:00,  1.95it/s]\n",
      "100%|█████████████████████████████████████████| 334/334 [02:52<00:00,  1.94it/s]\n",
      "100%|█████████████████████████████████████████| 334/334 [02:51<00:00,  1.95it/s]\n",
      "100%|█████████████████████████████████████████| 334/334 [02:51<00:00,  1.95it/s]\n",
      "100%|█████████████████████████████████████████| 334/334 [02:53<00:00,  1.93it/s]\n",
      "100%|█████████████████████████████████████████| 334/334 [02:55<00:00,  1.90it/s]\n",
      "100%|█████████████████████████████████████████| 334/334 [02:49<00:00,  1.97it/s]\n",
      "100%|█████████████████████████████████████████| 334/334 [17:54<00:00,  3.22s/it]\n",
      "100%|█████████████████████████████████████████| 334/334 [17:55<00:00,  3.22s/it]\n",
      "100%|███████████████████████████████████████| 334/334 [2:11:49<00:00, 23.68s/it]\n",
      "100%|███████████████████████████████████████| 334/334 [5:08:11<00:00, 55.36s/it]\n",
      "100%|███████████████████████████████████████| 334/334 [2:37:37<00:00, 28.32s/it]\n",
      "100%|█████████████████████████████████████████| 334/334 [31:35<00:00,  5.68s/it]\n",
      "100%|█████████████████████████████████████████| 334/334 [02:51<00:00,  1.95it/s]\n",
      "100%|█████████████████████████████████████████| 334/334 [02:48<00:00,  1.99it/s]\n",
      "100%|█████████████████████████████████████████| 334/334 [02:39<00:00,  2.09it/s]\n",
      "100%|█████████████████████████████████████████| 334/334 [02:47<00:00,  2.00it/s]\n",
      "100%|█████████████████████████████████████████| 334/334 [02:51<00:00,  1.95it/s]\n",
      "100%|█████████████████████████████████████████| 334/334 [02:53<00:00,  1.92it/s]\n",
      "100%|█████████████████████████████████████████| 334/334 [02:56<00:00,  1.89it/s]\n",
      "100%|█████████████████████████████████████████| 334/334 [03:00<00:00,  1.85it/s]\n",
      "100%|█████████████████████████████████████████| 334/334 [03:05<00:00,  1.80it/s]\n",
      "100%|█████████████████████████████████████████| 334/334 [03:09<00:00,  1.77it/s]\n",
      "100%|█████████████████████████████████████████| 334/334 [02:57<00:00,  1.88it/s]\n",
      "100%|█████████████████████████████████████████| 334/334 [03:11<00:00,  1.75it/s]\n",
      "100%|█████████████████████████████████████████| 334/334 [03:03<00:00,  1.82it/s]\n",
      "100%|█████████████████████████████████████████| 334/334 [02:53<00:00,  1.92it/s]\n",
      "100%|█████████████████████████████████████████| 334/334 [02:51<00:00,  1.95it/s]\n",
      "100%|█████████████████████████████████████████| 334/334 [02:57<00:00,  1.88it/s]\n",
      "100%|█████████████████████████████████████████| 334/334 [02:53<00:00,  1.93it/s]\n"
     ]
    },
    {
     "name": "stdout",
     "output_type": "stream",
     "text": [
      " Fold 2 MAPE: 0.0572\n",
      "\n",
      " Trying: LR=0.0001, Epochs=30, Weight Decay=1e-05\n"
     ]
    },
    {
     "name": "stderr",
     "output_type": "stream",
     "text": [
      "100%|█████████████████████████████████████████| 334/334 [02:58<00:00,  1.87it/s]\n",
      "100%|█████████████████████████████████████████| 334/334 [02:53<00:00,  1.92it/s]\n",
      "100%|█████████████████████████████████████████| 334/334 [03:06<00:00,  1.79it/s]\n",
      "100%|█████████████████████████████████████████| 334/334 [02:53<00:00,  1.93it/s]\n",
      "100%|█████████████████████████████████████████| 334/334 [02:49<00:00,  1.97it/s]\n",
      "100%|█████████████████████████████████████████| 334/334 [02:53<00:00,  1.93it/s]\n",
      "100%|█████████████████████████████████████████| 334/334 [02:54<00:00,  1.91it/s]\n",
      "100%|█████████████████████████████████████████| 334/334 [07:41<00:00,  1.38s/it]\n",
      "100%|█████████████████████████████████████████| 334/334 [10:00<00:00,  1.80s/it]\n",
      "100%|█████████████████████████████████████████| 334/334 [09:52<00:00,  1.78s/it]\n",
      "100%|█████████████████████████████████████████| 334/334 [23:25<00:00,  4.21s/it]\n",
      "100%|█████████████████████████████████████████| 334/334 [02:22<00:00,  2.35it/s]\n",
      "100%|█████████████████████████████████████████| 334/334 [02:39<00:00,  2.10it/s]\n",
      "100%|█████████████████████████████████████████| 334/334 [02:48<00:00,  1.98it/s]\n",
      "100%|█████████████████████████████████████████| 334/334 [03:00<00:00,  1.85it/s]\n",
      "100%|█████████████████████████████████████████| 334/334 [03:07<00:00,  1.78it/s]\n",
      "100%|█████████████████████████████████████████| 334/334 [03:08<00:00,  1.77it/s]\n",
      "100%|█████████████████████████████████████████| 334/334 [03:05<00:00,  1.80it/s]\n",
      "100%|█████████████████████████████████████████| 334/334 [03:09<00:00,  1.76it/s]\n",
      "100%|█████████████████████████████████████████| 334/334 [03:21<00:00,  1.66it/s]\n",
      "100%|█████████████████████████████████████████| 334/334 [03:12<00:00,  1.73it/s]\n",
      "100%|█████████████████████████████████████████| 334/334 [03:19<00:00,  1.67it/s]\n",
      "100%|█████████████████████████████████████████| 334/334 [03:16<00:00,  1.70it/s]\n",
      "100%|█████████████████████████████████████████| 334/334 [03:18<00:00,  1.68it/s]\n",
      "100%|█████████████████████████████████████████| 334/334 [03:23<00:00,  1.64it/s]\n",
      "100%|█████████████████████████████████████████| 334/334 [03:17<00:00,  1.69it/s]\n",
      "100%|█████████████████████████████████████████| 334/334 [03:20<00:00,  1.66it/s]\n",
      "100%|█████████████████████████████████████████| 334/334 [03:21<00:00,  1.66it/s]\n",
      "100%|█████████████████████████████████████████| 334/334 [03:16<00:00,  1.70it/s]\n",
      "100%|█████████████████████████████████████████| 334/334 [03:07<00:00,  1.78it/s]\n"
     ]
    },
    {
     "name": "stdout",
     "output_type": "stream",
     "text": [
      " Fold 3 MAPE: 0.0963\n",
      "\n",
      " Avg MAPE for LR=0.0001, Epochs=30, Weight_decay=1e-05: 0.0811\n",
      "\n",
      " Trying: LR=0.0001, Epochs=30, Weight Decay=0.0001\n"
     ]
    },
    {
     "name": "stderr",
     "output_type": "stream",
     "text": [
      "100%|█████████████████████████████████████████| 334/334 [03:18<00:00,  1.68it/s]\n",
      "100%|█████████████████████████████████████████| 334/334 [03:16<00:00,  1.70it/s]\n",
      "100%|█████████████████████████████████████████| 334/334 [03:21<00:00,  1.66it/s]\n",
      "100%|█████████████████████████████████████████| 334/334 [03:27<00:00,  1.61it/s]\n",
      "100%|█████████████████████████████████████████| 334/334 [03:25<00:00,  1.63it/s]\n",
      "100%|█████████████████████████████████████████| 334/334 [03:26<00:00,  1.62it/s]\n",
      "100%|█████████████████████████████████████████| 334/334 [03:23<00:00,  1.64it/s]\n",
      "100%|█████████████████████████████████████████| 334/334 [03:21<00:00,  1.65it/s]\n",
      "100%|█████████████████████████████████████████| 334/334 [03:07<00:00,  1.78it/s]\n",
      "100%|█████████████████████████████████████████| 334/334 [02:53<00:00,  1.93it/s]\n",
      "100%|█████████████████████████████████████████| 334/334 [02:54<00:00,  1.92it/s]\n",
      "100%|█████████████████████████████████████████| 334/334 [02:54<00:00,  1.91it/s]\n",
      "100%|█████████████████████████████████████████| 334/334 [02:58<00:00,  1.87it/s]\n",
      "100%|█████████████████████████████████████████| 334/334 [02:57<00:00,  1.89it/s]\n",
      "100%|█████████████████████████████████████████| 334/334 [02:56<00:00,  1.90it/s]\n",
      "100%|█████████████████████████████████████████| 334/334 [02:56<00:00,  1.89it/s]\n",
      "100%|█████████████████████████████████████████| 334/334 [02:55<00:00,  1.90it/s]\n",
      "100%|█████████████████████████████████████████| 334/334 [02:55<00:00,  1.90it/s]\n",
      "100%|█████████████████████████████████████████| 334/334 [02:56<00:00,  1.89it/s]\n",
      "100%|█████████████████████████████████████████| 334/334 [02:53<00:00,  1.92it/s]\n",
      "100%|█████████████████████████████████████████| 334/334 [02:54<00:00,  1.92it/s]\n",
      "100%|█████████████████████████████████████████| 334/334 [02:55<00:00,  1.91it/s]\n",
      "100%|█████████████████████████████████████████| 334/334 [02:57<00:00,  1.89it/s]\n",
      "100%|█████████████████████████████████████████| 334/334 [02:54<00:00,  1.92it/s]\n",
      "100%|█████████████████████████████████████████| 334/334 [02:54<00:00,  1.91it/s]\n",
      "100%|█████████████████████████████████████████| 334/334 [02:53<00:00,  1.93it/s]\n",
      "100%|█████████████████████████████████████████| 334/334 [02:54<00:00,  1.92it/s]\n",
      "100%|█████████████████████████████████████████| 334/334 [02:54<00:00,  1.92it/s]\n",
      "100%|█████████████████████████████████████████| 334/334 [02:54<00:00,  1.92it/s]\n",
      "100%|█████████████████████████████████████████| 334/334 [02:53<00:00,  1.93it/s]\n"
     ]
    },
    {
     "name": "stdout",
     "output_type": "stream",
     "text": [
      " Fold 1 MAPE: 0.0615\n",
      "\n",
      " Trying: LR=0.0001, Epochs=30, Weight Decay=0.0001\n"
     ]
    },
    {
     "name": "stderr",
     "output_type": "stream",
     "text": [
      "100%|█████████████████████████████████████████| 334/334 [02:49<00:00,  1.97it/s]\n",
      "100%|█████████████████████████████████████████| 334/334 [02:48<00:00,  1.98it/s]\n",
      "100%|█████████████████████████████████████████| 334/334 [02:49<00:00,  1.97it/s]\n",
      "100%|█████████████████████████████████████████| 334/334 [02:50<00:00,  1.95it/s]\n",
      "100%|█████████████████████████████████████████| 334/334 [02:51<00:00,  1.94it/s]\n",
      "100%|█████████████████████████████████████████| 334/334 [02:51<00:00,  1.95it/s]\n",
      "100%|█████████████████████████████████████████| 334/334 [02:51<00:00,  1.94it/s]\n",
      "100%|█████████████████████████████████████████| 334/334 [02:51<00:00,  1.95it/s]\n",
      "100%|█████████████████████████████████████████| 334/334 [02:50<00:00,  1.96it/s]\n",
      "100%|█████████████████████████████████████████| 334/334 [02:50<00:00,  1.96it/s]\n",
      "100%|█████████████████████████████████████████| 334/334 [02:51<00:00,  1.95it/s]\n",
      "100%|█████████████████████████████████████████| 334/334 [02:52<00:00,  1.93it/s]\n",
      "100%|█████████████████████████████████████████| 334/334 [02:51<00:00,  1.95it/s]\n",
      "100%|█████████████████████████████████████████| 334/334 [02:52<00:00,  1.94it/s]\n",
      "100%|█████████████████████████████████████████| 334/334 [02:49<00:00,  1.97it/s]\n",
      "100%|█████████████████████████████████████████| 334/334 [02:51<00:00,  1.95it/s]\n",
      "100%|█████████████████████████████████████████| 334/334 [02:49<00:00,  1.97it/s]\n",
      "100%|█████████████████████████████████████████| 334/334 [02:49<00:00,  1.97it/s]\n",
      "100%|█████████████████████████████████████████| 334/334 [02:50<00:00,  1.96it/s]\n",
      "100%|█████████████████████████████████████████| 334/334 [02:49<00:00,  1.97it/s]\n",
      "100%|█████████████████████████████████████████| 334/334 [02:49<00:00,  1.97it/s]\n",
      "100%|█████████████████████████████████████████| 334/334 [02:49<00:00,  1.97it/s]\n",
      "100%|█████████████████████████████████████████| 334/334 [02:49<00:00,  1.97it/s]\n",
      "100%|█████████████████████████████████████████| 334/334 [02:50<00:00,  1.96it/s]\n",
      "100%|█████████████████████████████████████████| 334/334 [02:50<00:00,  1.96it/s]\n",
      "100%|█████████████████████████████████████████| 334/334 [02:48<00:00,  1.98it/s]\n",
      "100%|█████████████████████████████████████████| 334/334 [02:47<00:00,  1.99it/s]\n",
      "100%|█████████████████████████████████████████| 334/334 [02:49<00:00,  1.97it/s]\n",
      "100%|█████████████████████████████████████████| 334/334 [02:46<00:00,  2.00it/s]\n",
      "100%|█████████████████████████████████████████| 334/334 [02:47<00:00,  2.00it/s]\n"
     ]
    },
    {
     "name": "stdout",
     "output_type": "stream",
     "text": [
      " Fold 2 MAPE: 0.0416\n",
      "\n",
      " Trying: LR=0.0001, Epochs=30, Weight Decay=0.0001\n"
     ]
    },
    {
     "name": "stderr",
     "output_type": "stream",
     "text": [
      "100%|█████████████████████████████████████████| 334/334 [02:41<00:00,  2.06it/s]\n",
      "100%|█████████████████████████████████████████| 334/334 [02:58<00:00,  1.87it/s]\n",
      "100%|█████████████████████████████████████████| 334/334 [03:25<00:00,  1.63it/s]\n",
      "100%|█████████████████████████████████████████| 334/334 [02:43<00:00,  2.04it/s]\n",
      "100%|█████████████████████████████████████████| 334/334 [02:47<00:00,  1.99it/s]\n",
      "100%|█████████████████████████████████████████| 334/334 [02:49<00:00,  1.97it/s]\n",
      "100%|█████████████████████████████████████████| 334/334 [02:51<00:00,  1.95it/s]\n",
      "100%|█████████████████████████████████████████| 334/334 [02:51<00:00,  1.94it/s]\n",
      "100%|█████████████████████████████████████████| 334/334 [02:51<00:00,  1.95it/s]\n",
      "100%|█████████████████████████████████████████| 334/334 [02:52<00:00,  1.93it/s]\n",
      "100%|█████████████████████████████████████████| 334/334 [02:53<00:00,  1.93it/s]\n",
      "100%|█████████████████████████████████████████| 334/334 [02:54<00:00,  1.92it/s]\n",
      "100%|█████████████████████████████████████████| 334/334 [02:54<00:00,  1.91it/s]\n",
      "100%|█████████████████████████████████████████| 334/334 [02:54<00:00,  1.91it/s]\n",
      "100%|█████████████████████████████████████████| 334/334 [02:55<00:00,  1.90it/s]\n",
      "100%|█████████████████████████████████████████| 334/334 [02:52<00:00,  1.93it/s]\n",
      "100%|█████████████████████████████████████████| 334/334 [02:53<00:00,  1.93it/s]\n",
      "100%|█████████████████████████████████████████| 334/334 [02:54<00:00,  1.91it/s]\n",
      "100%|█████████████████████████████████████████| 334/334 [02:56<00:00,  1.90it/s]\n",
      "100%|█████████████████████████████████████████| 334/334 [02:52<00:00,  1.94it/s]\n",
      "100%|█████████████████████████████████████████| 334/334 [02:51<00:00,  1.95it/s]\n",
      "100%|█████████████████████████████████████████| 334/334 [02:52<00:00,  1.93it/s]\n",
      "100%|█████████████████████████████████████████| 334/334 [02:53<00:00,  1.93it/s]\n",
      "100%|█████████████████████████████████████████| 334/334 [02:54<00:00,  1.91it/s]\n",
      "100%|█████████████████████████████████████████| 334/334 [02:54<00:00,  1.92it/s]\n",
      "100%|█████████████████████████████████████████| 334/334 [02:53<00:00,  1.92it/s]\n",
      "100%|█████████████████████████████████████████| 334/334 [02:51<00:00,  1.94it/s]\n",
      "100%|█████████████████████████████████████████| 334/334 [02:52<00:00,  1.94it/s]\n",
      "100%|█████████████████████████████████████████| 334/334 [02:52<00:00,  1.94it/s]\n",
      "100%|█████████████████████████████████████████| 334/334 [02:52<00:00,  1.94it/s]\n"
     ]
    },
    {
     "name": "stdout",
     "output_type": "stream",
     "text": [
      " Fold 3 MAPE: 0.0849\n",
      "\n",
      " Avg MAPE for LR=0.0001, Epochs=30, Weight_decay=0.0001: 0.0627\n",
      "\n",
      " Trying: LR=0.001, Epochs=30, Weight Decay=0.0\n"
     ]
    },
    {
     "name": "stderr",
     "output_type": "stream",
     "text": [
      "100%|█████████████████████████████████████████| 334/334 [02:49<00:00,  1.97it/s]\n",
      "100%|█████████████████████████████████████████| 334/334 [02:47<00:00,  1.99it/s]\n",
      "100%|█████████████████████████████████████████| 334/334 [02:48<00:00,  1.98it/s]\n",
      "100%|█████████████████████████████████████████| 334/334 [02:49<00:00,  1.97it/s]\n",
      "100%|█████████████████████████████████████████| 334/334 [02:49<00:00,  1.97it/s]\n",
      "100%|█████████████████████████████████████████| 334/334 [02:51<00:00,  1.95it/s]\n",
      "100%|█████████████████████████████████████████| 334/334 [02:49<00:00,  1.97it/s]\n",
      "100%|█████████████████████████████████████████| 334/334 [02:50<00:00,  1.96it/s]\n",
      "100%|█████████████████████████████████████████| 334/334 [02:50<00:00,  1.96it/s]\n",
      "100%|█████████████████████████████████████████| 334/334 [02:50<00:00,  1.96it/s]\n",
      "100%|█████████████████████████████████████████| 334/334 [02:51<00:00,  1.95it/s]\n",
      "100%|█████████████████████████████████████████| 334/334 [02:50<00:00,  1.96it/s]\n",
      "100%|█████████████████████████████████████████| 334/334 [02:50<00:00,  1.96it/s]\n",
      "100%|█████████████████████████████████████████| 334/334 [02:47<00:00,  1.99it/s]\n",
      "100%|█████████████████████████████████████████| 334/334 [02:46<00:00,  2.00it/s]\n",
      "100%|█████████████████████████████████████████| 334/334 [02:54<00:00,  1.92it/s]\n",
      "100%|█████████████████████████████████████████| 334/334 [02:57<00:00,  1.88it/s]\n",
      "100%|█████████████████████████████████████████| 334/334 [02:49<00:00,  1.97it/s]\n",
      "100%|█████████████████████████████████████████| 334/334 [02:50<00:00,  1.95it/s]\n",
      "100%|█████████████████████████████████████████| 334/334 [02:52<00:00,  1.94it/s]\n",
      "100%|█████████████████████████████████████████| 334/334 [02:55<00:00,  1.90it/s]\n",
      "100%|█████████████████████████████████████████| 334/334 [02:57<00:00,  1.88it/s]\n",
      "100%|█████████████████████████████████████████| 334/334 [02:57<00:00,  1.88it/s]\n",
      "100%|█████████████████████████████████████████| 334/334 [02:59<00:00,  1.86it/s]\n",
      "100%|█████████████████████████████████████████| 334/334 [03:00<00:00,  1.85it/s]\n",
      "100%|█████████████████████████████████████████| 334/334 [03:00<00:00,  1.85it/s]\n",
      "100%|█████████████████████████████████████████| 334/334 [03:03<00:00,  1.82it/s]\n",
      "100%|█████████████████████████████████████████| 334/334 [03:02<00:00,  1.83it/s]\n",
      "100%|█████████████████████████████████████████| 334/334 [03:02<00:00,  1.83it/s]\n",
      "100%|█████████████████████████████████████████| 334/334 [03:03<00:00,  1.82it/s]\n"
     ]
    },
    {
     "name": "stdout",
     "output_type": "stream",
     "text": [
      " Fold 1 MAPE: 0.0633\n",
      "\n",
      " Trying: LR=0.001, Epochs=30, Weight Decay=0.0\n"
     ]
    },
    {
     "name": "stderr",
     "output_type": "stream",
     "text": [
      "100%|█████████████████████████████████████████| 334/334 [02:58<00:00,  1.87it/s]\n",
      "100%|█████████████████████████████████████████| 334/334 [02:58<00:00,  1.87it/s]\n",
      "100%|█████████████████████████████████████████| 334/334 [02:55<00:00,  1.90it/s]\n",
      "100%|█████████████████████████████████████████| 334/334 [02:57<00:00,  1.88it/s]\n",
      "100%|█████████████████████████████████████████| 334/334 [02:47<00:00,  1.99it/s]\n",
      "100%|█████████████████████████████████████████| 334/334 [02:54<00:00,  1.92it/s]\n",
      "100%|█████████████████████████████████████████| 334/334 [03:00<00:00,  1.85it/s]\n",
      "100%|█████████████████████████████████████████| 334/334 [03:00<00:00,  1.85it/s]\n",
      "100%|█████████████████████████████████████████| 334/334 [03:00<00:00,  1.85it/s]\n",
      "100%|█████████████████████████████████████████| 334/334 [03:00<00:00,  1.85it/s]\n",
      "100%|█████████████████████████████████████████| 334/334 [03:01<00:00,  1.84it/s]\n",
      "100%|█████████████████████████████████████████| 334/334 [03:04<00:00,  1.81it/s]\n",
      "100%|█████████████████████████████████████████| 334/334 [03:05<00:00,  1.80it/s]\n",
      "100%|█████████████████████████████████████████| 334/334 [03:05<00:00,  1.80it/s]\n",
      "100%|█████████████████████████████████████████| 334/334 [03:05<00:00,  1.80it/s]\n",
      "100%|█████████████████████████████████████████| 334/334 [03:06<00:00,  1.79it/s]\n",
      "100%|█████████████████████████████████████████| 334/334 [03:06<00:00,  1.79it/s]\n",
      "100%|█████████████████████████████████████████| 334/334 [03:05<00:00,  1.80it/s]\n",
      "100%|█████████████████████████████████████████| 334/334 [03:07<00:00,  1.78it/s]\n",
      "100%|█████████████████████████████████████████| 334/334 [03:07<00:00,  1.78it/s]\n",
      "100%|█████████████████████████████████████████| 334/334 [03:05<00:00,  1.80it/s]\n",
      "100%|█████████████████████████████████████████| 334/334 [03:05<00:00,  1.80it/s]\n",
      "100%|█████████████████████████████████████████| 334/334 [03:05<00:00,  1.80it/s]\n",
      "100%|█████████████████████████████████████████| 334/334 [03:06<00:00,  1.79it/s]\n",
      "100%|█████████████████████████████████████████| 334/334 [03:07<00:00,  1.79it/s]\n",
      "100%|█████████████████████████████████████████| 334/334 [03:08<00:00,  1.77it/s]\n",
      "100%|█████████████████████████████████████████| 334/334 [03:07<00:00,  1.78it/s]\n",
      "100%|█████████████████████████████████████████| 334/334 [03:07<00:00,  1.78it/s]\n",
      "100%|█████████████████████████████████████████| 334/334 [03:05<00:00,  1.80it/s]\n",
      "100%|█████████████████████████████████████████| 334/334 [03:05<00:00,  1.80it/s]\n"
     ]
    },
    {
     "name": "stdout",
     "output_type": "stream",
     "text": [
      " Fold 2 MAPE: 0.0477\n",
      "\n",
      " Trying: LR=0.001, Epochs=30, Weight Decay=0.0\n"
     ]
    },
    {
     "name": "stderr",
     "output_type": "stream",
     "text": [
      "100%|█████████████████████████████████████████| 334/334 [03:05<00:00,  1.80it/s]\n",
      "100%|█████████████████████████████████████████| 334/334 [03:03<00:00,  1.82it/s]\n",
      "100%|█████████████████████████████████████████| 334/334 [08:18<00:00,  1.49s/it]\n",
      "100%|█████████████████████████████████████████| 334/334 [09:47<00:00,  1.76s/it]\n",
      "100%|█████████████████████████████████████████| 334/334 [09:24<00:00,  1.69s/it]\n",
      "100%|███████████████████████████████████████| 334/334 [1:49:27<00:00, 19.66s/it]\n",
      "100%|█████████████████████████████████████████| 334/334 [02:19<00:00,  2.39it/s]\n",
      "100%|█████████████████████████████████████████| 334/334 [02:31<00:00,  2.20it/s]\n",
      "100%|█████████████████████████████████████████| 334/334 [02:35<00:00,  2.14it/s]\n",
      "100%|█████████████████████████████████████████| 334/334 [02:36<00:00,  2.13it/s]\n",
      "100%|█████████████████████████████████████████| 334/334 [02:43<00:00,  2.04it/s]\n",
      "100%|█████████████████████████████████████████| 334/334 [02:43<00:00,  2.04it/s]\n",
      "100%|█████████████████████████████████████████| 334/334 [02:42<00:00,  2.05it/s]\n",
      "100%|█████████████████████████████████████████| 334/334 [02:44<00:00,  2.03it/s]\n",
      "100%|█████████████████████████████████████████| 334/334 [02:45<00:00,  2.02it/s]\n",
      "100%|█████████████████████████████████████████| 334/334 [02:45<00:00,  2.02it/s]\n",
      "100%|█████████████████████████████████████████| 334/334 [02:46<00:00,  2.00it/s]\n",
      "100%|█████████████████████████████████████████| 334/334 [02:51<00:00,  1.95it/s]\n",
      "100%|█████████████████████████████████████████| 334/334 [02:51<00:00,  1.95it/s]\n",
      "100%|█████████████████████████████████████████| 334/334 [02:49<00:00,  1.97it/s]\n",
      "100%|█████████████████████████████████████████| 334/334 [02:47<00:00,  1.99it/s]\n",
      "100%|█████████████████████████████████████████| 334/334 [02:50<00:00,  1.96it/s]\n",
      "100%|█████████████████████████████████████████| 334/334 [02:49<00:00,  1.97it/s]\n",
      "100%|█████████████████████████████████████████| 334/334 [02:49<00:00,  1.97it/s]\n",
      "100%|█████████████████████████████████████████| 334/334 [02:49<00:00,  1.98it/s]\n",
      "100%|█████████████████████████████████████████| 334/334 [02:50<00:00,  1.96it/s]\n",
      "100%|█████████████████████████████████████████| 334/334 [02:49<00:00,  1.97it/s]\n",
      "100%|█████████████████████████████████████████| 334/334 [02:50<00:00,  1.96it/s]\n",
      "100%|█████████████████████████████████████████| 334/334 [02:49<00:00,  1.97it/s]\n",
      "100%|█████████████████████████████████████████| 334/334 [02:49<00:00,  1.96it/s]\n"
     ]
    },
    {
     "name": "stdout",
     "output_type": "stream",
     "text": [
      " Fold 3 MAPE: 0.0875\n",
      "\n",
      " Avg MAPE for LR=0.001, Epochs=30, Weight_decay=0.0: 0.0661\n",
      "\n",
      " Trying: LR=0.001, Epochs=30, Weight Decay=1e-05\n"
     ]
    },
    {
     "name": "stderr",
     "output_type": "stream",
     "text": [
      "100%|█████████████████████████████████████████| 334/334 [02:47<00:00,  1.99it/s]\n",
      "100%|█████████████████████████████████████████| 334/334 [02:48<00:00,  1.99it/s]\n",
      "100%|█████████████████████████████████████████| 334/334 [02:50<00:00,  1.96it/s]\n",
      "100%|█████████████████████████████████████████| 334/334 [02:50<00:00,  1.96it/s]\n",
      "100%|█████████████████████████████████████████| 334/334 [02:49<00:00,  1.97it/s]\n",
      "100%|█████████████████████████████████████████| 334/334 [02:56<00:00,  1.89it/s]\n",
      "100%|█████████████████████████████████████████| 334/334 [02:58<00:00,  1.87it/s]\n",
      "100%|█████████████████████████████████████████| 334/334 [02:56<00:00,  1.89it/s]\n",
      "100%|█████████████████████████████████████████| 334/334 [02:53<00:00,  1.92it/s]\n",
      "100%|█████████████████████████████████████████| 334/334 [02:54<00:00,  1.92it/s]\n",
      "100%|█████████████████████████████████████████| 334/334 [03:00<00:00,  1.85it/s]\n",
      "100%|█████████████████████████████████████████| 334/334 [02:59<00:00,  1.86it/s]\n",
      "100%|█████████████████████████████████████████| 334/334 [02:56<00:00,  1.90it/s]\n",
      "100%|█████████████████████████████████████████| 334/334 [02:55<00:00,  1.90it/s]\n",
      "100%|█████████████████████████████████████████| 334/334 [02:55<00:00,  1.90it/s]\n",
      "100%|█████████████████████████████████████████| 334/334 [02:56<00:00,  1.90it/s]\n",
      "100%|█████████████████████████████████████████| 334/334 [02:57<00:00,  1.88it/s]\n",
      "100%|█████████████████████████████████████████| 334/334 [02:59<00:00,  1.86it/s]\n",
      "100%|█████████████████████████████████████████| 334/334 [02:59<00:00,  1.87it/s]\n",
      "100%|█████████████████████████████████████████| 334/334 [02:59<00:00,  1.86it/s]\n",
      "100%|█████████████████████████████████████████| 334/334 [02:59<00:00,  1.86it/s]\n",
      "100%|█████████████████████████████████████████| 334/334 [03:00<00:00,  1.85it/s]\n",
      "100%|█████████████████████████████████████████| 334/334 [03:01<00:00,  1.84it/s]\n",
      "100%|█████████████████████████████████████████| 334/334 [03:01<00:00,  1.84it/s]\n",
      "100%|█████████████████████████████████████████| 334/334 [03:00<00:00,  1.85it/s]\n",
      "100%|█████████████████████████████████████████| 334/334 [03:00<00:00,  1.85it/s]\n",
      "100%|█████████████████████████████████████████| 334/334 [03:01<00:00,  1.84it/s]\n",
      "100%|█████████████████████████████████████████| 334/334 [03:00<00:00,  1.85it/s]\n",
      "100%|█████████████████████████████████████████| 334/334 [03:06<00:00,  1.79it/s]\n",
      "100%|█████████████████████████████████████████| 334/334 [03:02<00:00,  1.83it/s]\n"
     ]
    },
    {
     "name": "stdout",
     "output_type": "stream",
     "text": [
      " Fold 1 MAPE: 0.1264\n",
      "\n",
      " Trying: LR=0.001, Epochs=30, Weight Decay=1e-05\n"
     ]
    },
    {
     "name": "stderr",
     "output_type": "stream",
     "text": [
      "100%|█████████████████████████████████████████| 334/334 [03:00<00:00,  1.85it/s]\n",
      "100%|█████████████████████████████████████████| 334/334 [02:59<00:00,  1.86it/s]\n",
      "100%|█████████████████████████████████████████| 334/334 [02:59<00:00,  1.86it/s]\n",
      "100%|█████████████████████████████████████████| 334/334 [02:59<00:00,  1.86it/s]\n",
      "100%|█████████████████████████████████████████| 334/334 [02:57<00:00,  1.88it/s]\n",
      "100%|█████████████████████████████████████████| 334/334 [02:58<00:00,  1.87it/s]\n",
      "100%|█████████████████████████████████████████| 334/334 [02:58<00:00,  1.87it/s]\n",
      "100%|█████████████████████████████████████████| 334/334 [02:58<00:00,  1.87it/s]\n",
      "100%|█████████████████████████████████████████| 334/334 [02:59<00:00,  1.87it/s]\n",
      "100%|█████████████████████████████████████████| 334/334 [02:59<00:00,  1.86it/s]\n",
      "100%|█████████████████████████████████████████| 334/334 [02:59<00:00,  1.86it/s]\n",
      "100%|█████████████████████████████████████████| 334/334 [02:58<00:00,  1.88it/s]\n",
      "100%|█████████████████████████████████████████| 334/334 [02:57<00:00,  1.88it/s]\n",
      "100%|█████████████████████████████████████████| 334/334 [02:59<00:00,  1.87it/s]\n",
      "100%|█████████████████████████████████████████| 334/334 [02:58<00:00,  1.87it/s]\n",
      "100%|█████████████████████████████████████████| 334/334 [02:57<00:00,  1.88it/s]\n",
      "100%|█████████████████████████████████████████| 334/334 [02:57<00:00,  1.88it/s]\n",
      "100%|█████████████████████████████████████████| 334/334 [02:57<00:00,  1.88it/s]\n",
      "100%|█████████████████████████████████████████| 334/334 [02:59<00:00,  1.86it/s]\n",
      "100%|█████████████████████████████████████████| 334/334 [02:59<00:00,  1.86it/s]\n",
      "100%|█████████████████████████████████████████| 334/334 [02:57<00:00,  1.88it/s]\n",
      "100%|█████████████████████████████████████████| 334/334 [03:01<00:00,  1.84it/s]\n",
      "100%|█████████████████████████████████████████| 334/334 [02:59<00:00,  1.86it/s]\n",
      "100%|█████████████████████████████████████████| 334/334 [03:00<00:00,  1.85it/s]\n",
      "100%|█████████████████████████████████████████| 334/334 [02:59<00:00,  1.86it/s]\n",
      "100%|█████████████████████████████████████████| 334/334 [03:00<00:00,  1.85it/s]\n",
      "100%|█████████████████████████████████████████| 334/334 [03:01<00:00,  1.84it/s]\n",
      "100%|█████████████████████████████████████████| 334/334 [03:00<00:00,  1.85it/s]\n",
      "100%|█████████████████████████████████████████| 334/334 [03:02<00:00,  1.83it/s]\n",
      "100%|█████████████████████████████████████████| 334/334 [03:00<00:00,  1.85it/s]\n"
     ]
    },
    {
     "name": "stdout",
     "output_type": "stream",
     "text": [
      " Fold 2 MAPE: 0.0803\n",
      "\n",
      " Trying: LR=0.001, Epochs=30, Weight Decay=1e-05\n"
     ]
    },
    {
     "name": "stderr",
     "output_type": "stream",
     "text": [
      "100%|█████████████████████████████████████████| 334/334 [02:59<00:00,  1.86it/s]\n",
      "100%|█████████████████████████████████████████| 334/334 [02:57<00:00,  1.88it/s]\n",
      "100%|█████████████████████████████████████████| 334/334 [02:57<00:00,  1.88it/s]\n",
      "100%|█████████████████████████████████████████| 334/334 [02:58<00:00,  1.87it/s]\n",
      "100%|█████████████████████████████████████████| 334/334 [02:58<00:00,  1.88it/s]\n",
      "100%|█████████████████████████████████████████| 334/334 [02:58<00:00,  1.87it/s]\n",
      "100%|█████████████████████████████████████████| 334/334 [02:58<00:00,  1.87it/s]\n",
      "100%|█████████████████████████████████████████| 334/334 [02:59<00:00,  1.86it/s]\n",
      "100%|█████████████████████████████████████████| 334/334 [02:59<00:00,  1.86it/s]\n",
      "100%|█████████████████████████████████████████| 334/334 [02:59<00:00,  1.86it/s]\n",
      "100%|█████████████████████████████████████████| 334/334 [03:01<00:00,  1.84it/s]\n",
      "100%|█████████████████████████████████████████| 334/334 [03:00<00:00,  1.85it/s]\n",
      "100%|█████████████████████████████████████████| 334/334 [03:00<00:00,  1.85it/s]\n",
      "100%|█████████████████████████████████████████| 334/334 [03:01<00:00,  1.84it/s]\n",
      "100%|█████████████████████████████████████████| 334/334 [02:59<00:00,  1.86it/s]\n",
      "100%|█████████████████████████████████████████| 334/334 [03:00<00:00,  1.85it/s]\n",
      "100%|█████████████████████████████████████████| 334/334 [03:00<00:00,  1.85it/s]\n",
      "100%|█████████████████████████████████████████| 334/334 [03:02<00:00,  1.83it/s]\n",
      "100%|█████████████████████████████████████████| 334/334 [03:00<00:00,  1.85it/s]\n",
      "100%|█████████████████████████████████████████| 334/334 [03:00<00:00,  1.85it/s]\n",
      "100%|█████████████████████████████████████████| 334/334 [03:01<00:00,  1.84it/s]\n",
      "100%|█████████████████████████████████████████| 334/334 [02:58<00:00,  1.87it/s]\n",
      "100%|█████████████████████████████████████████| 334/334 [02:58<00:00,  1.87it/s]\n",
      "100%|█████████████████████████████████████████| 334/334 [03:01<00:00,  1.84it/s]\n",
      "100%|█████████████████████████████████████████| 334/334 [02:59<00:00,  1.86it/s]\n",
      "100%|█████████████████████████████████████████| 334/334 [02:59<00:00,  1.86it/s]\n",
      "100%|█████████████████████████████████████████| 334/334 [03:00<00:00,  1.85it/s]\n",
      "100%|█████████████████████████████████████████| 334/334 [02:59<00:00,  1.86it/s]\n",
      "100%|█████████████████████████████████████████| 334/334 [02:59<00:00,  1.86it/s]\n",
      "100%|█████████████████████████████████████████| 334/334 [03:00<00:00,  1.85it/s]\n"
     ]
    },
    {
     "name": "stdout",
     "output_type": "stream",
     "text": [
      " Fold 3 MAPE: 0.1022\n",
      "\n",
      " Avg MAPE for LR=0.001, Epochs=30, Weight_decay=1e-05: 0.1030\n",
      "\n",
      " Trying: LR=0.001, Epochs=30, Weight Decay=0.0001\n"
     ]
    },
    {
     "name": "stderr",
     "output_type": "stream",
     "text": [
      "100%|█████████████████████████████████████████| 334/334 [02:52<00:00,  1.93it/s]\n",
      "100%|█████████████████████████████████████████| 334/334 [02:53<00:00,  1.92it/s]\n",
      "100%|█████████████████████████████████████████| 334/334 [02:57<00:00,  1.88it/s]\n",
      "100%|█████████████████████████████████████████| 334/334 [02:55<00:00,  1.90it/s]\n",
      "100%|█████████████████████████████████████████| 334/334 [02:56<00:00,  1.90it/s]\n",
      "100%|█████████████████████████████████████████| 334/334 [02:57<00:00,  1.88it/s]\n",
      "100%|█████████████████████████████████████████| 334/334 [02:56<00:00,  1.89it/s]\n",
      "100%|█████████████████████████████████████████| 334/334 [02:57<00:00,  1.88it/s]\n",
      "100%|█████████████████████████████████████████| 334/334 [02:58<00:00,  1.87it/s]\n",
      "100%|█████████████████████████████████████████| 334/334 [02:58<00:00,  1.87it/s]\n",
      "100%|█████████████████████████████████████████| 334/334 [02:58<00:00,  1.88it/s]\n",
      "100%|█████████████████████████████████████████| 334/334 [02:56<00:00,  1.89it/s]\n",
      "100%|█████████████████████████████████████████| 334/334 [02:56<00:00,  1.89it/s]\n",
      "100%|█████████████████████████████████████████| 334/334 [02:56<00:00,  1.89it/s]\n",
      "100%|█████████████████████████████████████████| 334/334 [02:58<00:00,  1.88it/s]\n",
      "100%|█████████████████████████████████████████| 334/334 [02:57<00:00,  1.88it/s]\n",
      "100%|█████████████████████████████████████████| 334/334 [02:57<00:00,  1.88it/s]\n",
      "100%|█████████████████████████████████████████| 334/334 [02:57<00:00,  1.88it/s]\n",
      "100%|█████████████████████████████████████████| 334/334 [02:58<00:00,  1.87it/s]\n",
      "100%|█████████████████████████████████████████| 334/334 [02:57<00:00,  1.88it/s]\n",
      "100%|█████████████████████████████████████████| 334/334 [02:59<00:00,  1.87it/s]\n",
      "100%|█████████████████████████████████████████| 334/334 [02:58<00:00,  1.87it/s]\n",
      "100%|█████████████████████████████████████████| 334/334 [02:58<00:00,  1.87it/s]\n",
      "100%|█████████████████████████████████████████| 334/334 [02:58<00:00,  1.87it/s]\n",
      "100%|█████████████████████████████████████████| 334/334 [02:58<00:00,  1.87it/s]\n",
      "100%|█████████████████████████████████████████| 334/334 [02:59<00:00,  1.86it/s]\n",
      "100%|█████████████████████████████████████████| 334/334 [02:59<00:00,  1.86it/s]\n",
      "100%|█████████████████████████████████████████| 334/334 [02:59<00:00,  1.86it/s]\n",
      "100%|█████████████████████████████████████████| 334/334 [03:00<00:00,  1.85it/s]\n",
      "100%|█████████████████████████████████████████| 334/334 [03:00<00:00,  1.85it/s]\n"
     ]
    },
    {
     "name": "stdout",
     "output_type": "stream",
     "text": [
      " Fold 1 MAPE: 0.1135\n",
      "\n",
      " Trying: LR=0.001, Epochs=30, Weight Decay=0.0001\n"
     ]
    },
    {
     "name": "stderr",
     "output_type": "stream",
     "text": [
      "100%|█████████████████████████████████████████| 334/334 [02:55<00:00,  1.90it/s]\n",
      "100%|█████████████████████████████████████████| 334/334 [02:53<00:00,  1.93it/s]\n",
      "100%|█████████████████████████████████████████| 334/334 [02:54<00:00,  1.91it/s]\n",
      "100%|█████████████████████████████████████████| 334/334 [02:55<00:00,  1.91it/s]\n",
      "100%|█████████████████████████████████████████| 334/334 [02:54<00:00,  1.92it/s]\n",
      "100%|█████████████████████████████████████████| 334/334 [02:54<00:00,  1.91it/s]\n",
      "100%|█████████████████████████████████████████| 334/334 [02:55<00:00,  1.90it/s]\n",
      "100%|█████████████████████████████████████████| 334/334 [02:56<00:00,  1.90it/s]\n",
      "100%|█████████████████████████████████████████| 334/334 [02:55<00:00,  1.90it/s]\n",
      "100%|█████████████████████████████████████████| 334/334 [02:55<00:00,  1.90it/s]\n",
      "100%|█████████████████████████████████████████| 334/334 [02:59<00:00,  1.86it/s]\n",
      "100%|█████████████████████████████████████████| 334/334 [02:57<00:00,  1.88it/s]\n",
      "100%|█████████████████████████████████████████| 334/334 [02:57<00:00,  1.88it/s]\n",
      "100%|█████████████████████████████████████████| 334/334 [02:57<00:00,  1.88it/s]\n",
      "100%|█████████████████████████████████████████| 334/334 [02:57<00:00,  1.88it/s]\n",
      "100%|█████████████████████████████████████████| 334/334 [02:58<00:00,  1.88it/s]\n",
      "100%|█████████████████████████████████████████| 334/334 [02:58<00:00,  1.87it/s]\n",
      "100%|█████████████████████████████████████████| 334/334 [02:58<00:00,  1.87it/s]\n",
      "100%|█████████████████████████████████████████| 334/334 [02:58<00:00,  1.87it/s]\n",
      "100%|█████████████████████████████████████████| 334/334 [02:58<00:00,  1.87it/s]\n",
      "100%|█████████████████████████████████████████| 334/334 [02:58<00:00,  1.87it/s]\n",
      "100%|█████████████████████████████████████████| 334/334 [02:56<00:00,  1.90it/s]\n",
      "100%|█████████████████████████████████████████| 334/334 [02:56<00:00,  1.90it/s]\n",
      "100%|█████████████████████████████████████████| 334/334 [02:57<00:00,  1.88it/s]\n",
      "100%|█████████████████████████████████████████| 334/334 [02:57<00:00,  1.88it/s]\n",
      "100%|█████████████████████████████████████████| 334/334 [02:59<00:00,  1.86it/s]\n",
      "100%|█████████████████████████████████████████| 334/334 [02:57<00:00,  1.88it/s]\n",
      "100%|█████████████████████████████████████████| 334/334 [02:57<00:00,  1.88it/s]\n",
      "100%|█████████████████████████████████████████| 334/334 [02:57<00:00,  1.88it/s]\n",
      "100%|█████████████████████████████████████████| 334/334 [02:58<00:00,  1.87it/s]\n"
     ]
    },
    {
     "name": "stdout",
     "output_type": "stream",
     "text": [
      " Fold 2 MAPE: 0.1471\n",
      "\n",
      " Trying: LR=0.001, Epochs=30, Weight Decay=0.0001\n"
     ]
    },
    {
     "name": "stderr",
     "output_type": "stream",
     "text": [
      "100%|█████████████████████████████████████████| 334/334 [02:58<00:00,  1.87it/s]\n",
      "100%|█████████████████████████████████████████| 334/334 [02:57<00:00,  1.89it/s]\n",
      "100%|█████████████████████████████████████████| 334/334 [02:57<00:00,  1.88it/s]\n",
      "100%|█████████████████████████████████████████| 334/334 [02:57<00:00,  1.88it/s]\n",
      "100%|█████████████████████████████████████████| 334/334 [02:57<00:00,  1.88it/s]\n",
      "100%|█████████████████████████████████████████| 334/334 [02:55<00:00,  1.90it/s]\n",
      "100%|█████████████████████████████████████████| 334/334 [02:53<00:00,  1.92it/s]\n",
      "100%|█████████████████████████████████████████| 334/334 [02:55<00:00,  1.90it/s]\n",
      "100%|█████████████████████████████████████████| 334/334 [02:57<00:00,  1.89it/s]\n",
      "100%|█████████████████████████████████████████| 334/334 [02:57<00:00,  1.88it/s]\n",
      "100%|█████████████████████████████████████████| 334/334 [02:58<00:00,  1.87it/s]\n",
      "100%|█████████████████████████████████████████| 334/334 [02:55<00:00,  1.90it/s]\n",
      "100%|█████████████████████████████████████████| 334/334 [02:57<00:00,  1.88it/s]\n",
      "100%|█████████████████████████████████████████| 334/334 [07:18<00:00,  1.31s/it]\n",
      "100%|█████████████████████████████████████████| 334/334 [09:43<00:00,  1.75s/it]\n",
      "100%|█████████████████████████████████████████| 334/334 [09:53<00:00,  1.78s/it]\n",
      "100%|███████████████████████████████████████| 334/334 [1:05:35<00:00, 11.78s/it]\n",
      "100%|█████████████████████████████████████████| 334/334 [02:31<00:00,  2.20it/s]\n",
      "100%|█████████████████████████████████████████| 334/334 [02:42<00:00,  2.05it/s]\n",
      "100%|█████████████████████████████████████████| 334/334 [02:48<00:00,  1.98it/s]\n",
      "100%|█████████████████████████████████████████| 334/334 [02:56<00:00,  1.90it/s]\n",
      "100%|█████████████████████████████████████████| 334/334 [02:57<00:00,  1.88it/s]\n",
      "100%|█████████████████████████████████████████| 334/334 [03:02<00:00,  1.83it/s]\n",
      "100%|█████████████████████████████████████████| 334/334 [02:56<00:00,  1.89it/s]\n",
      "100%|█████████████████████████████████████████| 334/334 [02:59<00:00,  1.86it/s]\n",
      "100%|█████████████████████████████████████████| 334/334 [02:58<00:00,  1.87it/s]\n",
      "100%|█████████████████████████████████████████| 334/334 [03:00<00:00,  1.85it/s]\n",
      "100%|█████████████████████████████████████████| 334/334 [03:01<00:00,  1.84it/s]\n",
      "100%|█████████████████████████████████████████| 334/334 [02:58<00:00,  1.87it/s]\n",
      "100%|█████████████████████████████████████████| 334/334 [02:58<00:00,  1.87it/s]\n"
     ]
    },
    {
     "name": "stdout",
     "output_type": "stream",
     "text": [
      " Fold 3 MAPE: 0.1250\n",
      "\n",
      " Avg MAPE for LR=0.001, Epochs=30, Weight_decay=0.0001: 0.1286\n"
     ]
    }
   ],
   "source": [
    "for lr in learning_rates:\n",
    "    for decay in weight_decays:\n",
    "        fold_mape_scores = []\n",
    "        for fold, (train_idx, val_idx) in enumerate(kf.split(all_paths)):\n",
    "            print(f\"\\n Trying: LR={lr}, Epochs={num_epochs}, Weight Decay={decay}\")\n",
    "            train_paths = all_paths[train_idx]\n",
    "            val_paths = all_paths[val_idx]\n",
    "\n",
    "            train_ds = SeismicInversionDataset(train_paths)\n",
    "            val_ds = SeismicInversionDataset(val_paths)\n",
    "            train_loader = DataLoader(train_ds, batch_size=4, shuffle=True)\n",
    "            val_loader = DataLoader(val_ds, batch_size=1)\n",
    "\n",
    "            model = UNet(in_channels=5, out_channels=1).to(device)\n",
    "            loss_func = nn.L1Loss()  \n",
    "            optimizer = optim.Adam(model.parameters(), lr=lr, weight_decay=decay)\n",
    "\n",
    "            for epoch in range(num_epochs):\n",
    "                model.train()\n",
    "                for inputs, targets in tqdm(train_loader):\n",
    "                    inputs = inputs.to(device)\n",
    "                    targets = targets.to(device)\n",
    "\n",
    "                    outputs = model(inputs)\n",
    "                    #Resize\n",
    "                    outputs = nn.functional.interpolate(outputs, size=(300, 1259), mode=\"bilinear\", align_corners=False)\n",
    "                    loss = loss_func(outputs,targets)\n",
    "\n",
    "                    optimizer.zero_grad()\n",
    "                    loss.backward()\n",
    "                    optimizer.step()\n",
    "\n",
    "            #validate\n",
    "            model.eval()\n",
    "            fold_mape = []\n",
    "            with torch.no_grad():\n",
    "                for x, y in val_loader:\n",
    "                    x, y = x.to(device), y.to(device)\n",
    "                    pred = model(x)\n",
    "                    pred = nn.functional.interpolate(pred, size=(300, 1259))\n",
    "                    mape = calculate_mape(y.cpu().numpy()[0, 0], pred.cpu().numpy()[0, 0])\n",
    "                    fold_mape.append(mape)\n",
    "            mean_fold_mape = np.mean(fold_mape)\n",
    "            print(f\" Fold {fold+1} MAPE: {mean_fold_mape:.4f}\")\n",
    "            fold_mape_scores.append(mean_fold_mape)\n",
    "        avg_mape = np.mean(fold_mape_scores)\n",
    "        results[(lr, num_epochs, decay)] = avg_mape\n",
    "        print(f\"\\n Avg MAPE for LR={lr}, Epochs={num_epochs}, Weight_decay={decay}: {avg_mape:.4f}\")\n",
    "            "
   ]
  },
  {
   "cell_type": "code",
   "execution_count": 32,
   "id": "89c9b337-86a1-408d-96d4-97e26d632644",
   "metadata": {},
   "outputs": [
    {
     "name": "stdout",
     "output_type": "stream",
     "text": [
      "\n",
      " Best: LR=0.0001, Epochs=30, WD=0.0 — MAPE=0.0531\n"
     ]
    }
   ],
   "source": [
    "best = sorted(results.items(), key=lambda x: x[1])[0]\n",
    "print(f\"\\n Best: LR={best[0][0]}, Epochs={best[0][1]}, WD={best[0][2]} — MAPE={best[1]:.4f}\")\n"
   ]
  },
  {
   "cell_type": "markdown",
   "id": "4cf68b8b-af7c-4c85-8701-6030e3ca0dfe",
   "metadata": {
    "jp-MarkdownHeadingCollapsed": true
   },
   "source": [
    "# Training the model on the best hyperparameters"
   ]
  },
  {
   "cell_type": "code",
   "execution_count": 37,
   "id": "2cd3f390-dcda-47f3-8481-986b8f0a5383",
   "metadata": {},
   "outputs": [],
   "source": [
    "def train_unet_model(model, train_loader, device, num_epochs, lr, save_path):\n",
    "    loss_func = nn.L1Loss()\n",
    "    optimizer = optim.Adam(model.parameters(), lr=lr)\n",
    "\n",
    "    for epoch in range(num_epochs):\n",
    "        model.train()\n",
    "        running_loss = 0.0\n",
    "\n",
    "        for inputs, targets in tqdm(train_loader, desc=f\"Epoch {epoch+1}/{num_epochs}\"):\n",
    "            inputs, targets = inputs.to(device), targets.to(device)\n",
    "\n",
    "            outputs = model(inputs)\n",
    "            outputs = nn.functional.interpolate(outputs, size=(300, 1259), mode=\"bilinear\", align_corners=False)\n",
    "\n",
    "            loss = loss_func(outputs, targets)\n",
    "            optimizer.zero_grad()\n",
    "            loss.backward()\n",
    "            optimizer.step()\n",
    "            running_loss += loss.item()\n",
    "\n",
    "        avg_loss = running_loss / len(train_loader)\n",
    "        print(f\"Epoch [{epoch+1}/{num_epochs}] - Avg Loss: {avg_loss:.4f}\")\n",
    "\n",
    "    torch.save(model.state_dict(), save_path)\n",
    "    print(f\"Model saved to {save_path}\")\n"
   ]
  },
  {
   "cell_type": "code",
   "execution_count": 39,
   "id": "6aecfce4-2a95-415f-b841-42bd986955c8",
   "metadata": {},
   "outputs": [
    {
     "name": "stderr",
     "output_type": "stream",
     "text": [
      "Epoch 1/30: 100%|█████████████████████████████| 500/500 [01:20<00:00,  6.18it/s]\n"
     ]
    },
    {
     "name": "stdout",
     "output_type": "stream",
     "text": [
      "Epoch [1/30] - Avg Loss: 1.3250\n"
     ]
    },
    {
     "name": "stderr",
     "output_type": "stream",
     "text": [
      "Epoch 2/30: 100%|█████████████████████████████| 500/500 [01:16<00:00,  6.53it/s]\n"
     ]
    },
    {
     "name": "stdout",
     "output_type": "stream",
     "text": [
      "Epoch [2/30] - Avg Loss: 0.3179\n"
     ]
    },
    {
     "name": "stderr",
     "output_type": "stream",
     "text": [
      "Epoch 3/30: 100%|█████████████████████████████| 500/500 [01:35<00:00,  5.26it/s]\n"
     ]
    },
    {
     "name": "stdout",
     "output_type": "stream",
     "text": [
      "Epoch [3/30] - Avg Loss: 0.1491\n"
     ]
    },
    {
     "name": "stderr",
     "output_type": "stream",
     "text": [
      "Epoch 4/30: 100%|█████████████████████████████| 500/500 [01:34<00:00,  5.27it/s]\n"
     ]
    },
    {
     "name": "stdout",
     "output_type": "stream",
     "text": [
      "Epoch [4/30] - Avg Loss: 0.1407\n"
     ]
    },
    {
     "name": "stderr",
     "output_type": "stream",
     "text": [
      "Epoch 5/30: 100%|█████████████████████████████| 500/500 [01:38<00:00,  5.08it/s]\n"
     ]
    },
    {
     "name": "stdout",
     "output_type": "stream",
     "text": [
      "Epoch [5/30] - Avg Loss: 0.1274\n"
     ]
    },
    {
     "name": "stderr",
     "output_type": "stream",
     "text": [
      "Epoch 6/30: 100%|█████████████████████████████| 500/500 [01:38<00:00,  5.06it/s]\n"
     ]
    },
    {
     "name": "stdout",
     "output_type": "stream",
     "text": [
      "Epoch [6/30] - Avg Loss: 0.1168\n"
     ]
    },
    {
     "name": "stderr",
     "output_type": "stream",
     "text": [
      "Epoch 7/30: 100%|█████████████████████████████| 500/500 [01:41<00:00,  4.93it/s]\n"
     ]
    },
    {
     "name": "stdout",
     "output_type": "stream",
     "text": [
      "Epoch [7/30] - Avg Loss: 0.1098\n"
     ]
    },
    {
     "name": "stderr",
     "output_type": "stream",
     "text": [
      "Epoch 8/30: 100%|█████████████████████████████| 500/500 [01:43<00:00,  4.85it/s]\n"
     ]
    },
    {
     "name": "stdout",
     "output_type": "stream",
     "text": [
      "Epoch [8/30] - Avg Loss: 0.1050\n"
     ]
    },
    {
     "name": "stderr",
     "output_type": "stream",
     "text": [
      "Epoch 9/30: 100%|█████████████████████████████| 500/500 [01:41<00:00,  4.91it/s]\n"
     ]
    },
    {
     "name": "stdout",
     "output_type": "stream",
     "text": [
      "Epoch [9/30] - Avg Loss: 0.1022\n"
     ]
    },
    {
     "name": "stderr",
     "output_type": "stream",
     "text": [
      "Epoch 10/30: 100%|████████████████████████████| 500/500 [01:42<00:00,  4.89it/s]\n"
     ]
    },
    {
     "name": "stdout",
     "output_type": "stream",
     "text": [
      "Epoch [10/30] - Avg Loss: 0.1013\n"
     ]
    },
    {
     "name": "stderr",
     "output_type": "stream",
     "text": [
      "Epoch 11/30: 100%|████████████████████████████| 500/500 [01:46<00:00,  4.69it/s]\n"
     ]
    },
    {
     "name": "stdout",
     "output_type": "stream",
     "text": [
      "Epoch [11/30] - Avg Loss: 0.0995\n"
     ]
    },
    {
     "name": "stderr",
     "output_type": "stream",
     "text": [
      "Epoch 12/30: 100%|████████████████████████████| 500/500 [01:44<00:00,  4.78it/s]\n"
     ]
    },
    {
     "name": "stdout",
     "output_type": "stream",
     "text": [
      "Epoch [12/30] - Avg Loss: 0.0976\n"
     ]
    },
    {
     "name": "stderr",
     "output_type": "stream",
     "text": [
      "Epoch 13/30: 100%|████████████████████████████| 500/500 [01:44<00:00,  4.78it/s]\n"
     ]
    },
    {
     "name": "stdout",
     "output_type": "stream",
     "text": [
      "Epoch [13/30] - Avg Loss: 0.0980\n"
     ]
    },
    {
     "name": "stderr",
     "output_type": "stream",
     "text": [
      "Epoch 14/30: 100%|████████████████████████████| 500/500 [01:45<00:00,  4.75it/s]\n"
     ]
    },
    {
     "name": "stdout",
     "output_type": "stream",
     "text": [
      "Epoch [14/30] - Avg Loss: 0.0963\n"
     ]
    },
    {
     "name": "stderr",
     "output_type": "stream",
     "text": [
      "Epoch 15/30: 100%|████████████████████████████| 500/500 [01:46<00:00,  4.70it/s]\n"
     ]
    },
    {
     "name": "stdout",
     "output_type": "stream",
     "text": [
      "Epoch [15/30] - Avg Loss: 0.0947\n"
     ]
    },
    {
     "name": "stderr",
     "output_type": "stream",
     "text": [
      "Epoch 16/30: 100%|████████████████████████████| 500/500 [01:45<00:00,  4.75it/s]\n"
     ]
    },
    {
     "name": "stdout",
     "output_type": "stream",
     "text": [
      "Epoch [16/30] - Avg Loss: 0.0944\n"
     ]
    },
    {
     "name": "stderr",
     "output_type": "stream",
     "text": [
      "Epoch 17/30: 100%|████████████████████████████| 500/500 [01:44<00:00,  4.79it/s]\n"
     ]
    },
    {
     "name": "stdout",
     "output_type": "stream",
     "text": [
      "Epoch [17/30] - Avg Loss: 0.0933\n"
     ]
    },
    {
     "name": "stderr",
     "output_type": "stream",
     "text": [
      "Epoch 18/30: 100%|████████████████████████████| 500/500 [01:46<00:00,  4.68it/s]\n"
     ]
    },
    {
     "name": "stdout",
     "output_type": "stream",
     "text": [
      "Epoch [18/30] - Avg Loss: 0.0935\n"
     ]
    },
    {
     "name": "stderr",
     "output_type": "stream",
     "text": [
      "Epoch 19/30: 100%|████████████████████████████| 500/500 [01:48<00:00,  4.61it/s]\n"
     ]
    },
    {
     "name": "stdout",
     "output_type": "stream",
     "text": [
      "Epoch [19/30] - Avg Loss: 0.0930\n"
     ]
    },
    {
     "name": "stderr",
     "output_type": "stream",
     "text": [
      "Epoch 20/30: 100%|████████████████████████████| 500/500 [01:46<00:00,  4.69it/s]\n"
     ]
    },
    {
     "name": "stdout",
     "output_type": "stream",
     "text": [
      "Epoch [20/30] - Avg Loss: 0.0933\n"
     ]
    },
    {
     "name": "stderr",
     "output_type": "stream",
     "text": [
      "Epoch 21/30: 100%|████████████████████████████| 500/500 [01:46<00:00,  4.71it/s]\n"
     ]
    },
    {
     "name": "stdout",
     "output_type": "stream",
     "text": [
      "Epoch [21/30] - Avg Loss: 0.0921\n"
     ]
    },
    {
     "name": "stderr",
     "output_type": "stream",
     "text": [
      "Epoch 22/30: 100%|████████████████████████████| 500/500 [01:45<00:00,  4.72it/s]\n"
     ]
    },
    {
     "name": "stdout",
     "output_type": "stream",
     "text": [
      "Epoch [22/30] - Avg Loss: 0.0913\n"
     ]
    },
    {
     "name": "stderr",
     "output_type": "stream",
     "text": [
      "Epoch 23/30: 100%|████████████████████████████| 500/500 [01:46<00:00,  4.71it/s]\n"
     ]
    },
    {
     "name": "stdout",
     "output_type": "stream",
     "text": [
      "Epoch [23/30] - Avg Loss: 0.0911\n"
     ]
    },
    {
     "name": "stderr",
     "output_type": "stream",
     "text": [
      "Epoch 24/30: 100%|████████████████████████████| 500/500 [01:46<00:00,  4.67it/s]\n"
     ]
    },
    {
     "name": "stdout",
     "output_type": "stream",
     "text": [
      "Epoch [24/30] - Avg Loss: 0.0911\n"
     ]
    },
    {
     "name": "stderr",
     "output_type": "stream",
     "text": [
      "Epoch 25/30: 100%|████████████████████████████| 500/500 [01:46<00:00,  4.70it/s]\n"
     ]
    },
    {
     "name": "stdout",
     "output_type": "stream",
     "text": [
      "Epoch [25/30] - Avg Loss: 0.0909\n"
     ]
    },
    {
     "name": "stderr",
     "output_type": "stream",
     "text": [
      "Epoch 26/30: 100%|████████████████████████████| 500/500 [01:41<00:00,  4.92it/s]\n"
     ]
    },
    {
     "name": "stdout",
     "output_type": "stream",
     "text": [
      "Epoch [26/30] - Avg Loss: 0.0900\n"
     ]
    },
    {
     "name": "stderr",
     "output_type": "stream",
     "text": [
      "Epoch 27/30: 100%|████████████████████████████| 500/500 [01:43<00:00,  4.85it/s]\n"
     ]
    },
    {
     "name": "stdout",
     "output_type": "stream",
     "text": [
      "Epoch [27/30] - Avg Loss: 0.0899\n"
     ]
    },
    {
     "name": "stderr",
     "output_type": "stream",
     "text": [
      "Epoch 28/30: 100%|████████████████████████████| 500/500 [01:42<00:00,  4.87it/s]\n"
     ]
    },
    {
     "name": "stdout",
     "output_type": "stream",
     "text": [
      "Epoch [28/30] - Avg Loss: 0.0902\n"
     ]
    },
    {
     "name": "stderr",
     "output_type": "stream",
     "text": [
      "Epoch 29/30: 100%|████████████████████████████| 500/500 [01:42<00:00,  4.88it/s]\n"
     ]
    },
    {
     "name": "stdout",
     "output_type": "stream",
     "text": [
      "Epoch [29/30] - Avg Loss: 0.0897\n"
     ]
    },
    {
     "name": "stderr",
     "output_type": "stream",
     "text": [
      "Epoch 30/30: 100%|████████████████████████████| 500/500 [01:44<00:00,  4.77it/s]\n"
     ]
    },
    {
     "name": "stdout",
     "output_type": "stream",
     "text": [
      "Epoch [30/30] - Avg Loss: 0.0894\n",
      "Model saved to best_unet.pth\n"
     ]
    }
   ],
   "source": [
    "train_unet_model(model, train_loader, device, 30, 0.0001, \"best_unet.pth\")"
   ]
  },
  {
   "cell_type": "markdown",
   "id": "380f0022-09ec-448e-b089-151afd74fdc1",
   "metadata": {},
   "source": [
    "# Attention Unet"
   ]
  },
  {
   "cell_type": "code",
   "execution_count": 152,
   "id": "7358d4da-83ad-41b0-8eff-a50a0ebeaa42",
   "metadata": {},
   "outputs": [],
   "source": [
    "class conv_block(nn.Module):\n",
    "    def __init__(self,in_c,out_c):\n",
    "        super().__init__()\n",
    "        self.conv = nn.Sequential(\n",
    "            nn.Conv2d(in_c,out_c,kernel_size=3,padding=1),\n",
    "            nn.BatchNorm2d(out_c),\n",
    "            nn.ReLU(inplace=True),\n",
    "            nn.Conv2d(out_c,out_c,kernel_size=3,padding=1),\n",
    "            nn.BatchNorm2d(out_c),\n",
    "            nn.ReLU(inplace=True)\n",
    "        )\n",
    "    def forward(self,x):\n",
    "        return self.conv(x)\n",
    "\n",
    "class attention_block(nn.Module):\n",
    "    def __init__(self, F_g, F_l, F_int):\n",
    "        super().__init__()\n",
    "        self.W_g = nn.Sequential(\n",
    "            nn.Conv2d(F_g, F_int, kernel_size=1, stride=1, padding=0),\n",
    "            nn.BatchNorm2d(F_int)\n",
    "        )\n",
    "        self.W_x = nn.Sequential(\n",
    "            nn.Conv2d(F_l, F_int, kernel_size=1, stride=1, padding=0),\n",
    "            nn.BatchNorm2d(F_int)\n",
    "        )\n",
    "        self.psi = nn.Sequential(\n",
    "            nn.Conv2d(F_int, 1, kernel_size=1, stride=1, padding=0),\n",
    "            nn.BatchNorm2d(1),\n",
    "            nn.Sigmoid()\n",
    "        )\n",
    "        self.relu = nn.ReLU(inplace=True)\n",
    "\n",
    "    def forward(self,g,x):\n",
    "        g1 = self.W_g(g)\n",
    "        x1 = self.W_x(x)\n",
    "        psi = self.relu(g1 + x1)\n",
    "        psi = self.psi(psi)\n",
    "        return x * psi"
   ]
  },
  {
   "cell_type": "code",
   "execution_count": 154,
   "id": "087ce673-8463-4933-a89d-a3cf13c72428",
   "metadata": {},
   "outputs": [],
   "source": [
    "class encoder_block(nn.Module):\n",
    "    def __init__(self, in_c, out_c):\n",
    "        super().__init__()\n",
    "        self.conv = conv_block(in_c, out_c)\n",
    "        self.pool = nn.MaxPool2d(kernel_size=2, stride=2)\n",
    "    def forward(self, x):\n",
    "        x = self.conv(x)\n",
    "        p = self.pool(x)\n",
    "        return x, p\n",
    "\n",
    "class decoder_block(nn.Module):\n",
    "    def __init__(self, in_c, out_c):\n",
    "        super().__init__()\n",
    "        self.up = nn.ConvTranspose2d(in_c,out_c,kernel_size=2,stride=2)\n",
    "        self.attention = attention_block(F_g=out_c, F_l=out_c, F_int=out_c // 2)\n",
    "        self.conv = conv_block(in_c, out_c)\n",
    "    def forward(self, x, skip):\n",
    "        x = self.up(x)\n",
    "        if x.shape[2:] != skip.shape[2:]:\n",
    "            x = F.interpolate(x, size=skip.shape[2:], mode=\"bilinear\", align_corners=False)\n",
    "        attn = self.attention(g=x, x=skip)\n",
    "        x = torch.cat([x, attn], dim=1)\n",
    "        x = self.conv(x)\n",
    "        return x\n"
   ]
  },
  {
   "cell_type": "code",
   "execution_count": 156,
   "id": "f822293d-c40e-451c-947c-8c97ea6e4dd1",
   "metadata": {},
   "outputs": [],
   "source": [
    "class AttentionUNet(nn.Module):\n",
    "    def __init__(self, in_channels=5, out_channels=1):\n",
    "        super().__init__()\n",
    "        self.e1 = encoder_block(in_channels, 64)\n",
    "        self.e2 = encoder_block(64, 128)\n",
    "        self.e3 = encoder_block(128, 256)\n",
    "        self.e4 = encoder_block(256, 512)\n",
    "\n",
    "        self.b = conv_block(512, 1024)\n",
    "\n",
    "        self.d1 = decoder_block(1024, 512)\n",
    "        self.d2 = decoder_block(512, 256)\n",
    "        self.d3 = decoder_block(256, 128)\n",
    "        self.d4 = decoder_block(128, 64)\n",
    "\n",
    "        self.outputs = nn.Conv2d(64, out_channels, kernel_size=1)\n",
    "\n",
    "    def forward(self, x):\n",
    "        s1, p1 = self.e1(x)\n",
    "        s2, p2 = self.e2(p1)\n",
    "        s3, p3 = self.e3(p2)\n",
    "        s4, p4 = self.e4(p3)\n",
    "\n",
    "        b = self.b(p4)\n",
    "\n",
    "        d1 = self.d1(b, s4)\n",
    "        d2 = self.d2(d1, s3)\n",
    "        d3 = self.d3(d2, s2)\n",
    "        d4 = self.d4(d3, s1)\n",
    "\n",
    "        return self.outputs(d4)"
   ]
  },
  {
   "cell_type": "markdown",
   "id": "333d864e-7cf7-4f2b-862a-f50da2290a10",
   "metadata": {},
   "source": [
    "## Training Attention unet"
   ]
  },
  {
   "cell_type": "code",
   "execution_count": 186,
   "id": "61700de6-c986-4e58-8b84-5fe6f8125d3a",
   "metadata": {},
   "outputs": [],
   "source": [
    "device = torch.device(\"mps\" if torch.backends.mps.is_available() else \"cpu\")\n",
    "model = AttentionUNet().to(device)\n",
    "optimizer = optim.Adam(model.parameters(), lr=1e-4,weight_decay=1e-5)\n",
    "loss_fn = nn.MSELoss()"
   ]
  },
  {
   "cell_type": "code",
   "execution_count": 188,
   "id": "2d4e7993-ee6f-4ae4-b2a4-f9093a62c60f",
   "metadata": {},
   "outputs": [],
   "source": [
    "np.random.shuffle(sample_paths)\n",
    "val_split = 0.2\n",
    "val_size = int(len(sample_paths) * val_split)\n",
    "val_paths = sample_paths[:val_size]\n",
    "train_paths = sample_paths[val_size:]\n",
    "\n",
    "train_loader = DataLoader(SeismicInversionDataset(train_paths), batch_size=8, shuffle=True)\n",
    "val_loader = DataLoader(SeismicInversionDataset(val_paths), batch_size=8)"
   ]
  },
  {
   "cell_type": "code",
   "execution_count": 194,
   "id": "b3c98c42-d742-451c-90a9-b7e6b31028d6",
   "metadata": {},
   "outputs": [],
   "source": [
    "def train_attention_unet(train_loader, val_loader, model, optimizer, loss_fn, \n",
    "                         max_epochs=100, patience=10, checkpoint_path=\"checkpoint_attunet.pth\"):\n",
    "    device = next(model.parameters()).device\n",
    "\n",
    "    # Load checkpoint if available\n",
    "    if os.path.exists(checkpoint_path):\n",
    "        checkpoint = torch.load(checkpoint_path, map_location=device)\n",
    "        model.load_state_dict(checkpoint['model_state_dict'])\n",
    "        optimizer.load_state_dict(checkpoint['optimizer_state_dict'])\n",
    "        start_epoch = checkpoint['epoch'] + 1\n",
    "        best_val_mape = checkpoint['best_val_mape']\n",
    "        print(f\"Resuming from epoch {start_epoch} with best_val_mape {best_val_mape:.6f}\")\n",
    "    else:\n",
    "        start_epoch = 0\n",
    "        best_val_mape = float('inf')\n",
    "    epochs_no_improve = 0\n",
    "\n",
    "    for epoch in range(start_epoch, max_epochs):\n",
    "        model.train()\n",
    "        train_loss = 0.0\n",
    "        for seismic, velocity in tqdm(train_loader, desc=f\"Epoch {epoch+1} Training\"):\n",
    "            seismic, velocity = seismic.to(device), velocity.to(device)\n",
    "            optimizer.zero_grad()\n",
    "            output = model(seismic)\n",
    "            output = nn.functional.interpolate(output, size=velocity.shape[-2:], mode=\"bilinear\", align_corners=False)\n",
    "            loss = loss_fn(output, velocity)\n",
    "            loss.backward()\n",
    "            optimizer.step()\n",
    "            train_loss += loss.item()\n",
    "        avg_train_loss = train_loss / len(train_loader)\n",
    "        print(f\"Epoch {epoch+1} Training Loss: {avg_train_loss:.6f}\")\n",
    "\n",
    "        model.eval()\n",
    "        val_loss = 0.0\n",
    "        mapes = []\n",
    "        with torch.no_grad():\n",
    "            for seismic, velocity in tqdm(val_loader, desc=f\"Epoch {epoch+1} Validation\"):\n",
    "                seismic, velocity = seismic.to(device), velocity.to(device)\n",
    "                output = model(seismic)\n",
    "                output = nn.functional.interpolate(output, size=velocity.shape[-2:], mode=\"bilinear\", align_corners=False)\n",
    "                loss = loss_fn(output, velocity)\n",
    "                val_loss += loss.item()\n",
    "                mape = calculate_mape(velocity.cpu().numpy(), output.cpu().numpy())\n",
    "                mapes.append(mape)\n",
    "        avg_val_loss = val_loss / len(val_loader)\n",
    "        avg_val_mape = np.mean(mapes)\n",
    "        print(f\"Epoch {epoch+1}: Validation Loss = {avg_val_loss:.4f}, Validation MAPE = {avg_val_mape:.4f}\")\n",
    "\n",
    "        # Early stopping & checkpoint\n",
    "        if avg_val_mape < best_val_mape:\n",
    "            best_val_mape = avg_val_mape\n",
    "            epochs_no_improve = 0\n",
    "            torch.save({\n",
    "                'epoch': epoch,\n",
    "                'model_state_dict': model.state_dict(),\n",
    "                'optimizer_state_dict': optimizer.state_dict(),\n",
    "                'best_val_mape': best_val_mape\n",
    "            }, checkpoint_path)\n",
    "            print(\"--> New Best Model Saved.\")\n",
    "        else:\n",
    "            epochs_no_improve += 1\n",
    "            if epochs_no_improve >= patience:\n",
    "                print(f\"Early stopping at epoch {epoch+1} (patience {patience})\")\n",
    "                break\n",
    "\n",
    "    print(f\"Training complete. Best Validation MAPE: {best_val_mape:.6f}\")\n"
   ]
  },
  {
   "cell_type": "code",
   "execution_count": 196,
   "id": "fc8f4cca-dc44-41de-8eb3-61838c913d2c",
   "metadata": {},
   "outputs": [
    {
     "name": "stderr",
     "output_type": "stream",
     "text": [
      "Epoch 1 Training: 100%|███████████████████████| 500/500 [29:38<00:00,  3.56s/it]\n"
     ]
    },
    {
     "name": "stdout",
     "output_type": "stream",
     "text": [
      "Epoch 1 Training Loss: 0.054305\n"
     ]
    },
    {
     "name": "stderr",
     "output_type": "stream",
     "text": [
      "Epoch 1 Validation: 100%|█████████████████████| 125/125 [02:12<00:00,  1.06s/it]\n"
     ]
    },
    {
     "name": "stdout",
     "output_type": "stream",
     "text": [
      "Epoch 1: Validation Loss = 0.1315, Validation MAPE = 0.0962\n",
      "--> New Best Model Saved.\n"
     ]
    },
    {
     "name": "stderr",
     "output_type": "stream",
     "text": [
      "Epoch 2 Training: 100%|███████████████████████| 500/500 [31:49<00:00,  3.82s/it]\n"
     ]
    },
    {
     "name": "stdout",
     "output_type": "stream",
     "text": [
      "Epoch 2 Training Loss: 0.052375\n"
     ]
    },
    {
     "name": "stderr",
     "output_type": "stream",
     "text": [
      "Epoch 2 Validation: 100%|█████████████████████| 125/125 [02:19<00:00,  1.11s/it]\n"
     ]
    },
    {
     "name": "stdout",
     "output_type": "stream",
     "text": [
      "Epoch 2: Validation Loss = 0.1114, Validation MAPE = 0.0930\n",
      "--> New Best Model Saved.\n"
     ]
    },
    {
     "name": "stderr",
     "output_type": "stream",
     "text": [
      "Epoch 3 Training: 100%|███████████████████████| 500/500 [32:27<00:00,  3.90s/it]\n"
     ]
    },
    {
     "name": "stdout",
     "output_type": "stream",
     "text": [
      "Epoch 3 Training Loss: 0.051011\n"
     ]
    },
    {
     "name": "stderr",
     "output_type": "stream",
     "text": [
      "Epoch 3 Validation: 100%|█████████████████████| 125/125 [02:14<00:00,  1.07s/it]\n"
     ]
    },
    {
     "name": "stdout",
     "output_type": "stream",
     "text": [
      "Epoch 3: Validation Loss = 0.0753, Validation MAPE = 0.0684\n",
      "--> New Best Model Saved.\n"
     ]
    },
    {
     "name": "stderr",
     "output_type": "stream",
     "text": [
      "Epoch 4 Training: 100%|███████████████████████| 500/500 [32:32<00:00,  3.90s/it]\n"
     ]
    },
    {
     "name": "stdout",
     "output_type": "stream",
     "text": [
      "Epoch 4 Training Loss: 0.050018\n"
     ]
    },
    {
     "name": "stderr",
     "output_type": "stream",
     "text": [
      "Epoch 4 Validation: 100%|█████████████████████| 125/125 [02:15<00:00,  1.09s/it]\n"
     ]
    },
    {
     "name": "stdout",
     "output_type": "stream",
     "text": [
      "Epoch 4: Validation Loss = 0.1048, Validation MAPE = 0.0788\n"
     ]
    },
    {
     "name": "stderr",
     "output_type": "stream",
     "text": [
      "Epoch 5 Training: 100%|███████████████████████| 500/500 [32:50<00:00,  3.94s/it]\n"
     ]
    },
    {
     "name": "stdout",
     "output_type": "stream",
     "text": [
      "Epoch 5 Training Loss: 0.049653\n"
     ]
    },
    {
     "name": "stderr",
     "output_type": "stream",
     "text": [
      "Epoch 5 Validation: 100%|█████████████████████| 125/125 [02:15<00:00,  1.08s/it]\n"
     ]
    },
    {
     "name": "stdout",
     "output_type": "stream",
     "text": [
      "Epoch 5: Validation Loss = 0.0804, Validation MAPE = 0.0681\n",
      "--> New Best Model Saved.\n"
     ]
    },
    {
     "name": "stderr",
     "output_type": "stream",
     "text": [
      "Epoch 6 Training: 100%|███████████████████████| 500/500 [32:51<00:00,  3.94s/it]\n"
     ]
    },
    {
     "name": "stdout",
     "output_type": "stream",
     "text": [
      "Epoch 6 Training Loss: 0.049362\n"
     ]
    },
    {
     "name": "stderr",
     "output_type": "stream",
     "text": [
      "Epoch 6 Validation: 100%|█████████████████████| 125/125 [02:21<00:00,  1.13s/it]\n"
     ]
    },
    {
     "name": "stdout",
     "output_type": "stream",
     "text": [
      "Epoch 6: Validation Loss = 0.0981, Validation MAPE = 0.0765\n"
     ]
    },
    {
     "name": "stderr",
     "output_type": "stream",
     "text": [
      "Epoch 7 Training: 100%|███████████████████████| 500/500 [33:16<00:00,  3.99s/it]\n"
     ]
    },
    {
     "name": "stdout",
     "output_type": "stream",
     "text": [
      "Epoch 7 Training Loss: 0.048076\n"
     ]
    },
    {
     "name": "stderr",
     "output_type": "stream",
     "text": [
      "Epoch 7 Validation: 100%|█████████████████████| 125/125 [02:18<00:00,  1.11s/it]\n"
     ]
    },
    {
     "name": "stdout",
     "output_type": "stream",
     "text": [
      "Epoch 7: Validation Loss = 0.0864, Validation MAPE = 0.0792\n"
     ]
    },
    {
     "name": "stderr",
     "output_type": "stream",
     "text": [
      "Epoch 8 Training: 100%|███████████████████████| 500/500 [32:57<00:00,  3.95s/it]\n"
     ]
    },
    {
     "name": "stdout",
     "output_type": "stream",
     "text": [
      "Epoch 8 Training Loss: 0.047127\n"
     ]
    },
    {
     "name": "stderr",
     "output_type": "stream",
     "text": [
      "Epoch 8 Validation: 100%|█████████████████████| 125/125 [02:15<00:00,  1.09s/it]\n"
     ]
    },
    {
     "name": "stdout",
     "output_type": "stream",
     "text": [
      "Epoch 8: Validation Loss = 0.0823, Validation MAPE = 0.0665\n",
      "--> New Best Model Saved.\n"
     ]
    },
    {
     "name": "stderr",
     "output_type": "stream",
     "text": [
      "Epoch 9 Training: 100%|███████████████████████| 500/500 [32:34<00:00,  3.91s/it]\n"
     ]
    },
    {
     "name": "stdout",
     "output_type": "stream",
     "text": [
      "Epoch 9 Training Loss: 0.047289\n"
     ]
    },
    {
     "name": "stderr",
     "output_type": "stream",
     "text": [
      "Epoch 9 Validation: 100%|█████████████████████| 125/125 [02:16<00:00,  1.09s/it]\n"
     ]
    },
    {
     "name": "stdout",
     "output_type": "stream",
     "text": [
      "Epoch 9: Validation Loss = 0.0730, Validation MAPE = 0.0681\n"
     ]
    },
    {
     "name": "stderr",
     "output_type": "stream",
     "text": [
      "Epoch 10 Training: 100%|██████████████████████| 500/500 [32:56<00:00,  3.95s/it]\n"
     ]
    },
    {
     "name": "stdout",
     "output_type": "stream",
     "text": [
      "Epoch 10 Training Loss: 0.046091\n"
     ]
    },
    {
     "name": "stderr",
     "output_type": "stream",
     "text": [
      "Epoch 10 Validation: 100%|████████████████████| 125/125 [02:16<00:00,  1.09s/it]\n"
     ]
    },
    {
     "name": "stdout",
     "output_type": "stream",
     "text": [
      "Epoch 10: Validation Loss = 0.0731, Validation MAPE = 0.0666\n"
     ]
    },
    {
     "name": "stderr",
     "output_type": "stream",
     "text": [
      "Epoch 11 Training: 100%|██████████████████████| 500/500 [32:41<00:00,  3.92s/it]\n"
     ]
    },
    {
     "name": "stdout",
     "output_type": "stream",
     "text": [
      "Epoch 11 Training Loss: 0.045749\n"
     ]
    },
    {
     "name": "stderr",
     "output_type": "stream",
     "text": [
      "Epoch 11 Validation: 100%|████████████████████| 125/125 [02:19<00:00,  1.11s/it]\n"
     ]
    },
    {
     "name": "stdout",
     "output_type": "stream",
     "text": [
      "Epoch 11: Validation Loss = 0.0681, Validation MAPE = 0.0649\n",
      "--> New Best Model Saved.\n"
     ]
    },
    {
     "name": "stderr",
     "output_type": "stream",
     "text": [
      "Epoch 12 Training: 100%|██████████████████████| 500/500 [32:39<00:00,  3.92s/it]\n"
     ]
    },
    {
     "name": "stdout",
     "output_type": "stream",
     "text": [
      "Epoch 12 Training Loss: 0.044809\n"
     ]
    },
    {
     "name": "stderr",
     "output_type": "stream",
     "text": [
      "Epoch 12 Validation: 100%|████████████████████| 125/125 [02:19<00:00,  1.12s/it]\n"
     ]
    },
    {
     "name": "stdout",
     "output_type": "stream",
     "text": [
      "Epoch 12: Validation Loss = 0.0518, Validation MAPE = 0.0563\n",
      "--> New Best Model Saved.\n"
     ]
    },
    {
     "name": "stderr",
     "output_type": "stream",
     "text": [
      "Epoch 13 Training: 100%|██████████████████████| 500/500 [33:32<00:00,  4.02s/it]\n"
     ]
    },
    {
     "name": "stdout",
     "output_type": "stream",
     "text": [
      "Epoch 13 Training Loss: 0.044517\n"
     ]
    },
    {
     "name": "stderr",
     "output_type": "stream",
     "text": [
      "Epoch 13 Validation: 100%|████████████████████| 125/125 [02:31<00:00,  1.21s/it]\n"
     ]
    },
    {
     "name": "stdout",
     "output_type": "stream",
     "text": [
      "Epoch 13: Validation Loss = 0.1069, Validation MAPE = 0.0774\n"
     ]
    },
    {
     "name": "stderr",
     "output_type": "stream",
     "text": [
      "Epoch 14 Training: 100%|██████████████████████| 500/500 [41:34<00:00,  4.99s/it]\n"
     ]
    },
    {
     "name": "stdout",
     "output_type": "stream",
     "text": [
      "Epoch 14 Training Loss: 0.043949\n"
     ]
    },
    {
     "name": "stderr",
     "output_type": "stream",
     "text": [
      "Epoch 14 Validation: 100%|████████████████████| 125/125 [02:25<00:00,  1.16s/it]\n"
     ]
    },
    {
     "name": "stdout",
     "output_type": "stream",
     "text": [
      "Epoch 14: Validation Loss = 0.0696, Validation MAPE = 0.0645\n"
     ]
    },
    {
     "name": "stderr",
     "output_type": "stream",
     "text": [
      "Epoch 15 Training: 100%|██████████████████████| 500/500 [34:39<00:00,  4.16s/it]\n"
     ]
    },
    {
     "name": "stdout",
     "output_type": "stream",
     "text": [
      "Epoch 15 Training Loss: 0.043584\n"
     ]
    },
    {
     "name": "stderr",
     "output_type": "stream",
     "text": [
      "Epoch 15 Validation: 100%|████████████████████| 125/125 [02:21<00:00,  1.13s/it]\n"
     ]
    },
    {
     "name": "stdout",
     "output_type": "stream",
     "text": [
      "Epoch 15: Validation Loss = 0.0591, Validation MAPE = 0.0596\n"
     ]
    },
    {
     "name": "stderr",
     "output_type": "stream",
     "text": [
      "Epoch 16 Training: 100%|██████████████████████| 500/500 [34:20<00:00,  4.12s/it]\n"
     ]
    },
    {
     "name": "stdout",
     "output_type": "stream",
     "text": [
      "Epoch 16 Training Loss: 0.043233\n"
     ]
    },
    {
     "name": "stderr",
     "output_type": "stream",
     "text": [
      "Epoch 16 Validation: 100%|████████████████████| 125/125 [02:28<00:00,  1.19s/it]\n"
     ]
    },
    {
     "name": "stdout",
     "output_type": "stream",
     "text": [
      "Epoch 16: Validation Loss = 0.0763, Validation MAPE = 0.0659\n"
     ]
    },
    {
     "name": "stderr",
     "output_type": "stream",
     "text": [
      "Epoch 17 Training: 100%|██████████████████████| 500/500 [34:42<00:00,  4.17s/it]\n"
     ]
    },
    {
     "name": "stdout",
     "output_type": "stream",
     "text": [
      "Epoch 17 Training Loss: 0.043398\n"
     ]
    },
    {
     "name": "stderr",
     "output_type": "stream",
     "text": [
      "Epoch 17 Validation: 100%|████████████████████| 125/125 [02:22<00:00,  1.14s/it]\n"
     ]
    },
    {
     "name": "stdout",
     "output_type": "stream",
     "text": [
      "Epoch 17: Validation Loss = 0.0979, Validation MAPE = 0.0863\n"
     ]
    },
    {
     "name": "stderr",
     "output_type": "stream",
     "text": [
      "Epoch 18 Training: 100%|██████████████████████| 500/500 [35:06<00:00,  4.21s/it]\n"
     ]
    },
    {
     "name": "stdout",
     "output_type": "stream",
     "text": [
      "Epoch 18 Training Loss: 0.042448\n"
     ]
    },
    {
     "name": "stderr",
     "output_type": "stream",
     "text": [
      "Epoch 18 Validation: 100%|████████████████████| 125/125 [02:28<00:00,  1.19s/it]\n"
     ]
    },
    {
     "name": "stdout",
     "output_type": "stream",
     "text": [
      "Epoch 18: Validation Loss = 0.0825, Validation MAPE = 0.0766\n"
     ]
    },
    {
     "name": "stderr",
     "output_type": "stream",
     "text": [
      "Epoch 19 Training: 100%|██████████████████████| 500/500 [35:55<00:00,  4.31s/it]\n"
     ]
    },
    {
     "name": "stdout",
     "output_type": "stream",
     "text": [
      "Epoch 19 Training Loss: 0.042633\n"
     ]
    },
    {
     "name": "stderr",
     "output_type": "stream",
     "text": [
      "Epoch 19 Validation: 100%|████████████████████| 125/125 [02:31<00:00,  1.21s/it]\n"
     ]
    },
    {
     "name": "stdout",
     "output_type": "stream",
     "text": [
      "Epoch 19: Validation Loss = 0.0634, Validation MAPE = 0.0606\n"
     ]
    },
    {
     "name": "stderr",
     "output_type": "stream",
     "text": [
      "Epoch 20 Training: 100%|██████████████████████| 500/500 [33:23<00:00,  4.01s/it]\n"
     ]
    },
    {
     "name": "stdout",
     "output_type": "stream",
     "text": [
      "Epoch 20 Training Loss: 0.041893\n"
     ]
    },
    {
     "name": "stderr",
     "output_type": "stream",
     "text": [
      "Epoch 20 Validation: 100%|████████████████████| 125/125 [02:07<00:00,  1.02s/it]\n"
     ]
    },
    {
     "name": "stdout",
     "output_type": "stream",
     "text": [
      "Epoch 20: Validation Loss = 0.0611, Validation MAPE = 0.0576\n"
     ]
    },
    {
     "name": "stderr",
     "output_type": "stream",
     "text": [
      "Epoch 21 Training: 100%|██████████████████████| 500/500 [30:50<00:00,  3.70s/it]\n"
     ]
    },
    {
     "name": "stdout",
     "output_type": "stream",
     "text": [
      "Epoch 21 Training Loss: 0.041489\n"
     ]
    },
    {
     "name": "stderr",
     "output_type": "stream",
     "text": [
      "Epoch 21 Validation: 100%|████████████████████| 125/125 [02:18<00:00,  1.11s/it]\n"
     ]
    },
    {
     "name": "stdout",
     "output_type": "stream",
     "text": [
      "Epoch 21: Validation Loss = 0.0503, Validation MAPE = 0.0516\n",
      "--> New Best Model Saved.\n"
     ]
    },
    {
     "name": "stderr",
     "output_type": "stream",
     "text": [
      "Epoch 22 Training: 100%|██████████████████████| 500/500 [35:29<00:00,  4.26s/it]\n"
     ]
    },
    {
     "name": "stdout",
     "output_type": "stream",
     "text": [
      "Epoch 22 Training Loss: 0.041011\n"
     ]
    },
    {
     "name": "stderr",
     "output_type": "stream",
     "text": [
      "Epoch 22 Validation: 100%|████████████████████| 125/125 [03:04<00:00,  1.47s/it]\n"
     ]
    },
    {
     "name": "stdout",
     "output_type": "stream",
     "text": [
      "Epoch 22: Validation Loss = 0.0548, Validation MAPE = 0.0572\n"
     ]
    },
    {
     "name": "stderr",
     "output_type": "stream",
     "text": [
      "Epoch 23 Training: 100%|██████████████████████| 500/500 [41:34<00:00,  4.99s/it]\n"
     ]
    },
    {
     "name": "stdout",
     "output_type": "stream",
     "text": [
      "Epoch 23 Training Loss: 0.041020\n"
     ]
    },
    {
     "name": "stderr",
     "output_type": "stream",
     "text": [
      "Epoch 23 Validation: 100%|████████████████████| 125/125 [02:21<00:00,  1.13s/it]\n"
     ]
    },
    {
     "name": "stdout",
     "output_type": "stream",
     "text": [
      "Epoch 23: Validation Loss = 0.0742, Validation MAPE = 0.0653\n"
     ]
    },
    {
     "name": "stderr",
     "output_type": "stream",
     "text": [
      "Epoch 24 Training: 100%|██████████████████████| 500/500 [33:29<00:00,  4.02s/it]\n"
     ]
    },
    {
     "name": "stdout",
     "output_type": "stream",
     "text": [
      "Epoch 24 Training Loss: 0.040714\n"
     ]
    },
    {
     "name": "stderr",
     "output_type": "stream",
     "text": [
      "Epoch 24 Validation: 100%|████████████████████| 125/125 [02:18<00:00,  1.11s/it]\n"
     ]
    },
    {
     "name": "stdout",
     "output_type": "stream",
     "text": [
      "Epoch 24: Validation Loss = 0.0515, Validation MAPE = 0.0558\n"
     ]
    },
    {
     "name": "stderr",
     "output_type": "stream",
     "text": [
      "Epoch 25 Training: 100%|██████████████████████| 500/500 [33:23<00:00,  4.01s/it]\n"
     ]
    },
    {
     "name": "stdout",
     "output_type": "stream",
     "text": [
      "Epoch 25 Training Loss: 0.040809\n"
     ]
    },
    {
     "name": "stderr",
     "output_type": "stream",
     "text": [
      "Epoch 25 Validation: 100%|████████████████████| 125/125 [02:19<00:00,  1.12s/it]\n"
     ]
    },
    {
     "name": "stdout",
     "output_type": "stream",
     "text": [
      "Epoch 25: Validation Loss = 0.0497, Validation MAPE = 0.0530\n"
     ]
    },
    {
     "name": "stderr",
     "output_type": "stream",
     "text": [
      "Epoch 26 Training: 100%|██████████████████████| 500/500 [33:37<00:00,  4.03s/it]\n"
     ]
    },
    {
     "name": "stdout",
     "output_type": "stream",
     "text": [
      "Epoch 26 Training Loss: 0.040262\n"
     ]
    },
    {
     "name": "stderr",
     "output_type": "stream",
     "text": [
      "Epoch 26 Validation: 100%|████████████████████| 125/125 [02:23<00:00,  1.14s/it]\n"
     ]
    },
    {
     "name": "stdout",
     "output_type": "stream",
     "text": [
      "Epoch 26: Validation Loss = 0.0733, Validation MAPE = 0.0653\n"
     ]
    },
    {
     "name": "stderr",
     "output_type": "stream",
     "text": [
      "Epoch 27 Training: 100%|██████████████████████| 500/500 [35:59<00:00,  4.32s/it]\n"
     ]
    },
    {
     "name": "stdout",
     "output_type": "stream",
     "text": [
      "Epoch 27 Training Loss: 0.040213\n"
     ]
    },
    {
     "name": "stderr",
     "output_type": "stream",
     "text": [
      "Epoch 27 Validation: 100%|████████████████████| 125/125 [02:23<00:00,  1.15s/it]\n"
     ]
    },
    {
     "name": "stdout",
     "output_type": "stream",
     "text": [
      "Epoch 27: Validation Loss = 0.0544, Validation MAPE = 0.0575\n"
     ]
    },
    {
     "name": "stderr",
     "output_type": "stream",
     "text": [
      "Epoch 28 Training: 100%|██████████████████████| 500/500 [39:54<00:00,  4.79s/it]\n"
     ]
    },
    {
     "name": "stdout",
     "output_type": "stream",
     "text": [
      "Epoch 28 Training Loss: 0.039890\n"
     ]
    },
    {
     "name": "stderr",
     "output_type": "stream",
     "text": [
      "Epoch 28 Validation: 100%|████████████████████| 125/125 [02:36<00:00,  1.25s/it]\n"
     ]
    },
    {
     "name": "stdout",
     "output_type": "stream",
     "text": [
      "Epoch 28: Validation Loss = 0.0538, Validation MAPE = 0.0575\n"
     ]
    },
    {
     "name": "stderr",
     "output_type": "stream",
     "text": [
      "Epoch 29 Training: 100%|██████████████████████| 500/500 [40:22<00:00,  4.85s/it]\n"
     ]
    },
    {
     "name": "stdout",
     "output_type": "stream",
     "text": [
      "Epoch 29 Training Loss: 0.039899\n"
     ]
    },
    {
     "name": "stderr",
     "output_type": "stream",
     "text": [
      "Epoch 29 Validation: 100%|████████████████████| 125/125 [02:36<00:00,  1.25s/it]\n"
     ]
    },
    {
     "name": "stdout",
     "output_type": "stream",
     "text": [
      "Epoch 29: Validation Loss = 0.0598, Validation MAPE = 0.0590\n"
     ]
    },
    {
     "name": "stderr",
     "output_type": "stream",
     "text": [
      "Epoch 30 Training: 100%|██████████████████████| 500/500 [35:18<00:00,  4.24s/it]\n"
     ]
    },
    {
     "name": "stdout",
     "output_type": "stream",
     "text": [
      "Epoch 30 Training Loss: 0.039537\n"
     ]
    },
    {
     "name": "stderr",
     "output_type": "stream",
     "text": [
      "Epoch 30 Validation: 100%|████████████████████| 125/125 [02:26<00:00,  1.17s/it]\n"
     ]
    },
    {
     "name": "stdout",
     "output_type": "stream",
     "text": [
      "Epoch 30: Validation Loss = 0.0591, Validation MAPE = 0.0596\n"
     ]
    },
    {
     "name": "stderr",
     "output_type": "stream",
     "text": [
      "Epoch 31 Training: 100%|██████████████████████| 500/500 [35:55<00:00,  4.31s/it]\n"
     ]
    },
    {
     "name": "stdout",
     "output_type": "stream",
     "text": [
      "Epoch 31 Training Loss: 0.039050\n"
     ]
    },
    {
     "name": "stderr",
     "output_type": "stream",
     "text": [
      "Epoch 31 Validation: 100%|████████████████████| 125/125 [02:26<00:00,  1.17s/it]"
     ]
    },
    {
     "name": "stdout",
     "output_type": "stream",
     "text": [
      "Epoch 31: Validation Loss = 0.0679, Validation MAPE = 0.0645\n",
      "Early stopping at epoch 31 (patience 10)\n",
      "Training complete. Best Validation MAPE: 0.051620\n"
     ]
    },
    {
     "name": "stderr",
     "output_type": "stream",
     "text": [
      "\n"
     ]
    }
   ],
   "source": [
    "train_attention_unet(train_loader, val_loader, model, optimizer, loss_fn, max_epochs=100)"
   ]
  },
  {
   "cell_type": "markdown",
   "id": "106f67b4-a26e-48a9-927a-d6d6c2f973d5",
   "metadata": {},
   "source": [
    "# Evaluating the model"
   ]
  },
  {
   "cell_type": "code",
   "execution_count": 30,
   "id": "22344146-f995-401c-a680-4e02571dae1d",
   "metadata": {},
   "outputs": [],
   "source": [
    "test_data = '../data/speed-and-structure-test-data/*'\n",
    "test_paths = glob(test_data)\n",
    "test_ids = [path.split(\"/\")[-1] for path in test_paths]"
   ]
  },
  {
   "cell_type": "code",
   "execution_count": 247,
   "id": "0daa69c7-c994-460a-96ca-8adfa1a35604",
   "metadata": {},
   "outputs": [],
   "source": [
    "def evaluate_and_submit(model, test_paths, submission_path):\n",
    "    model.eval()\n",
    "    device = next(model.parameters()).device\n",
    "\n",
    "    with torch.no_grad():\n",
    "        for sample_path in tqdm(test_paths, desc=\"Creating Submission\"):\n",
    "            sample_id = os.path.basename(sample_path)\n",
    "\n",
    "            input_stack = []\n",
    "            for src_id in [1, 75, 150, 225, 300]:\n",
    "                src_file = os.path.join(sample_path, f\"receiver_data_src_{src_id}.npy\")\n",
    "                data = np.load(src_file).astype(np.float32)\n",
    "                data = data[::3]  # Downsample time axis\n",
    "                input_stack.append(data)\n",
    "            input_tensor = np.stack(input_stack, axis=0)  # Shape: (5, ~250, 31)\n",
    "            input_tensor = torch.from_numpy(input_tensor).unsqueeze(0).to(device)\n",
    "\n",
    "            output = model(input_tensor)\n",
    "            output = nn.functional.interpolate(output, size=(300, 1259), mode=\"bilinear\", align_corners=False)\n",
    "            prediction = output.squeeze().cpu().numpy().astype(np.float64)\n",
    "\n",
    "            create_submission(sample_id, prediction, submission_path)\n",
    "        "
   ]
  },
  {
   "cell_type": "code",
   "execution_count": 202,
   "id": "b684e834-857e-4e19-aa74-24423b1649a9",
   "metadata": {},
   "outputs": [
    {
     "name": "stderr",
     "output_type": "stream",
     "text": [
      "/var/folders/6s/xngjz95x6js23_vsrqlkp1l80000gn/T/ipykernel_88322/1510031920.py:1: FutureWarning: You are using `torch.load` with `weights_only=False` (the current default value), which uses the default pickle module implicitly. It is possible to construct malicious pickle data which will execute arbitrary code during unpickling (See https://github.com/pytorch/pytorch/blob/main/SECURITY.md#untrusted-models for more details). In a future release, the default value for `weights_only` will be flipped to `True`. This limits the functions that could be executed during unpickling. Arbitrary objects will no longer be allowed to be loaded via this mode unless they are explicitly allowlisted by the user via `torch.serialization.add_safe_globals`. We recommend you start setting `weights_only=True` for any use case where you don't have full control of the loaded file. Please open an issue on GitHub for any issues related to this experimental feature.\n",
      "  checkpoint = torch.load(\"checkpoint_attunet.pth\", map_location=device)\n"
     ]
    },
    {
     "data": {
      "text/plain": [
       "<All keys matched successfully>"
      ]
     },
     "execution_count": 202,
     "metadata": {},
     "output_type": "execute_result"
    }
   ],
   "source": [
    "checkpoint = torch.load(\"checkpoint_attunet.pth\", map_location=device)\n",
    "model.load_state_dict(checkpoint[\"model_state_dict\"])"
   ]
  },
  {
   "cell_type": "code",
   "execution_count": null,
   "id": "73c58c51-0e49-4e02-b0d0-6bbee9dd2afd",
   "metadata": {},
   "outputs": [],
   "source": []
  },
  {
   "cell_type": "code",
   "execution_count": 204,
   "id": "5fa47cf7-3c9d-4a62-b537-8fc379ae1e70",
   "metadata": {},
   "outputs": [
    {
     "name": "stderr",
     "output_type": "stream",
     "text": [
      "Creating Submission: 100%|████████████████████| 150/150 [01:20<00:00,  1.86it/s]\n"
     ]
    }
   ],
   "source": [
    "evaluate_and_submit(model, test_paths, \"submission_attn_unet.npz\")"
   ]
  },
  {
   "cell_type": "markdown",
   "id": "2fc3dd90-cbb5-4b5d-ab0d-9de1ee815079",
   "metadata": {},
   "source": [
    "# Residual Attention unet"
   ]
  },
  {
   "cell_type": "code",
   "execution_count": 227,
   "id": "7dfacb88-d57c-4c2a-a85a-50ee23f23d8d",
   "metadata": {},
   "outputs": [],
   "source": [
    "class ResidualConvBlock(nn.Module):\n",
    "    def __init__(self, in_channels, out_channels, dropout_rate=0.2):\n",
    "        super().__init__()\n",
    "\n",
    "        self.conv1 = nn.Sequential(\n",
    "            nn.Conv2d(in_channels, out_channels, kernel_size=3, padding=1),\n",
    "            nn.BatchNorm2d(out_channels),\n",
    "            nn.ReLU(inplace=True),\n",
    "            nn.Dropout2d(p=dropout_rate) if dropout_rate > 0 else nn.Identity()\n",
    "        )\n",
    "\n",
    "        self.conv2 = nn.Sequential(\n",
    "            nn.Conv2d(out_channels, out_channels, kernel_size=3, padding=1),\n",
    "            nn.BatchNorm2d(out_channels)\n",
    "        )\n",
    "\n",
    "        self.activation = nn.ReLU(inplace=True)\n",
    "        self.res_connection = nn.Conv2d(in_channels, out_channels, kernel_size=1)\n",
    "\n",
    "    def forward(self, x):\n",
    "        out = self.conv1(x)\n",
    "        out = self.conv2(out)\n",
    "        res = self.res_connection(x)\n",
    "        return self.activation(out + res)\n"
   ]
  },
  {
   "cell_type": "code",
   "execution_count": 229,
   "id": "2d1e859a-e080-4097-bbae-af3316666cd1",
   "metadata": {},
   "outputs": [],
   "source": [
    "class UpConv(nn.Module):\n",
    "    def __init__(self, in_channels, out_channels):\n",
    "        super().__init__()\n",
    "        self.up = nn.ConvTranspose2d(in_channels, out_channels, 2, stride=2)\n",
    "\n",
    "    def forward(self, x):\n",
    "        return self.up(x)"
   ]
  },
  {
   "cell_type": "code",
   "execution_count": 237,
   "id": "053b9f6c-1155-4280-ae08-fff7ba4c7faa",
   "metadata": {},
   "outputs": [],
   "source": [
    "class EncoderBlock(nn.Module):\n",
    "    def __init__(self, in_channels, out_channels, dropout_rate=0.2):\n",
    "        super().__init__()\n",
    "        self.conv = ResidualConvBlock(in_channels, out_channels, dropout_rate)\n",
    "        self.pool = nn.MaxPool2d(2, 2)\n",
    "\n",
    "    def forward(self, x):\n",
    "        x = self.conv(x)\n",
    "        p = self.pool(x)\n",
    "        return x, p\n",
    "\n",
    "class DecoderBlock(nn.Module):\n",
    "    def __init__(self, in_channels, out_channels, dropout_rate=0.2):\n",
    "        super().__init__()\n",
    "        self.up = UpConv(in_channels, out_channels)\n",
    "        self.att = attention_block(F_g=out_channels, F_l=out_channels, F_int=out_channels // 2)\n",
    "        self.conv = ResidualConvBlock(in_channels, out_channels, dropout_rate)\n",
    "\n",
    "    def forward(self, x, skip):\n",
    "        x = self.up(x)\n",
    "        if x.shape[2:] != skip.shape[2:]:\n",
    "            x = F.interpolate(x, size=skip.shape[2:], mode='bilinear', align_corners=False)\n",
    "        skip = self.att(x, skip)\n",
    "        x = torch.cat([skip, x], dim=1)\n",
    "        x = self.conv(x)\n",
    "        return x\n"
   ]
  },
  {
   "cell_type": "code",
   "execution_count": 239,
   "id": "4ebad86b-ac1a-4ac5-bc1c-859bb92687d6",
   "metadata": {},
   "outputs": [],
   "source": [
    "class ResAttentionUNet(nn.Module):\n",
    "    def __init__(self, in_channels=5, out_channels=1, dropout_rate=0.2):\n",
    "        super().__init__()\n",
    "\n",
    "        self.enc1 = EncoderBlock(in_channels, 64, dropout_rate)\n",
    "        self.enc2 = EncoderBlock(64, 128, dropout_rate)\n",
    "        self.enc3 = EncoderBlock(128, 256, dropout_rate)\n",
    "        self.enc4 = EncoderBlock(256, 512, dropout_rate)\n",
    "\n",
    "        self.bottleneck = ResidualConvBlock(512, 1024, dropout_rate)\n",
    "\n",
    "        self.dec4 = DecoderBlock(1024, 512, dropout_rate)\n",
    "        self.dec3 = DecoderBlock(512, 256, dropout_rate)\n",
    "        self.dec2 = DecoderBlock(256, 128, dropout_rate)\n",
    "        self.dec1 = DecoderBlock(128, 64, dropout_rate)\n",
    "\n",
    "        self.final = nn.Conv2d(64, out_channels, kernel_size=1)\n",
    "\n",
    "    def forward(self, x):\n",
    "        e1, p1 = self.enc1(x)\n",
    "        e2, p2 = self.enc2(p1)\n",
    "        e3, p3 = self.enc3(p2)\n",
    "        e4, p4 = self.enc4(p3)\n",
    "\n",
    "        b = self.bottleneck(p4)\n",
    "\n",
    "        d4 = self.dec4(b, e4)\n",
    "        d3 = self.dec3(d4, e3)\n",
    "        d2 = self.dec2(d3, e2)\n",
    "        d1 = self.dec1(d2, e1)\n",
    "\n",
    "        return self.final(d1)\n",
    "\n"
   ]
  },
  {
   "cell_type": "code",
   "execution_count": 241,
   "id": "74ee0097-5687-4c8b-beb6-742ab0e071ba",
   "metadata": {},
   "outputs": [
    {
     "name": "stderr",
     "output_type": "stream",
     "text": [
      "/opt/anaconda3/lib/python3.12/site-packages/torch/optim/lr_scheduler.py:62: UserWarning: The verbose parameter is deprecated. Please use get_last_lr() to access the learning rate.\n",
      "  warnings.warn(\n"
     ]
    }
   ],
   "source": [
    "device = torch.device(\"mps\" if torch.backends.mps.is_available() else \"cpu\")\n",
    "model = ResAttentionUNet().to(device)\n",
    "optimizer = optim.Adam(model.parameters(), lr=1e-4,weight_decay=1e-5)\n",
    "scheduler = torch.optim.lr_scheduler.ReduceLROnPlateau(\n",
    "    optimizer,\n",
    "    mode='min',\n",
    "    factor=0.5,     # reduce LR by half\n",
    "    patience=3,     # epochs to wait before reducing\n",
    "    verbose=True\n",
    ")\n",
    "loss_fn = nn.MSELoss()"
   ]
  },
  {
   "cell_type": "code",
   "execution_count": 243,
   "id": "54002863-62dc-4ccf-b6f9-b0f1fa0be50e",
   "metadata": {},
   "outputs": [],
   "source": [
    "def train_res_attention_unet(train_loader, val_loader, model, optimizer, loss_fn, scheduler,\n",
    "                         max_epochs=100, patience=10, checkpoint_path=\"checkpoint_resattunet.pth\"):\n",
    "    device = next(model.parameters()).device\n",
    "\n",
    "    # Load checkpoint if available\n",
    "    if os.path.exists(checkpoint_path):\n",
    "        checkpoint = torch.load(checkpoint_path, map_location=device)\n",
    "        model.load_state_dict(checkpoint['model_state_dict'])\n",
    "        optimizer.load_state_dict(checkpoint['optimizer_state_dict'])\n",
    "        start_epoch = checkpoint['epoch'] + 1\n",
    "        best_val_mape = checkpoint['best_val_mape']\n",
    "        print(f\"Resuming from epoch {start_epoch} with best_val_mape {best_val_mape:.6f}\")\n",
    "    else:\n",
    "        start_epoch = 0\n",
    "        best_val_mape = float('inf')\n",
    "    epochs_no_improve = 0\n",
    "\n",
    "    for epoch in range(start_epoch, max_epochs):\n",
    "        model.train()\n",
    "        train_loss = 0.0\n",
    "        for seismic, velocity in tqdm(train_loader, desc=f\"Epoch {epoch+1} Training\"):\n",
    "            seismic, velocity = seismic.to(device), velocity.to(device)\n",
    "            optimizer.zero_grad()\n",
    "            output = model(seismic)\n",
    "            output = nn.functional.interpolate(output, size=velocity.shape[-2:], mode=\"bilinear\", align_corners=False)\n",
    "            loss = loss_fn(output, velocity)\n",
    "            loss.backward()\n",
    "            optimizer.step()\n",
    "            train_loss += loss.item()\n",
    "        avg_train_loss = train_loss / len(train_loader)\n",
    "        print(f\"Epoch {epoch+1} Training Loss: {avg_train_loss:.6f}\")\n",
    "\n",
    "        model.eval()\n",
    "        val_loss = 0.0\n",
    "        mapes = []\n",
    "        with torch.no_grad():\n",
    "            for seismic, velocity in tqdm(val_loader, desc=f\"Epoch {epoch+1} Validation\"):\n",
    "                seismic, velocity = seismic.to(device), velocity.to(device)\n",
    "                output = model(seismic)\n",
    "                output = nn.functional.interpolate(output, size=velocity.shape[-2:], mode=\"bilinear\", align_corners=False)\n",
    "                loss = loss_fn(output, velocity)\n",
    "                val_loss += loss.item()\n",
    "                mape = calculate_mape(velocity.cpu().numpy(), output.cpu().numpy())\n",
    "                mapes.append(mape)\n",
    "        avg_val_loss = val_loss / len(val_loader)\n",
    "        avg_val_mape = np.mean(mapes)\n",
    "        print(f\"Epoch {epoch+1}: Validation Loss = {avg_val_loss:.4f}, Validation MAPE = {avg_val_mape:.4f}\")\n",
    "        scheduler.step(avg_val_mape)\n",
    "        # Early stopping & checkpoint\n",
    "        if avg_val_mape < best_val_mape:\n",
    "            best_val_mape = avg_val_mape\n",
    "            epochs_no_improve = 0\n",
    "            torch.save({\n",
    "                'epoch': epoch,\n",
    "                'model_state_dict': model.state_dict(),\n",
    "                'optimizer_state_dict': optimizer.state_dict(),\n",
    "                'best_val_mape': best_val_mape\n",
    "            }, checkpoint_path)\n",
    "            print(\"--> New Best Model Saved.\")\n",
    "        else:\n",
    "            epochs_no_improve += 1\n",
    "            if epochs_no_improve >= patience:\n",
    "                print(f\"Early stopping at epoch {epoch+1} (patience {patience})\")\n",
    "                break\n",
    "\n",
    "    print(f\"Training complete. Best Validation MAPE: {best_val_mape:.6f}\")"
   ]
  },
  {
   "cell_type": "code",
   "execution_count": 245,
   "id": "08c43de2-6624-49de-b171-fa4bec51c36e",
   "metadata": {},
   "outputs": [
    {
     "name": "stderr",
     "output_type": "stream",
     "text": [
      "Epoch 1 Training: 100%|███████████████████████| 500/500 [56:18<00:00,  6.76s/it]\n"
     ]
    },
    {
     "name": "stdout",
     "output_type": "stream",
     "text": [
      "Epoch 1 Training Loss: 0.757151\n"
     ]
    },
    {
     "name": "stderr",
     "output_type": "stream",
     "text": [
      "Epoch 1 Validation: 100%|█████████████████████| 125/125 [02:27<00:00,  1.18s/it]\n"
     ]
    },
    {
     "name": "stdout",
     "output_type": "stream",
     "text": [
      "Epoch 1: Validation Loss = 0.0816, Validation MAPE = 0.0768\n",
      "--> New Best Model Saved.\n"
     ]
    },
    {
     "name": "stderr",
     "output_type": "stream",
     "text": [
      "Epoch 2 Training: 100%|███████████████████████| 500/500 [57:31<00:00,  6.90s/it]\n"
     ]
    },
    {
     "name": "stdout",
     "output_type": "stream",
     "text": [
      "Epoch 2 Training Loss: 0.088902\n"
     ]
    },
    {
     "name": "stderr",
     "output_type": "stream",
     "text": [
      "Epoch 2 Validation: 100%|█████████████████████| 125/125 [02:35<00:00,  1.24s/it]\n"
     ]
    },
    {
     "name": "stdout",
     "output_type": "stream",
     "text": [
      "Epoch 2: Validation Loss = 0.0863, Validation MAPE = 0.0780\n"
     ]
    },
    {
     "name": "stderr",
     "output_type": "stream",
     "text": [
      "Epoch 3 Training: 100%|███████████████████████| 500/500 [53:16<00:00,  6.39s/it]\n"
     ]
    },
    {
     "name": "stdout",
     "output_type": "stream",
     "text": [
      "Epoch 3 Training Loss: 0.086676\n"
     ]
    },
    {
     "name": "stderr",
     "output_type": "stream",
     "text": [
      "Epoch 3 Validation: 100%|█████████████████████| 125/125 [02:34<00:00,  1.23s/it]\n"
     ]
    },
    {
     "name": "stdout",
     "output_type": "stream",
     "text": [
      "Epoch 3: Validation Loss = 0.0849, Validation MAPE = 0.0795\n"
     ]
    },
    {
     "name": "stderr",
     "output_type": "stream",
     "text": [
      "Epoch 4 Training: 100%|███████████████████████| 500/500 [51:44<00:00,  6.21s/it]\n"
     ]
    },
    {
     "name": "stdout",
     "output_type": "stream",
     "text": [
      "Epoch 4 Training Loss: 0.084093\n"
     ]
    },
    {
     "name": "stderr",
     "output_type": "stream",
     "text": [
      "Epoch 4 Validation: 100%|█████████████████████| 125/125 [02:27<00:00,  1.18s/it]\n"
     ]
    },
    {
     "name": "stdout",
     "output_type": "stream",
     "text": [
      "Epoch 4: Validation Loss = 0.0808, Validation MAPE = 0.0798\n"
     ]
    },
    {
     "name": "stderr",
     "output_type": "stream",
     "text": [
      "Epoch 5 Training: 100%|███████████████████████| 500/500 [57:43<00:00,  6.93s/it]\n"
     ]
    },
    {
     "name": "stdout",
     "output_type": "stream",
     "text": [
      "Epoch 5 Training Loss: 0.082189\n"
     ]
    },
    {
     "name": "stderr",
     "output_type": "stream",
     "text": [
      "Epoch 5 Validation: 100%|█████████████████████| 125/125 [02:44<00:00,  1.32s/it]\n"
     ]
    },
    {
     "name": "stdout",
     "output_type": "stream",
     "text": [
      "Epoch 5: Validation Loss = 0.0836, Validation MAPE = 0.0803\n"
     ]
    },
    {
     "name": "stderr",
     "output_type": "stream",
     "text": [
      "Epoch 6 Training: 100%|█████████████████████| 500/500 [1:00:53<00:00,  7.31s/it]\n"
     ]
    },
    {
     "name": "stdout",
     "output_type": "stream",
     "text": [
      "Epoch 6 Training Loss: 0.076991\n"
     ]
    },
    {
     "name": "stderr",
     "output_type": "stream",
     "text": [
      "Epoch 6 Validation: 100%|█████████████████████| 125/125 [02:30<00:00,  1.21s/it]\n"
     ]
    },
    {
     "name": "stdout",
     "output_type": "stream",
     "text": [
      "Epoch 6: Validation Loss = 0.0779, Validation MAPE = 0.0756\n",
      "--> New Best Model Saved.\n"
     ]
    },
    {
     "name": "stderr",
     "output_type": "stream",
     "text": [
      "Epoch 7 Training: 100%|█████████████████████| 500/500 [1:03:43<00:00,  7.65s/it]\n"
     ]
    },
    {
     "name": "stdout",
     "output_type": "stream",
     "text": [
      "Epoch 7 Training Loss: 0.074128\n"
     ]
    },
    {
     "name": "stderr",
     "output_type": "stream",
     "text": [
      "Epoch 7 Validation: 100%|█████████████████████| 125/125 [02:33<00:00,  1.23s/it]\n"
     ]
    },
    {
     "name": "stdout",
     "output_type": "stream",
     "text": [
      "Epoch 7: Validation Loss = 0.0689, Validation MAPE = 0.0693\n",
      "--> New Best Model Saved.\n"
     ]
    },
    {
     "name": "stderr",
     "output_type": "stream",
     "text": [
      "Epoch 8 Training: 100%|█████████████████████| 500/500 [1:04:35<00:00,  7.75s/it]\n"
     ]
    },
    {
     "name": "stdout",
     "output_type": "stream",
     "text": [
      "Epoch 8 Training Loss: 0.071789\n"
     ]
    },
    {
     "name": "stderr",
     "output_type": "stream",
     "text": [
      "Epoch 8 Validation: 100%|█████████████████████| 125/125 [02:59<00:00,  1.43s/it]\n"
     ]
    },
    {
     "name": "stdout",
     "output_type": "stream",
     "text": [
      "Epoch 8: Validation Loss = 0.0701, Validation MAPE = 0.0673\n",
      "--> New Best Model Saved.\n"
     ]
    },
    {
     "name": "stderr",
     "output_type": "stream",
     "text": [
      "Epoch 9 Training: 100%|█████████████████████| 500/500 [1:03:36<00:00,  7.63s/it]\n"
     ]
    },
    {
     "name": "stdout",
     "output_type": "stream",
     "text": [
      "Epoch 9 Training Loss: 0.066555\n"
     ]
    },
    {
     "name": "stderr",
     "output_type": "stream",
     "text": [
      "Epoch 9 Validation: 100%|█████████████████████| 125/125 [02:25<00:00,  1.16s/it]\n"
     ]
    },
    {
     "name": "stdout",
     "output_type": "stream",
     "text": [
      "Epoch 9: Validation Loss = 0.0675, Validation MAPE = 0.0649\n",
      "--> New Best Model Saved.\n"
     ]
    },
    {
     "name": "stderr",
     "output_type": "stream",
     "text": [
      "Epoch 10 Training: 100%|████████████████████| 500/500 [1:06:53<00:00,  8.03s/it]\n"
     ]
    },
    {
     "name": "stdout",
     "output_type": "stream",
     "text": [
      "Epoch 10 Training Loss: 0.064630\n"
     ]
    },
    {
     "name": "stderr",
     "output_type": "stream",
     "text": [
      "Epoch 10 Validation: 100%|████████████████████| 125/125 [02:36<00:00,  1.25s/it]\n"
     ]
    },
    {
     "name": "stdout",
     "output_type": "stream",
     "text": [
      "Epoch 10: Validation Loss = 0.0596, Validation MAPE = 0.0601\n",
      "--> New Best Model Saved.\n"
     ]
    },
    {
     "name": "stderr",
     "output_type": "stream",
     "text": [
      "Epoch 11 Training: 100%|████████████████████| 500/500 [1:03:21<00:00,  7.60s/it]\n"
     ]
    },
    {
     "name": "stdout",
     "output_type": "stream",
     "text": [
      "Epoch 11 Training Loss: 0.061286\n"
     ]
    },
    {
     "name": "stderr",
     "output_type": "stream",
     "text": [
      "Epoch 11 Validation: 100%|████████████████████| 125/125 [02:49<00:00,  1.36s/it]\n"
     ]
    },
    {
     "name": "stdout",
     "output_type": "stream",
     "text": [
      "Epoch 11: Validation Loss = 0.0597, Validation MAPE = 0.0589\n",
      "--> New Best Model Saved.\n"
     ]
    },
    {
     "name": "stderr",
     "output_type": "stream",
     "text": [
      "Epoch 12 Training: 100%|████████████████████| 500/500 [1:06:25<00:00,  7.97s/it]\n"
     ]
    },
    {
     "name": "stdout",
     "output_type": "stream",
     "text": [
      "Epoch 12 Training Loss: 0.059382\n"
     ]
    },
    {
     "name": "stderr",
     "output_type": "stream",
     "text": [
      "Epoch 12 Validation: 100%|████████████████████| 125/125 [02:42<00:00,  1.30s/it]\n"
     ]
    },
    {
     "name": "stdout",
     "output_type": "stream",
     "text": [
      "Epoch 12: Validation Loss = 0.0599, Validation MAPE = 0.0593\n"
     ]
    },
    {
     "name": "stderr",
     "output_type": "stream",
     "text": [
      "Epoch 13 Training: 100%|████████████████████| 500/500 [1:50:36<00:00, 13.27s/it]\n"
     ]
    },
    {
     "name": "stdout",
     "output_type": "stream",
     "text": [
      "Epoch 13 Training Loss: 0.057384\n"
     ]
    },
    {
     "name": "stderr",
     "output_type": "stream",
     "text": [
      "Epoch 13 Validation: 100%|████████████████████| 125/125 [02:54<00:00,  1.40s/it]\n"
     ]
    },
    {
     "name": "stdout",
     "output_type": "stream",
     "text": [
      "Epoch 13: Validation Loss = 0.0552, Validation MAPE = 0.0573\n",
      "--> New Best Model Saved.\n"
     ]
    },
    {
     "name": "stderr",
     "output_type": "stream",
     "text": [
      "Epoch 14 Training: 100%|████████████████████| 500/500 [1:17:56<00:00,  9.35s/it]\n"
     ]
    },
    {
     "name": "stdout",
     "output_type": "stream",
     "text": [
      "Epoch 14 Training Loss: 0.055641\n"
     ]
    },
    {
     "name": "stderr",
     "output_type": "stream",
     "text": [
      "Epoch 14 Validation: 100%|████████████████████| 125/125 [03:17<00:00,  1.58s/it]\n"
     ]
    },
    {
     "name": "stdout",
     "output_type": "stream",
     "text": [
      "Epoch 14: Validation Loss = 0.0542, Validation MAPE = 0.0563\n",
      "--> New Best Model Saved.\n"
     ]
    },
    {
     "name": "stderr",
     "output_type": "stream",
     "text": [
      "Epoch 15 Training: 100%|████████████████████| 500/500 [1:10:33<00:00,  8.47s/it]\n"
     ]
    },
    {
     "name": "stdout",
     "output_type": "stream",
     "text": [
      "Epoch 15 Training Loss: 0.053864\n"
     ]
    },
    {
     "name": "stderr",
     "output_type": "stream",
     "text": [
      "Epoch 15 Validation: 100%|████████████████████| 125/125 [02:53<00:00,  1.39s/it]\n"
     ]
    },
    {
     "name": "stdout",
     "output_type": "stream",
     "text": [
      "Epoch 15: Validation Loss = 0.0535, Validation MAPE = 0.0558\n",
      "--> New Best Model Saved.\n"
     ]
    },
    {
     "name": "stderr",
     "output_type": "stream",
     "text": [
      "Epoch 16 Training: 100%|████████████████████| 500/500 [1:06:00<00:00,  7.92s/it]\n"
     ]
    },
    {
     "name": "stdout",
     "output_type": "stream",
     "text": [
      "Epoch 16 Training Loss: 0.053088\n"
     ]
    },
    {
     "name": "stderr",
     "output_type": "stream",
     "text": [
      "Epoch 16 Validation: 100%|████████████████████| 125/125 [02:30<00:00,  1.21s/it]\n"
     ]
    },
    {
     "name": "stdout",
     "output_type": "stream",
     "text": [
      "Epoch 16: Validation Loss = 0.0525, Validation MAPE = 0.0548\n",
      "--> New Best Model Saved.\n"
     ]
    },
    {
     "name": "stderr",
     "output_type": "stream",
     "text": [
      "Epoch 17 Training: 100%|████████████████████| 500/500 [1:20:21<00:00,  9.64s/it]\n"
     ]
    },
    {
     "name": "stdout",
     "output_type": "stream",
     "text": [
      "Epoch 17 Training Loss: 0.052053\n"
     ]
    },
    {
     "name": "stderr",
     "output_type": "stream",
     "text": [
      "Epoch 17 Validation: 100%|████████████████████| 125/125 [03:00<00:00,  1.44s/it]\n"
     ]
    },
    {
     "name": "stdout",
     "output_type": "stream",
     "text": [
      "Epoch 17: Validation Loss = 0.0517, Validation MAPE = 0.0558\n"
     ]
    },
    {
     "name": "stderr",
     "output_type": "stream",
     "text": [
      "Epoch 18 Training: 100%|████████████████████| 500/500 [1:00:38<00:00,  7.28s/it]\n"
     ]
    },
    {
     "name": "stdout",
     "output_type": "stream",
     "text": [
      "Epoch 18 Training Loss: 0.051126\n"
     ]
    },
    {
     "name": "stderr",
     "output_type": "stream",
     "text": [
      "Epoch 18 Validation: 100%|████████████████████| 125/125 [02:56<00:00,  1.41s/it]\n"
     ]
    },
    {
     "name": "stdout",
     "output_type": "stream",
     "text": [
      "Epoch 18: Validation Loss = 0.0509, Validation MAPE = 0.0525\n",
      "--> New Best Model Saved.\n"
     ]
    },
    {
     "name": "stderr",
     "output_type": "stream",
     "text": [
      "Epoch 19 Training: 100%|████████████████████| 500/500 [1:06:46<00:00,  8.01s/it]\n"
     ]
    },
    {
     "name": "stdout",
     "output_type": "stream",
     "text": [
      "Epoch 19 Training Loss: 0.050492\n"
     ]
    },
    {
     "name": "stderr",
     "output_type": "stream",
     "text": [
      "Epoch 19 Validation: 100%|████████████████████| 125/125 [03:04<00:00,  1.48s/it]\n"
     ]
    },
    {
     "name": "stdout",
     "output_type": "stream",
     "text": [
      "Epoch 19: Validation Loss = 0.0511, Validation MAPE = 0.0533\n"
     ]
    },
    {
     "name": "stderr",
     "output_type": "stream",
     "text": [
      "Epoch 20 Training: 100%|████████████████████| 500/500 [1:07:40<00:00,  8.12s/it]\n"
     ]
    },
    {
     "name": "stdout",
     "output_type": "stream",
     "text": [
      "Epoch 20 Training Loss: 0.049700\n"
     ]
    },
    {
     "name": "stderr",
     "output_type": "stream",
     "text": [
      "Epoch 20 Validation: 100%|████████████████████| 125/125 [02:57<00:00,  1.42s/it]\n"
     ]
    },
    {
     "name": "stdout",
     "output_type": "stream",
     "text": [
      "Epoch 20: Validation Loss = 0.0498, Validation MAPE = 0.0516\n",
      "--> New Best Model Saved.\n"
     ]
    },
    {
     "name": "stderr",
     "output_type": "stream",
     "text": [
      "Epoch 21 Training: 100%|████████████████████| 500/500 [1:02:51<00:00,  7.54s/it]\n"
     ]
    },
    {
     "name": "stdout",
     "output_type": "stream",
     "text": [
      "Epoch 21 Training Loss: 0.049328\n"
     ]
    },
    {
     "name": "stderr",
     "output_type": "stream",
     "text": [
      "Epoch 21 Validation: 100%|████████████████████| 125/125 [02:48<00:00,  1.35s/it]\n"
     ]
    },
    {
     "name": "stdout",
     "output_type": "stream",
     "text": [
      "Epoch 21: Validation Loss = 0.0504, Validation MAPE = 0.0535\n"
     ]
    },
    {
     "name": "stderr",
     "output_type": "stream",
     "text": [
      "Epoch 22 Training: 100%|████████████████████| 500/500 [1:02:18<00:00,  7.48s/it]\n"
     ]
    },
    {
     "name": "stdout",
     "output_type": "stream",
     "text": [
      "Epoch 22 Training Loss: 0.049015\n"
     ]
    },
    {
     "name": "stderr",
     "output_type": "stream",
     "text": [
      "Epoch 22 Validation: 100%|████████████████████| 125/125 [02:40<00:00,  1.28s/it]\n"
     ]
    },
    {
     "name": "stdout",
     "output_type": "stream",
     "text": [
      "Epoch 22: Validation Loss = 0.0511, Validation MAPE = 0.0516\n"
     ]
    },
    {
     "name": "stderr",
     "output_type": "stream",
     "text": [
      "Epoch 23 Training: 100%|████████████████████| 500/500 [1:18:53<00:00,  9.47s/it]\n"
     ]
    },
    {
     "name": "stdout",
     "output_type": "stream",
     "text": [
      "Epoch 23 Training Loss: 0.048064\n"
     ]
    },
    {
     "name": "stderr",
     "output_type": "stream",
     "text": [
      "Epoch 23 Validation: 100%|████████████████████| 125/125 [03:25<00:00,  1.64s/it]\n"
     ]
    },
    {
     "name": "stdout",
     "output_type": "stream",
     "text": [
      "Epoch 23: Validation Loss = 0.0486, Validation MAPE = 0.0513\n",
      "--> New Best Model Saved.\n"
     ]
    },
    {
     "name": "stderr",
     "output_type": "stream",
     "text": [
      "Epoch 24 Training: 100%|████████████████████| 500/500 [1:17:57<00:00,  9.36s/it]\n"
     ]
    },
    {
     "name": "stdout",
     "output_type": "stream",
     "text": [
      "Epoch 24 Training Loss: 0.047844\n"
     ]
    },
    {
     "name": "stderr",
     "output_type": "stream",
     "text": [
      "Epoch 24 Validation: 100%|████████████████████| 125/125 [02:45<00:00,  1.33s/it]\n"
     ]
    },
    {
     "name": "stdout",
     "output_type": "stream",
     "text": [
      "Epoch 24: Validation Loss = 0.0495, Validation MAPE = 0.0515\n"
     ]
    },
    {
     "name": "stderr",
     "output_type": "stream",
     "text": [
      "Epoch 25 Training: 100%|████████████████████| 500/500 [1:09:42<00:00,  8.37s/it]\n"
     ]
    },
    {
     "name": "stdout",
     "output_type": "stream",
     "text": [
      "Epoch 25 Training Loss: 0.047638\n"
     ]
    },
    {
     "name": "stderr",
     "output_type": "stream",
     "text": [
      "Epoch 25 Validation: 100%|████████████████████| 125/125 [02:44<00:00,  1.32s/it]\n"
     ]
    },
    {
     "name": "stdout",
     "output_type": "stream",
     "text": [
      "Epoch 25: Validation Loss = 0.0495, Validation MAPE = 0.0508\n",
      "--> New Best Model Saved.\n"
     ]
    },
    {
     "name": "stderr",
     "output_type": "stream",
     "text": [
      "Epoch 26 Training: 100%|████████████████████| 500/500 [1:07:22<00:00,  8.09s/it]\n"
     ]
    },
    {
     "name": "stdout",
     "output_type": "stream",
     "text": [
      "Epoch 26 Training Loss: 0.047509\n"
     ]
    },
    {
     "name": "stderr",
     "output_type": "stream",
     "text": [
      "Epoch 26 Validation: 100%|████████████████████| 125/125 [02:42<00:00,  1.30s/it]\n"
     ]
    },
    {
     "name": "stdout",
     "output_type": "stream",
     "text": [
      "Epoch 26: Validation Loss = 0.0483, Validation MAPE = 0.0502\n",
      "--> New Best Model Saved.\n"
     ]
    },
    {
     "name": "stderr",
     "output_type": "stream",
     "text": [
      "Epoch 27 Training: 100%|████████████████████| 500/500 [1:11:10<00:00,  8.54s/it]\n"
     ]
    },
    {
     "name": "stdout",
     "output_type": "stream",
     "text": [
      "Epoch 27 Training Loss: 0.046470\n"
     ]
    },
    {
     "name": "stderr",
     "output_type": "stream",
     "text": [
      "Epoch 27 Validation: 100%|████████████████████| 125/125 [02:46<00:00,  1.33s/it]\n"
     ]
    },
    {
     "name": "stdout",
     "output_type": "stream",
     "text": [
      "Epoch 27: Validation Loss = 0.0481, Validation MAPE = 0.0506\n"
     ]
    },
    {
     "name": "stderr",
     "output_type": "stream",
     "text": [
      "Epoch 28 Training: 100%|████████████████████| 500/500 [1:05:30<00:00,  7.86s/it]\n"
     ]
    },
    {
     "name": "stdout",
     "output_type": "stream",
     "text": [
      "Epoch 28 Training Loss: 0.046424\n"
     ]
    },
    {
     "name": "stderr",
     "output_type": "stream",
     "text": [
      "Epoch 28 Validation: 100%|████████████████████| 125/125 [02:33<00:00,  1.23s/it]\n"
     ]
    },
    {
     "name": "stdout",
     "output_type": "stream",
     "text": [
      "Epoch 28: Validation Loss = 0.0471, Validation MAPE = 0.0499\n",
      "--> New Best Model Saved.\n"
     ]
    },
    {
     "name": "stderr",
     "output_type": "stream",
     "text": [
      "Epoch 29 Training: 100%|████████████████████| 500/500 [1:01:16<00:00,  7.35s/it]\n"
     ]
    },
    {
     "name": "stdout",
     "output_type": "stream",
     "text": [
      "Epoch 29 Training Loss: 0.046050\n"
     ]
    },
    {
     "name": "stderr",
     "output_type": "stream",
     "text": [
      "Epoch 29 Validation: 100%|████████████████████| 125/125 [02:38<00:00,  1.27s/it]\n"
     ]
    },
    {
     "name": "stdout",
     "output_type": "stream",
     "text": [
      "Epoch 29: Validation Loss = 0.0505, Validation MAPE = 0.0560\n"
     ]
    },
    {
     "name": "stderr",
     "output_type": "stream",
     "text": [
      "Epoch 30 Training: 100%|████████████████████| 500/500 [1:05:06<00:00,  7.81s/it]\n"
     ]
    },
    {
     "name": "stdout",
     "output_type": "stream",
     "text": [
      "Epoch 30 Training Loss: 0.046009\n"
     ]
    },
    {
     "name": "stderr",
     "output_type": "stream",
     "text": [
      "Epoch 30 Validation: 100%|████████████████████| 125/125 [02:35<00:00,  1.24s/it]\n"
     ]
    },
    {
     "name": "stdout",
     "output_type": "stream",
     "text": [
      "Epoch 30: Validation Loss = 0.0470, Validation MAPE = 0.0498\n",
      "--> New Best Model Saved.\n"
     ]
    },
    {
     "name": "stderr",
     "output_type": "stream",
     "text": [
      "Epoch 31 Training: 100%|████████████████████| 500/500 [1:00:55<00:00,  7.31s/it]\n"
     ]
    },
    {
     "name": "stdout",
     "output_type": "stream",
     "text": [
      "Epoch 31 Training Loss: 0.045362\n"
     ]
    },
    {
     "name": "stderr",
     "output_type": "stream",
     "text": [
      "Epoch 31 Validation: 100%|████████████████████| 125/125 [02:33<00:00,  1.23s/it]\n"
     ]
    },
    {
     "name": "stdout",
     "output_type": "stream",
     "text": [
      "Epoch 31: Validation Loss = 0.0473, Validation MAPE = 0.0512\n"
     ]
    },
    {
     "name": "stderr",
     "output_type": "stream",
     "text": [
      "Epoch 32 Training: 100%|██████████████████████| 500/500 [54:27<00:00,  6.53s/it]\n"
     ]
    },
    {
     "name": "stdout",
     "output_type": "stream",
     "text": [
      "Epoch 32 Training Loss: 0.045212\n"
     ]
    },
    {
     "name": "stderr",
     "output_type": "stream",
     "text": [
      "Epoch 32 Validation: 100%|████████████████████| 125/125 [02:35<00:00,  1.24s/it]\n"
     ]
    },
    {
     "name": "stdout",
     "output_type": "stream",
     "text": [
      "Epoch 32: Validation Loss = 0.0461, Validation MAPE = 0.0488\n",
      "--> New Best Model Saved.\n"
     ]
    },
    {
     "name": "stderr",
     "output_type": "stream",
     "text": [
      "Epoch 33 Training: 100%|████████████████████| 500/500 [1:11:18<00:00,  8.56s/it]\n"
     ]
    },
    {
     "name": "stdout",
     "output_type": "stream",
     "text": [
      "Epoch 33 Training Loss: 0.045210\n"
     ]
    },
    {
     "name": "stderr",
     "output_type": "stream",
     "text": [
      "Epoch 33 Validation: 100%|████████████████████| 125/125 [02:52<00:00,  1.38s/it]\n"
     ]
    },
    {
     "name": "stdout",
     "output_type": "stream",
     "text": [
      "Epoch 33: Validation Loss = 0.0469, Validation MAPE = 0.0510\n"
     ]
    },
    {
     "name": "stderr",
     "output_type": "stream",
     "text": [
      "Epoch 34 Training: 100%|████████████████████| 500/500 [1:12:36<00:00,  8.71s/it]\n"
     ]
    },
    {
     "name": "stdout",
     "output_type": "stream",
     "text": [
      "Epoch 34 Training Loss: 0.044639\n"
     ]
    },
    {
     "name": "stderr",
     "output_type": "stream",
     "text": [
      "Epoch 34 Validation: 100%|████████████████████| 125/125 [02:26<00:00,  1.17s/it]\n"
     ]
    },
    {
     "name": "stdout",
     "output_type": "stream",
     "text": [
      "Epoch 34: Validation Loss = 0.0460, Validation MAPE = 0.0488\n"
     ]
    },
    {
     "name": "stderr",
     "output_type": "stream",
     "text": [
      "Epoch 35 Training: 100%|████████████████████| 500/500 [1:03:40<00:00,  7.64s/it]\n"
     ]
    },
    {
     "name": "stdout",
     "output_type": "stream",
     "text": [
      "Epoch 35 Training Loss: 0.044348\n"
     ]
    },
    {
     "name": "stderr",
     "output_type": "stream",
     "text": [
      "Epoch 35 Validation: 100%|████████████████████| 125/125 [02:37<00:00,  1.26s/it]\n"
     ]
    },
    {
     "name": "stdout",
     "output_type": "stream",
     "text": [
      "Epoch 35: Validation Loss = 0.0471, Validation MAPE = 0.0489\n"
     ]
    },
    {
     "name": "stderr",
     "output_type": "stream",
     "text": [
      "Epoch 36 Training: 100%|████████████████████| 500/500 [1:16:10<00:00,  9.14s/it]\n"
     ]
    },
    {
     "name": "stdout",
     "output_type": "stream",
     "text": [
      "Epoch 36 Training Loss: 0.044232\n"
     ]
    },
    {
     "name": "stderr",
     "output_type": "stream",
     "text": [
      "Epoch 36 Validation: 100%|████████████████████| 125/125 [02:33<00:00,  1.23s/it]\n"
     ]
    },
    {
     "name": "stdout",
     "output_type": "stream",
     "text": [
      "Epoch 36: Validation Loss = 0.0459, Validation MAPE = 0.0486\n",
      "--> New Best Model Saved.\n"
     ]
    },
    {
     "name": "stderr",
     "output_type": "stream",
     "text": [
      "Epoch 37 Training: 100%|████████████████████| 500/500 [1:02:09<00:00,  7.46s/it]\n"
     ]
    },
    {
     "name": "stdout",
     "output_type": "stream",
     "text": [
      "Epoch 37 Training Loss: 0.043792\n"
     ]
    },
    {
     "name": "stderr",
     "output_type": "stream",
     "text": [
      "Epoch 37 Validation: 100%|████████████████████| 125/125 [02:36<00:00,  1.25s/it]\n"
     ]
    },
    {
     "name": "stdout",
     "output_type": "stream",
     "text": [
      "Epoch 37: Validation Loss = 0.0466, Validation MAPE = 0.0484\n",
      "--> New Best Model Saved.\n"
     ]
    },
    {
     "name": "stderr",
     "output_type": "stream",
     "text": [
      "Epoch 38 Training: 100%|████████████████████| 500/500 [1:24:33<00:00, 10.15s/it]\n"
     ]
    },
    {
     "name": "stdout",
     "output_type": "stream",
     "text": [
      "Epoch 38 Training Loss: 0.043615\n"
     ]
    },
    {
     "name": "stderr",
     "output_type": "stream",
     "text": [
      "Epoch 38 Validation: 100%|████████████████████| 125/125 [03:01<00:00,  1.45s/it]\n"
     ]
    },
    {
     "name": "stdout",
     "output_type": "stream",
     "text": [
      "Epoch 38: Validation Loss = 0.0454, Validation MAPE = 0.0480\n",
      "--> New Best Model Saved.\n"
     ]
    },
    {
     "name": "stderr",
     "output_type": "stream",
     "text": [
      "Epoch 39 Training: 100%|████████████████████| 500/500 [1:11:57<00:00,  8.64s/it]\n"
     ]
    },
    {
     "name": "stdout",
     "output_type": "stream",
     "text": [
      "Epoch 39 Training Loss: 0.043372\n"
     ]
    },
    {
     "name": "stderr",
     "output_type": "stream",
     "text": [
      "Epoch 39 Validation: 100%|████████████████████| 125/125 [02:46<00:00,  1.34s/it]\n"
     ]
    },
    {
     "name": "stdout",
     "output_type": "stream",
     "text": [
      "Epoch 39: Validation Loss = 0.0455, Validation MAPE = 0.0478\n",
      "--> New Best Model Saved.\n"
     ]
    },
    {
     "name": "stderr",
     "output_type": "stream",
     "text": [
      "Epoch 40 Training: 100%|████████████████████| 500/500 [1:15:13<00:00,  9.03s/it]\n"
     ]
    },
    {
     "name": "stdout",
     "output_type": "stream",
     "text": [
      "Epoch 40 Training Loss: 0.043181\n"
     ]
    },
    {
     "name": "stderr",
     "output_type": "stream",
     "text": [
      "Epoch 40 Validation: 100%|████████████████████| 125/125 [02:16<00:00,  1.09s/it]\n"
     ]
    },
    {
     "name": "stdout",
     "output_type": "stream",
     "text": [
      "Epoch 40: Validation Loss = 0.0454, Validation MAPE = 0.0486\n"
     ]
    },
    {
     "name": "stderr",
     "output_type": "stream",
     "text": [
      "Epoch 41 Training: 100%|████████████████████| 500/500 [1:09:59<00:00,  8.40s/it]\n"
     ]
    },
    {
     "name": "stdout",
     "output_type": "stream",
     "text": [
      "Epoch 41 Training Loss: 0.043172\n"
     ]
    },
    {
     "name": "stderr",
     "output_type": "stream",
     "text": [
      "Epoch 41 Validation: 100%|████████████████████| 125/125 [03:23<00:00,  1.62s/it]\n"
     ]
    },
    {
     "name": "stdout",
     "output_type": "stream",
     "text": [
      "Epoch 41: Validation Loss = 0.0455, Validation MAPE = 0.0481\n"
     ]
    },
    {
     "name": "stderr",
     "output_type": "stream",
     "text": [
      "Epoch 42 Training: 100%|████████████████████| 500/500 [1:18:59<00:00,  9.48s/it]\n"
     ]
    },
    {
     "name": "stdout",
     "output_type": "stream",
     "text": [
      "Epoch 42 Training Loss: 0.043003\n"
     ]
    },
    {
     "name": "stderr",
     "output_type": "stream",
     "text": [
      "Epoch 42 Validation: 100%|████████████████████| 125/125 [02:47<00:00,  1.34s/it]\n"
     ]
    },
    {
     "name": "stdout",
     "output_type": "stream",
     "text": [
      "Epoch 42: Validation Loss = 0.0454, Validation MAPE = 0.0487\n"
     ]
    },
    {
     "name": "stderr",
     "output_type": "stream",
     "text": [
      "Epoch 43 Training: 100%|████████████████████| 500/500 [1:09:58<00:00,  8.40s/it]\n"
     ]
    },
    {
     "name": "stdout",
     "output_type": "stream",
     "text": [
      "Epoch 43 Training Loss: 0.042800\n"
     ]
    },
    {
     "name": "stderr",
     "output_type": "stream",
     "text": [
      "Epoch 43 Validation: 100%|████████████████████| 125/125 [02:30<00:00,  1.21s/it]\n"
     ]
    },
    {
     "name": "stdout",
     "output_type": "stream",
     "text": [
      "Epoch 43: Validation Loss = 0.0449, Validation MAPE = 0.0479\n"
     ]
    },
    {
     "name": "stderr",
     "output_type": "stream",
     "text": [
      "Epoch 44 Training: 100%|████████████████████| 500/500 [1:09:12<00:00,  8.31s/it]\n"
     ]
    },
    {
     "name": "stdout",
     "output_type": "stream",
     "text": [
      "Epoch 44 Training Loss: 0.041459\n"
     ]
    },
    {
     "name": "stderr",
     "output_type": "stream",
     "text": [
      "Epoch 44 Validation: 100%|████████████████████| 125/125 [02:38<00:00,  1.27s/it]\n"
     ]
    },
    {
     "name": "stdout",
     "output_type": "stream",
     "text": [
      "Epoch 44: Validation Loss = 0.0439, Validation MAPE = 0.0466\n",
      "--> New Best Model Saved.\n"
     ]
    },
    {
     "name": "stderr",
     "output_type": "stream",
     "text": [
      "Epoch 45 Training: 100%|████████████████████| 500/500 [1:06:45<00:00,  8.01s/it]\n"
     ]
    },
    {
     "name": "stdout",
     "output_type": "stream",
     "text": [
      "Epoch 45 Training Loss: 0.040996\n"
     ]
    },
    {
     "name": "stderr",
     "output_type": "stream",
     "text": [
      "Epoch 45 Validation: 100%|████████████████████| 125/125 [02:29<00:00,  1.20s/it]\n"
     ]
    },
    {
     "name": "stdout",
     "output_type": "stream",
     "text": [
      "Epoch 45: Validation Loss = 0.0442, Validation MAPE = 0.0475\n"
     ]
    },
    {
     "name": "stderr",
     "output_type": "stream",
     "text": [
      "Epoch 46 Training: 100%|████████████████████| 500/500 [1:09:35<00:00,  8.35s/it]\n"
     ]
    },
    {
     "name": "stdout",
     "output_type": "stream",
     "text": [
      "Epoch 46 Training Loss: 0.041167\n"
     ]
    },
    {
     "name": "stderr",
     "output_type": "stream",
     "text": [
      "Epoch 46 Validation: 100%|████████████████████| 125/125 [02:30<00:00,  1.20s/it]\n"
     ]
    },
    {
     "name": "stdout",
     "output_type": "stream",
     "text": [
      "Epoch 46: Validation Loss = 0.0440, Validation MAPE = 0.0474\n"
     ]
    },
    {
     "name": "stderr",
     "output_type": "stream",
     "text": [
      "Epoch 47 Training: 100%|████████████████████| 500/500 [1:08:17<00:00,  8.20s/it]\n"
     ]
    },
    {
     "name": "stdout",
     "output_type": "stream",
     "text": [
      "Epoch 47 Training Loss: 0.040932\n"
     ]
    },
    {
     "name": "stderr",
     "output_type": "stream",
     "text": [
      "Epoch 47 Validation: 100%|████████████████████| 125/125 [02:29<00:00,  1.19s/it]\n"
     ]
    },
    {
     "name": "stdout",
     "output_type": "stream",
     "text": [
      "Epoch 47: Validation Loss = 0.0438, Validation MAPE = 0.0474\n"
     ]
    },
    {
     "name": "stderr",
     "output_type": "stream",
     "text": [
      "Epoch 48 Training: 100%|████████████████████| 500/500 [1:08:12<00:00,  8.18s/it]\n"
     ]
    },
    {
     "name": "stdout",
     "output_type": "stream",
     "text": [
      "Epoch 48 Training Loss: 0.040949\n"
     ]
    },
    {
     "name": "stderr",
     "output_type": "stream",
     "text": [
      "Epoch 48 Validation: 100%|████████████████████| 125/125 [02:28<00:00,  1.19s/it]\n"
     ]
    },
    {
     "name": "stdout",
     "output_type": "stream",
     "text": [
      "Epoch 48: Validation Loss = 0.0436, Validation MAPE = 0.0460\n",
      "--> New Best Model Saved.\n"
     ]
    },
    {
     "name": "stderr",
     "output_type": "stream",
     "text": [
      "Epoch 49 Training: 100%|████████████████████| 500/500 [1:10:52<00:00,  8.51s/it]\n"
     ]
    },
    {
     "name": "stdout",
     "output_type": "stream",
     "text": [
      "Epoch 49 Training Loss: 0.040593\n"
     ]
    },
    {
     "name": "stderr",
     "output_type": "stream",
     "text": [
      "Epoch 49 Validation: 100%|████████████████████| 125/125 [02:34<00:00,  1.23s/it]\n"
     ]
    },
    {
     "name": "stdout",
     "output_type": "stream",
     "text": [
      "Epoch 49: Validation Loss = 0.0437, Validation MAPE = 0.0463\n"
     ]
    },
    {
     "name": "stderr",
     "output_type": "stream",
     "text": [
      "Epoch 50 Training: 100%|████████████████████| 500/500 [1:05:52<00:00,  7.90s/it]\n"
     ]
    },
    {
     "name": "stdout",
     "output_type": "stream",
     "text": [
      "Epoch 50 Training Loss: 0.040635\n"
     ]
    },
    {
     "name": "stderr",
     "output_type": "stream",
     "text": [
      "Epoch 50 Validation: 100%|████████████████████| 125/125 [02:39<00:00,  1.28s/it]\n"
     ]
    },
    {
     "name": "stdout",
     "output_type": "stream",
     "text": [
      "Epoch 50: Validation Loss = 0.0443, Validation MAPE = 0.0466\n"
     ]
    },
    {
     "name": "stderr",
     "output_type": "stream",
     "text": [
      "Epoch 51 Training: 100%|████████████████████| 500/500 [1:15:26<00:00,  9.05s/it]\n"
     ]
    },
    {
     "name": "stdout",
     "output_type": "stream",
     "text": [
      "Epoch 51 Training Loss: 0.040473\n"
     ]
    },
    {
     "name": "stderr",
     "output_type": "stream",
     "text": [
      "Epoch 51 Validation: 100%|████████████████████| 125/125 [02:36<00:00,  1.25s/it]\n"
     ]
    },
    {
     "name": "stdout",
     "output_type": "stream",
     "text": [
      "Epoch 51: Validation Loss = 0.0439, Validation MAPE = 0.0466\n"
     ]
    },
    {
     "name": "stderr",
     "output_type": "stream",
     "text": [
      "Epoch 52 Training: 100%|████████████████████| 500/500 [1:08:44<00:00,  8.25s/it]\n"
     ]
    },
    {
     "name": "stdout",
     "output_type": "stream",
     "text": [
      "Epoch 52 Training Loss: 0.040424\n"
     ]
    },
    {
     "name": "stderr",
     "output_type": "stream",
     "text": [
      "Epoch 52 Validation: 100%|████████████████████| 125/125 [02:27<00:00,  1.18s/it]\n"
     ]
    },
    {
     "name": "stdout",
     "output_type": "stream",
     "text": [
      "Epoch 52: Validation Loss = 0.0438, Validation MAPE = 0.0469\n"
     ]
    },
    {
     "name": "stderr",
     "output_type": "stream",
     "text": [
      "Epoch 53 Training: 100%|████████████████████| 500/500 [1:15:42<00:00,  9.09s/it]\n"
     ]
    },
    {
     "name": "stdout",
     "output_type": "stream",
     "text": [
      "Epoch 53 Training Loss: 0.039722\n"
     ]
    },
    {
     "name": "stderr",
     "output_type": "stream",
     "text": [
      "Epoch 53 Validation: 100%|████████████████████| 125/125 [02:57<00:00,  1.42s/it]\n"
     ]
    },
    {
     "name": "stdout",
     "output_type": "stream",
     "text": [
      "Epoch 53: Validation Loss = 0.0432, Validation MAPE = 0.0461\n"
     ]
    },
    {
     "name": "stderr",
     "output_type": "stream",
     "text": [
      "Epoch 54 Training: 100%|████████████████████| 500/500 [1:41:30<00:00, 12.18s/it]\n"
     ]
    },
    {
     "name": "stdout",
     "output_type": "stream",
     "text": [
      "Epoch 54 Training Loss: 0.039629\n"
     ]
    },
    {
     "name": "stderr",
     "output_type": "stream",
     "text": [
      "Epoch 54 Validation: 100%|████████████████████| 125/125 [02:43<00:00,  1.31s/it]\n"
     ]
    },
    {
     "name": "stdout",
     "output_type": "stream",
     "text": [
      "Epoch 54: Validation Loss = 0.0431, Validation MAPE = 0.0463\n"
     ]
    },
    {
     "name": "stderr",
     "output_type": "stream",
     "text": [
      "Epoch 55 Training: 100%|████████████████████| 500/500 [1:25:06<00:00, 10.21s/it]\n"
     ]
    },
    {
     "name": "stdout",
     "output_type": "stream",
     "text": [
      "Epoch 55 Training Loss: 0.039429\n"
     ]
    },
    {
     "name": "stderr",
     "output_type": "stream",
     "text": [
      "Epoch 55 Validation: 100%|████████████████████| 125/125 [02:32<00:00,  1.22s/it]\n"
     ]
    },
    {
     "name": "stdout",
     "output_type": "stream",
     "text": [
      "Epoch 55: Validation Loss = 0.0430, Validation MAPE = 0.0456\n",
      "--> New Best Model Saved.\n"
     ]
    },
    {
     "name": "stderr",
     "output_type": "stream",
     "text": [
      "Epoch 56 Training: 100%|████████████████████| 500/500 [1:07:14<00:00,  8.07s/it]\n"
     ]
    },
    {
     "name": "stdout",
     "output_type": "stream",
     "text": [
      "Epoch 56 Training Loss: 0.039291\n"
     ]
    },
    {
     "name": "stderr",
     "output_type": "stream",
     "text": [
      "Epoch 56 Validation: 100%|████████████████████| 125/125 [02:26<00:00,  1.17s/it]\n"
     ]
    },
    {
     "name": "stdout",
     "output_type": "stream",
     "text": [
      "Epoch 56: Validation Loss = 0.0431, Validation MAPE = 0.0458\n"
     ]
    },
    {
     "name": "stderr",
     "output_type": "stream",
     "text": [
      "Epoch 57 Training: 100%|████████████████████| 500/500 [1:03:58<00:00,  7.68s/it]\n"
     ]
    },
    {
     "name": "stdout",
     "output_type": "stream",
     "text": [
      "Epoch 57 Training Loss: 0.039281\n"
     ]
    },
    {
     "name": "stderr",
     "output_type": "stream",
     "text": [
      "Epoch 57 Validation: 100%|████████████████████| 125/125 [02:28<00:00,  1.19s/it]\n"
     ]
    },
    {
     "name": "stdout",
     "output_type": "stream",
     "text": [
      "Epoch 57: Validation Loss = 0.0432, Validation MAPE = 0.0460\n"
     ]
    },
    {
     "name": "stderr",
     "output_type": "stream",
     "text": [
      "Epoch 58 Training: 100%|████████████████████| 500/500 [1:26:20<00:00, 10.36s/it]\n"
     ]
    },
    {
     "name": "stdout",
     "output_type": "stream",
     "text": [
      "Epoch 58 Training Loss: 0.039245\n"
     ]
    },
    {
     "name": "stderr",
     "output_type": "stream",
     "text": [
      "Epoch 58 Validation: 100%|████████████████████| 125/125 [02:46<00:00,  1.34s/it]\n"
     ]
    },
    {
     "name": "stdout",
     "output_type": "stream",
     "text": [
      "Epoch 58: Validation Loss = 0.0436, Validation MAPE = 0.0471\n"
     ]
    },
    {
     "name": "stderr",
     "output_type": "stream",
     "text": [
      "Epoch 59 Training: 100%|████████████████████| 500/500 [1:25:10<00:00, 10.22s/it]\n"
     ]
    },
    {
     "name": "stdout",
     "output_type": "stream",
     "text": [
      "Epoch 59 Training Loss: 0.039254\n"
     ]
    },
    {
     "name": "stderr",
     "output_type": "stream",
     "text": [
      "Epoch 59 Validation: 100%|████████████████████| 125/125 [03:03<00:00,  1.47s/it]\n"
     ]
    },
    {
     "name": "stdout",
     "output_type": "stream",
     "text": [
      "Epoch 59: Validation Loss = 0.0434, Validation MAPE = 0.0460\n"
     ]
    },
    {
     "name": "stderr",
     "output_type": "stream",
     "text": [
      "Epoch 60 Training: 100%|████████████████████| 500/500 [1:16:19<00:00,  9.16s/it]\n"
     ]
    },
    {
     "name": "stdout",
     "output_type": "stream",
     "text": [
      "Epoch 60 Training Loss: 0.038795\n"
     ]
    },
    {
     "name": "stderr",
     "output_type": "stream",
     "text": [
      "Epoch 60 Validation: 100%|████████████████████| 125/125 [02:44<00:00,  1.32s/it]\n"
     ]
    },
    {
     "name": "stdout",
     "output_type": "stream",
     "text": [
      "Epoch 60: Validation Loss = 0.0430, Validation MAPE = 0.0452\n",
      "--> New Best Model Saved.\n"
     ]
    },
    {
     "name": "stderr",
     "output_type": "stream",
     "text": [
      "Epoch 61 Training: 100%|████████████████████| 500/500 [1:15:44<00:00,  9.09s/it]\n"
     ]
    },
    {
     "name": "stdout",
     "output_type": "stream",
     "text": [
      "Epoch 61 Training Loss: 0.038784\n"
     ]
    },
    {
     "name": "stderr",
     "output_type": "stream",
     "text": [
      "Epoch 61 Validation: 100%|████████████████████| 125/125 [02:37<00:00,  1.26s/it]\n"
     ]
    },
    {
     "name": "stdout",
     "output_type": "stream",
     "text": [
      "Epoch 61: Validation Loss = 0.0430, Validation MAPE = 0.0461\n"
     ]
    },
    {
     "name": "stderr",
     "output_type": "stream",
     "text": [
      "Epoch 62 Training: 100%|████████████████████| 500/500 [1:08:58<00:00,  8.28s/it]\n"
     ]
    },
    {
     "name": "stdout",
     "output_type": "stream",
     "text": [
      "Epoch 62 Training Loss: 0.038707\n"
     ]
    },
    {
     "name": "stderr",
     "output_type": "stream",
     "text": [
      "Epoch 62 Validation: 100%|████████████████████| 125/125 [02:31<00:00,  1.21s/it]\n"
     ]
    },
    {
     "name": "stdout",
     "output_type": "stream",
     "text": [
      "Epoch 62: Validation Loss = 0.0427, Validation MAPE = 0.0460\n"
     ]
    },
    {
     "name": "stderr",
     "output_type": "stream",
     "text": [
      "Epoch 63 Training: 100%|████████████████████| 500/500 [1:06:51<00:00,  8.02s/it]\n"
     ]
    },
    {
     "name": "stdout",
     "output_type": "stream",
     "text": [
      "Epoch 63 Training Loss: 0.038584\n"
     ]
    },
    {
     "name": "stderr",
     "output_type": "stream",
     "text": [
      "Epoch 63 Validation: 100%|████████████████████| 125/125 [02:38<00:00,  1.27s/it]\n"
     ]
    },
    {
     "name": "stdout",
     "output_type": "stream",
     "text": [
      "Epoch 63: Validation Loss = 0.0429, Validation MAPE = 0.0454\n"
     ]
    },
    {
     "name": "stderr",
     "output_type": "stream",
     "text": [
      "Epoch 64 Training: 100%|████████████████████| 500/500 [1:11:16<00:00,  8.55s/it]\n"
     ]
    },
    {
     "name": "stdout",
     "output_type": "stream",
     "text": [
      "Epoch 64 Training Loss: 0.038559\n"
     ]
    },
    {
     "name": "stderr",
     "output_type": "stream",
     "text": [
      "Epoch 64 Validation: 100%|████████████████████| 125/125 [02:33<00:00,  1.23s/it]\n"
     ]
    },
    {
     "name": "stdout",
     "output_type": "stream",
     "text": [
      "Epoch 64: Validation Loss = 0.0429, Validation MAPE = 0.0458\n"
     ]
    },
    {
     "name": "stderr",
     "output_type": "stream",
     "text": [
      "Epoch 65 Training: 100%|████████████████████| 500/500 [1:08:56<00:00,  8.27s/it]\n"
     ]
    },
    {
     "name": "stdout",
     "output_type": "stream",
     "text": [
      "Epoch 65 Training Loss: 0.038351\n"
     ]
    },
    {
     "name": "stderr",
     "output_type": "stream",
     "text": [
      "Epoch 65 Validation: 100%|████████████████████| 125/125 [02:37<00:00,  1.26s/it]\n"
     ]
    },
    {
     "name": "stdout",
     "output_type": "stream",
     "text": [
      "Epoch 65: Validation Loss = 0.0426, Validation MAPE = 0.0453\n"
     ]
    },
    {
     "name": "stderr",
     "output_type": "stream",
     "text": [
      "Epoch 66 Training: 100%|████████████████████| 500/500 [1:12:42<00:00,  8.72s/it]\n"
     ]
    },
    {
     "name": "stdout",
     "output_type": "stream",
     "text": [
      "Epoch 66 Training Loss: 0.038441\n"
     ]
    },
    {
     "name": "stderr",
     "output_type": "stream",
     "text": [
      "Epoch 66 Validation: 100%|████████████████████| 125/125 [02:40<00:00,  1.28s/it]\n"
     ]
    },
    {
     "name": "stdout",
     "output_type": "stream",
     "text": [
      "Epoch 66: Validation Loss = 0.0425, Validation MAPE = 0.0454\n"
     ]
    },
    {
     "name": "stderr",
     "output_type": "stream",
     "text": [
      "Epoch 67 Training: 100%|████████████████████| 500/500 [1:10:17<00:00,  8.43s/it]\n"
     ]
    },
    {
     "name": "stdout",
     "output_type": "stream",
     "text": [
      "Epoch 67 Training Loss: 0.038318\n"
     ]
    },
    {
     "name": "stderr",
     "output_type": "stream",
     "text": [
      "Epoch 67 Validation: 100%|████████████████████| 125/125 [02:27<00:00,  1.18s/it]\n"
     ]
    },
    {
     "name": "stdout",
     "output_type": "stream",
     "text": [
      "Epoch 67: Validation Loss = 0.0428, Validation MAPE = 0.0456\n"
     ]
    },
    {
     "name": "stderr",
     "output_type": "stream",
     "text": [
      "Epoch 68 Training: 100%|████████████████████| 500/500 [1:13:40<00:00,  8.84s/it]\n"
     ]
    },
    {
     "name": "stdout",
     "output_type": "stream",
     "text": [
      "Epoch 68 Training Loss: 0.038106\n"
     ]
    },
    {
     "name": "stderr",
     "output_type": "stream",
     "text": [
      "Epoch 68 Validation: 100%|████████████████████| 125/125 [04:08<00:00,  1.99s/it]\n"
     ]
    },
    {
     "name": "stdout",
     "output_type": "stream",
     "text": [
      "Epoch 68: Validation Loss = 0.0427, Validation MAPE = 0.0454\n"
     ]
    },
    {
     "name": "stderr",
     "output_type": "stream",
     "text": [
      "Epoch 69 Training: 100%|████████████████████| 500/500 [1:38:54<00:00, 11.87s/it]\n"
     ]
    },
    {
     "name": "stdout",
     "output_type": "stream",
     "text": [
      "Epoch 69 Training Loss: 0.038052\n"
     ]
    },
    {
     "name": "stderr",
     "output_type": "stream",
     "text": [
      "Epoch 69 Validation: 100%|████████████████████| 125/125 [03:14<00:00,  1.56s/it]\n"
     ]
    },
    {
     "name": "stdout",
     "output_type": "stream",
     "text": [
      "Epoch 69: Validation Loss = 0.0427, Validation MAPE = 0.0454\n"
     ]
    },
    {
     "name": "stderr",
     "output_type": "stream",
     "text": [
      "Epoch 70 Training: 100%|████████████████████| 500/500 [1:13:51<00:00,  8.86s/it]\n"
     ]
    },
    {
     "name": "stdout",
     "output_type": "stream",
     "text": [
      "Epoch 70 Training Loss: 0.037993\n"
     ]
    },
    {
     "name": "stderr",
     "output_type": "stream",
     "text": [
      "Epoch 70 Validation: 100%|████████████████████| 125/125 [02:21<00:00,  1.13s/it]"
     ]
    },
    {
     "name": "stdout",
     "output_type": "stream",
     "text": [
      "Epoch 70: Validation Loss = 0.0426, Validation MAPE = 0.0454\n",
      "Early stopping at epoch 70 (patience 10)\n",
      "Training complete. Best Validation MAPE: 0.045188\n"
     ]
    },
    {
     "name": "stderr",
     "output_type": "stream",
     "text": [
      "\n"
     ]
    }
   ],
   "source": [
    "train_res_attention_unet(train_loader, val_loader, model, optimizer, loss_fn, scheduler, max_epochs=100, patience=10, checkpoint_path=\"checkpoint_resattunet.pth\")"
   ]
  },
  {
   "cell_type": "code",
   "execution_count": 249,
   "id": "7d18b6ae-67b2-403e-bcd5-53b64573ecec",
   "metadata": {},
   "outputs": [
    {
     "name": "stderr",
     "output_type": "stream",
     "text": [
      "/var/folders/6s/xngjz95x6js23_vsrqlkp1l80000gn/T/ipykernel_88322/3018411337.py:1: FutureWarning: You are using `torch.load` with `weights_only=False` (the current default value), which uses the default pickle module implicitly. It is possible to construct malicious pickle data which will execute arbitrary code during unpickling (See https://github.com/pytorch/pytorch/blob/main/SECURITY.md#untrusted-models for more details). In a future release, the default value for `weights_only` will be flipped to `True`. This limits the functions that could be executed during unpickling. Arbitrary objects will no longer be allowed to be loaded via this mode unless they are explicitly allowlisted by the user via `torch.serialization.add_safe_globals`. We recommend you start setting `weights_only=True` for any use case where you don't have full control of the loaded file. Please open an issue on GitHub for any issues related to this experimental feature.\n",
      "  checkpoint = torch.load(\"checkpoint_resattunet.pth\", map_location=device)\n"
     ]
    },
    {
     "data": {
      "text/plain": [
       "<All keys matched successfully>"
      ]
     },
     "execution_count": 249,
     "metadata": {},
     "output_type": "execute_result"
    }
   ],
   "source": [
    "checkpoint = torch.load(\"checkpoint_resattunet.pth\", map_location=device)\n",
    "model.load_state_dict(checkpoint[\"model_state_dict\"])"
   ]
  },
  {
   "cell_type": "code",
   "execution_count": 251,
   "id": "e474243c-e97a-4e72-b264-95e500b1b78b",
   "metadata": {},
   "outputs": [
    {
     "name": "stderr",
     "output_type": "stream",
     "text": [
      "Creating Submission: 100%|████████████████████| 150/150 [01:01<00:00,  2.46it/s]\n"
     ]
    }
   ],
   "source": [
    "evaluate_and_submit(model, test_paths, \"submission_res_attn_unet.npz\")"
   ]
  },
  {
   "cell_type": "code",
   "execution_count": null,
   "id": "fe0e1eec-01bf-4251-81fc-48f8cb4264bc",
   "metadata": {},
   "outputs": [],
   "source": []
  }
 ],
 "metadata": {
  "kernelspec": {
   "display_name": "Python 3 (ipykernel)",
   "language": "python",
   "name": "python3"
  },
  "language_info": {
   "codemirror_mode": {
    "name": "ipython",
    "version": 3
   },
   "file_extension": ".py",
   "mimetype": "text/x-python",
   "name": "python",
   "nbconvert_exporter": "python",
   "pygments_lexer": "ipython3",
   "version": "3.12.7"
  }
 },
 "nbformat": 4,
 "nbformat_minor": 5
}
